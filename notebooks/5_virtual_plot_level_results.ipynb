{
 "cells": [
  {
   "cell_type": "code",
   "execution_count": 1,
   "id": "01cee4ec",
   "metadata": {
    "ExecuteTime": {
     "end_time": "2022-03-23T11:34:45.710358Z",
     "start_time": "2022-03-23T11:34:41.812763Z"
    }
   },
   "outputs": [],
   "source": [
    "from drone_detector.utils import *\n",
    "from drone_detector.imports import *\n",
    "import os\n",
    "from drone_detector.metrics import *\n",
    "import warnings\n",
    "warnings.filterwarnings(\"ignore\")"
   ]
  },
  {
   "cell_type": "code",
   "execution_count": 2,
   "id": "0abcf998",
   "metadata": {
    "ExecuteTime": {
     "end_time": "2022-03-23T11:34:45.714805Z",
     "start_time": "2022-03-23T11:34:45.712236Z"
    }
   },
   "outputs": [],
   "source": [
    "def intersection_over_area(poly_1, poly_2):\n",
    "    \"Proportion of the overlap of poly_1 and poly_2 of the area of poly_1\"\n",
    "    area_intersection = poly_1.intersection(poly_2).area\n",
    "    return area_intersection / poly_1.area"
   ]
  },
  {
   "cell_type": "code",
   "execution_count": 3,
   "id": "589a14b5",
   "metadata": {
    "ExecuteTime": {
     "end_time": "2022-03-23T11:34:45.752728Z",
     "start_time": "2022-03-23T11:34:45.716445Z"
    }
   },
   "outputs": [],
   "source": [
    "def merge_polys(gdf, area_threshold=0.2):\n",
    "    polys_to_merge = {}\n",
    "    polys_to_keep = []\n",
    "    gdf = gdf.copy()\n",
    "    gdf.reset_index(drop=True, inplace=True)\n",
    "    for ann in tqdm(gdf.itertuples()):\n",
    "        overlaps = gdf[gdf.geometry.intersects(ann.geometry)].copy()\n",
    "        if len(overlaps) == 1: \n",
    "            polys_to_keep.append(ann.Index)\n",
    "            continue\n",
    "        overlaps = overlaps[overlaps.index != ann.Index]\n",
    "        overlaps['pcts'] = overlaps.apply(lambda row: intersection_over_area(ann.geometry, row.geometry), axis=1)\n",
    "        to_merge = overlaps[overlaps.pcts > area_threshold] # merge if intersection over area is larger than thr\n",
    "        if len(to_merge) > 0:\n",
    "            polys_to_merge[ann.Index] = [i for i in to_merge.index]\n",
    "        else:\n",
    "            polys_to_keep.append(ann.Index)\n",
    "            \n",
    "    merge_pairs = []\n",
    "    for key, val in polys_to_merge.items():\n",
    "        other_vals = ([polys_to_merge[k] for k in val if k in polys_to_merge.keys()])\n",
    "        other_vals = [i for s in other_vals for i in s]\n",
    "        merge_vals = [val]\n",
    "        merge_vals.append(list(set([key] + other_vals)))\n",
    "        merge_vals = sorted([v for s in merge_vals for v in s])\n",
    "        merge_pairs.append(tuple(merge_vals))\n",
    "        \n",
    "    new_polys = {'label': [], 'score': [], 'geometry': []}\n",
    "    for ixs in list(set(merge_pairs)):\n",
    "        tempdf = gdf.iloc[list(ixs)]\n",
    "        label = tempdf.label.unique()[0]\n",
    "        scores = tempdf.score.unique()\n",
    "        avg_score = np.mean(scores)\n",
    "        geoms = tempdf.geometry\n",
    "        new_polys['label'].append(label)\n",
    "        new_polys['score'].append(avg_score)\n",
    "        new_polys['geometry'].append(shapely.ops.unary_union(geoms))\n",
    "    final_gdf = pd.concat([gdf.iloc[polys_to_keep], gpd.GeoDataFrame(new_polys, crs=gdf.crs)])\n",
    "    final_gdf['geometry'] = final_gdf.apply(lambda row: fix_multipolys(row.geometry) \n",
    "                                            if row.geometry.type == 'MultiPolygon' \n",
    "                                            else shapely.geometry.Polygon(row.geometry.exterior), axis=1)\n",
    "    final_gdf.drop_duplicates(subset=['geometry'], inplace=True)\n",
    "    return final_gdf"
   ]
  },
  {
   "cell_type": "markdown",
   "id": "b660acd0",
   "metadata": {},
   "source": [
    "# Virtual plot level object detection results"
   ]
  },
  {
   "cell_type": "markdown",
   "id": "3610fd9c",
   "metadata": {},
   "source": [
    "# Hiidenportti test set"
   ]
  },
  {
   "cell_type": "markdown",
   "id": "c7183fa2",
   "metadata": {},
   "source": [
    "As Hiidenportti test set is so small, we can run predictions here if needed."
   ]
  },
  {
   "cell_type": "markdown",
   "id": "860a8c75",
   "metadata": {},
   "source": [
    "## No overlap, no post-processing"
   ]
  },
  {
   "cell_type": "code",
   "execution_count": 4,
   "id": "aa605f8f",
   "metadata": {
    "ExecuteTime": {
     "end_time": "2022-03-23T11:34:48.265499Z",
     "start_time": "2022-03-23T11:34:45.754128Z"
    }
   },
   "outputs": [],
   "source": [
    "from drone_detector.engines.detectron2.predict import predict_instance_masks\n",
    "raw_path = Path('../../data/raw/hiidenportti/virtual_plots/buffered_test/images')\n",
    "test_rasters = [raw_path/f for f in os.listdir(raw_path) if f.endswith('tif')]"
   ]
  },
  {
   "cell_type": "code",
   "execution_count": 5,
   "id": "3125c860",
   "metadata": {
    "ExecuteTime": {
     "end_time": "2022-03-23T11:34:48.269284Z",
     "start_time": "2022-03-23T11:34:48.266905Z"
    }
   },
   "outputs": [],
   "source": [
    "pred_outpath = Path('../results/hp_unprocessed/')\n",
    "if not os.path.exists(pred_outpath):\n",
    "    shutil.copytree('../results/template_folder/', pred_outpath)"
   ]
  },
  {
   "cell_type": "code",
   "execution_count": null,
   "id": "fd2885f5",
   "metadata": {
    "ExecuteTime": {
     "end_time": "2022-03-21T11:41:50.117057Z",
     "start_time": "2022-03-21T11:36:03.013305Z"
    }
   },
   "outputs": [],
   "source": [
    "for t in test_rasters:\n",
    "    outfile_name = pred_outpath/f'raw_preds/{str(t).split(\"/\")[-1][:-4]}.geojson'\n",
    "    predict_instance_masks(path_to_model_config='../models/hiidenportti/mask_rcnn_X_101_32x8d_FPN_3x/config.yaml', \n",
    "                           path_to_image=str(t),\n",
    "                           outfile=str(outfile_name),\n",
    "                           processing_dir='temp',\n",
    "                           tile_size=512,\n",
    "                           tile_overlap=0,\n",
    "                           smooth_preds=False,\n",
    "                           use_tta=True,\n",
    "                           coco_set='../../data/processed/hiidenportti/hiidenportti_valid.json',\n",
    "                           postproc_results=False)"
   ]
  },
  {
   "cell_type": "code",
   "execution_count": 6,
   "id": "45bec7c9",
   "metadata": {
    "ExecuteTime": {
     "end_time": "2022-03-23T11:34:48.301874Z",
     "start_time": "2022-03-23T11:34:48.270717Z"
    }
   },
   "outputs": [],
   "source": [
    "raw_res_path = Path('../results/hp_unprocessed/')\n",
    "truth_shps = sorted([raw_res_path/'vector_tiles'/f for f in os.listdir(raw_res_path/'vector_tiles')])\n",
    "raw_shps = sorted([raw_res_path/'raw_preds'/f for f in os.listdir(raw_res_path/'raw_preds')])\n",
    "rasters = sorted([raw_res_path/'raster_tiles'/f for f in os.listdir(raw_res_path/'raster_tiles')])"
   ]
  },
  {
   "cell_type": "markdown",
   "id": "785a056a",
   "metadata": {},
   "source": [
    "\"Raw\" predictions are modified as such:\n",
    "1. Invalid polygons are fixed to be valid polygons. MultiPolygon masks are replaced with the largest single polygon of the multipoly.\n",
    "2. Extent is clipped to be same as the corresponding ground truth data\n",
    "3. Label numbering is adjusted\n",
    "4. Polygons with area less than 16² pixels are discarded"
   ]
  },
  {
   "cell_type": "code",
   "execution_count": 7,
   "id": "3e385b70",
   "metadata": {
    "ExecuteTime": {
     "end_time": "2022-03-23T11:34:54.963842Z",
     "start_time": "2022-03-23T11:34:48.303288Z"
    }
   },
   "outputs": [],
   "source": [
    "for p, t in zip(raw_shps, truth_shps):\n",
    "    temp_pred = gpd.read_file(p)\n",
    "    temp_truth = gpd.read_file(t)\n",
    "    temp_pred['geometry'] = temp_pred.apply(lambda row: fix_multipolys(row.geometry) \n",
    "                                            if row.geometry.type == 'MultiPolygon' \n",
    "                                            else shapely.geometry.Polygon(row.geometry.exterior), axis=1)\n",
    "    temp_pred['label'] += 1\n",
    "    temp_pred = gpd.clip(temp_pred, box(*temp_truth.total_bounds))\n",
    "    temp_pred = temp_pred[temp_pred.geometry.area > 16*0.04**2]\n",
    "    temp_pred.to_file(raw_res_path/'predicted_vectors'/p.name)"
   ]
  },
  {
   "cell_type": "code",
   "execution_count": 8,
   "id": "7152246b",
   "metadata": {
    "ExecuteTime": {
     "end_time": "2022-03-23T11:34:54.969917Z",
     "start_time": "2022-03-23T11:34:54.966099Z"
    }
   },
   "outputs": [],
   "source": [
    "pred_shps = sorted([raw_res_path/'predicted_vectors'/f for f in os.listdir(raw_res_path/'predicted_vectors')])"
   ]
  },
  {
   "cell_type": "code",
   "execution_count": 9,
   "id": "54e45c59",
   "metadata": {
    "ExecuteTime": {
     "end_time": "2022-03-23T11:34:56.572561Z",
     "start_time": "2022-03-23T11:34:54.971283Z"
    }
   },
   "outputs": [],
   "source": [
    "truths = None\n",
    "preds = None\n",
    "\n",
    "for p, t in zip(pred_shps, truth_shps):\n",
    "    temp_pred = gpd.read_file(p)\n",
    "    temp_truth = gpd.read_file(t)\n",
    "    if truths is None:\n",
    "        truths = temp_truth\n",
    "        preds = temp_pred\n",
    "    else:\n",
    "        truths = pd.concat((truths, temp_truth))\n",
    "        preds = pd.concat((preds, temp_pred))"
   ]
  },
  {
   "cell_type": "code",
   "execution_count": 10,
   "id": "6164e6d1",
   "metadata": {
    "ExecuteTime": {
     "end_time": "2022-03-23T11:34:56.604198Z",
     "start_time": "2022-03-23T11:34:56.574473Z"
    }
   },
   "outputs": [],
   "source": [
    "preds['layer'] = preds.apply(lambda row: 'groundwood' if row.label == 2 else 'uprightwood', axis=1)"
   ]
  },
  {
   "cell_type": "code",
   "execution_count": 11,
   "id": "f28838fa",
   "metadata": {
    "ExecuteTime": {
     "end_time": "2022-03-23T11:34:56.614938Z",
     "start_time": "2022-03-23T11:34:56.606118Z"
    }
   },
   "outputs": [
    {
     "data": {
      "text/plain": [
       "((2516, 4), (1547, 6))"
      ]
     },
     "execution_count": 11,
     "metadata": {},
     "output_type": "execute_result"
    }
   ],
   "source": [
    "preds.shape, truths.shape"
   ]
  },
  {
   "cell_type": "code",
   "execution_count": 12,
   "id": "d8f1ed44",
   "metadata": {
    "ExecuteTime": {
     "end_time": "2022-03-23T11:34:56.626334Z",
     "start_time": "2022-03-23T11:34:56.616502Z"
    }
   },
   "outputs": [
    {
     "data": {
      "text/plain": [
       "2    2253\n",
       "1     263\n",
       "Name: label, dtype: int64"
      ]
     },
     "execution_count": 12,
     "metadata": {},
     "output_type": "execute_result"
    }
   ],
   "source": [
    "preds.label.value_counts()"
   ]
  },
  {
   "cell_type": "code",
   "execution_count": 13,
   "id": "a128e76d",
   "metadata": {
    "ExecuteTime": {
     "end_time": "2022-03-23T11:34:58.723136Z",
     "start_time": "2022-03-23T11:34:56.627564Z"
    }
   },
   "outputs": [],
   "source": [
    "dis_truths = truths.dissolve(by='layer')\n",
    "dis_preds = preds.dissolve(by='layer')"
   ]
  },
  {
   "cell_type": "code",
   "execution_count": 14,
   "id": "b334cd43",
   "metadata": {
    "ExecuteTime": {
     "end_time": "2022-03-23T11:34:59.613350Z",
     "start_time": "2022-03-23T11:34:58.724533Z"
    }
   },
   "outputs": [
    {
     "data": {
      "text/plain": [
       "layer\n",
       "groundwood     0.496085\n",
       "uprightwood    0.503708\n",
       "dtype: float64"
      ]
     },
     "execution_count": 14,
     "metadata": {},
     "output_type": "execute_result"
    }
   ],
   "source": [
    "poly_IoU(dis_truths, dis_preds)"
   ]
  },
  {
   "cell_type": "code",
   "execution_count": 15,
   "id": "5b822685",
   "metadata": {
    "ExecuteTime": {
     "end_time": "2022-03-23T11:34:59.617485Z",
     "start_time": "2022-03-23T11:34:59.614595Z"
    }
   },
   "outputs": [],
   "source": [
    "deadwood_categories = [{'supercategory': 'deadwood', 'id':1, 'name':'uprightwood'},\n",
    "                 \n",
    "                       {'supercategory': 'deadwood', 'id':2, 'name':'groundwood'}]\n",
    "\n",
    "raw_coco_eval = GisCOCOeval(raw_res_path, raw_res_path, \n",
    "                            None, None, deadwood_categories)"
   ]
  },
  {
   "cell_type": "code",
   "execution_count": 16,
   "id": "56a6633d",
   "metadata": {
    "ExecuteTime": {
     "end_time": "2022-03-23T11:35:06.960384Z",
     "start_time": "2022-03-23T11:34:59.618898Z"
    }
   },
   "outputs": [
    {
     "data": {
      "application/vnd.jupyter.widget-view+json": {
       "model_id": "9c594a05a2434f1b8f697a609b79e3e3",
       "version_major": 2,
       "version_minor": 0
      },
      "text/plain": [
       "0it [00:00, ?it/s]"
      ]
     },
     "metadata": {},
     "output_type": "display_data"
    },
    {
     "data": {
      "application/vnd.jupyter.widget-view+json": {
       "model_id": "9726079cee2c497381a7da1b080f60c0",
       "version_major": 2,
       "version_minor": 0
      },
      "text/plain": [
       "  0%|          | 0/5 [00:00<?, ?it/s]"
      ]
     },
     "metadata": {},
     "output_type": "display_data"
    }
   ],
   "source": [
    "raw_coco_eval.prepare_data(gt_label_col='layer')"
   ]
  },
  {
   "cell_type": "code",
   "execution_count": 17,
   "id": "5578e2fb",
   "metadata": {
    "ExecuteTime": {
     "end_time": "2022-03-23T11:35:07.056281Z",
     "start_time": "2022-03-23T11:35:06.962501Z"
    }
   },
   "outputs": [
    {
     "name": "stdout",
     "output_type": "stream",
     "text": [
      "loading annotations into memory...\n",
      "Done (t=0.05s)\n",
      "creating index...\n",
      "index created!\n",
      "Loading and preparing results...\n",
      "DONE (t=0.04s)\n",
      "creating index...\n",
      "index created!\n"
     ]
    }
   ],
   "source": [
    "raw_coco_eval.prepare_eval()"
   ]
  },
  {
   "cell_type": "code",
   "execution_count": 18,
   "id": "b43be11e",
   "metadata": {
    "ExecuteTime": {
     "end_time": "2022-03-23T11:35:07.059833Z",
     "start_time": "2022-03-23T11:35:07.057668Z"
    }
   },
   "outputs": [],
   "source": [
    "raw_coco_eval.coco_eval.params.maxDets = [1000, 10000]"
   ]
  },
  {
   "cell_type": "code",
   "execution_count": 19,
   "id": "ac31ea92",
   "metadata": {
    "ExecuteTime": {
     "end_time": "2022-03-23T11:35:43.315737Z",
     "start_time": "2022-03-23T11:35:07.061242Z"
    }
   },
   "outputs": [
    {
     "name": "stdout",
     "output_type": "stream",
     "text": [
      "\n",
      "Evaluating for category uprightwood\n",
      "Running per image evaluation...\n",
      "Evaluate annotation type *segm*\n",
      "DONE (t=0.58s).\n",
      "Accumulating evaluation results...\n",
      "DONE (t=0.01s).\n",
      " Average Precision  (AP) @[ IoU=0.50:0.95 | area=   all | maxDets=10000 ] = 0.251\n",
      " Average Precision  (AP) @[ IoU=0.50      | area=   all | maxDets=10000 ] = 0.507\n",
      " Average Precision  (AP) @[ IoU=0.75      | area=   all | maxDets=10000 ] = 0.240\n",
      " Average Precision  (AP) @[ IoU=0.50:0.95 | area= small | maxDets=10000 ] = 0.164\n",
      " Average Precision  (AP) @[ IoU=0.50:0.95 | area=medium | maxDets=10000 ] = 0.300\n",
      " Average Precision  (AP) @[ IoU=0.50:0.95 | area= large | maxDets=10000 ] = 0.900\n",
      " Average Recall     (AR) @[ IoU=0.50:0.95 | area=   all | maxDets=1000 ] = 0.346\n",
      " Average Recall     (AR) @[ IoU=0.50:0.95 | area= small | maxDets=1000 ] = 0.275\n",
      " Average Recall     (AR) @[ IoU=0.50:0.95 | area=medium | maxDets=1000 ] = 0.386\n",
      " Average Recall     (AR) @[ IoU=0.50:0.95 | area= large | maxDets=1000 ] = 0.900\n",
      "\n",
      "Evaluating for category groundwood\n",
      "Running per image evaluation...\n",
      "Evaluate annotation type *segm*\n",
      "DONE (t=17.66s).\n",
      "Accumulating evaluation results...\n",
      "DONE (t=0.04s).\n",
      " Average Precision  (AP) @[ IoU=0.50:0.95 | area=   all | maxDets=10000 ] = 0.216\n",
      " Average Precision  (AP) @[ IoU=0.50      | area=   all | maxDets=10000 ] = 0.547\n",
      " Average Precision  (AP) @[ IoU=0.75      | area=   all | maxDets=10000 ] = 0.113\n",
      " Average Precision  (AP) @[ IoU=0.50:0.95 | area= small | maxDets=10000 ] = 0.218\n",
      " Average Precision  (AP) @[ IoU=0.50:0.95 | area=medium | maxDets=10000 ] = 0.161\n",
      " Average Precision  (AP) @[ IoU=0.50:0.95 | area= large | maxDets=10000 ] = -1.000\n",
      " Average Recall     (AR) @[ IoU=0.50:0.95 | area=   all | maxDets=1000 ] = 0.372\n",
      " Average Recall     (AR) @[ IoU=0.50:0.95 | area= small | maxDets=1000 ] = 0.375\n",
      " Average Recall     (AR) @[ IoU=0.50:0.95 | area=medium | maxDets=1000 ] = 0.225\n",
      " Average Recall     (AR) @[ IoU=0.50:0.95 | area= large | maxDets=1000 ] = -1.000\n",
      "\n",
      "Evaluating for full data...\n",
      "Running per image evaluation...\n",
      "Evaluate annotation type *segm*\n",
      "DONE (t=17.89s).\n",
      "Accumulating evaluation results...\n",
      "DONE (t=0.05s).\n",
      " Average Precision  (AP) @[ IoU=0.50:0.95 | area=   all | maxDets=10000 ] = 0.234\n",
      " Average Precision  (AP) @[ IoU=0.50      | area=   all | maxDets=10000 ] = 0.527\n",
      " Average Precision  (AP) @[ IoU=0.75      | area=   all | maxDets=10000 ] = 0.177\n",
      " Average Precision  (AP) @[ IoU=0.50:0.95 | area= small | maxDets=10000 ] = 0.191\n",
      " Average Precision  (AP) @[ IoU=0.50:0.95 | area=medium | maxDets=10000 ] = 0.231\n",
      " Average Precision  (AP) @[ IoU=0.50:0.95 | area= large | maxDets=10000 ] = 0.900\n",
      " Average Recall     (AR) @[ IoU=0.50:0.95 | area=   all | maxDets=1000 ] = 0.359\n",
      " Average Recall     (AR) @[ IoU=0.50:0.95 | area= small | maxDets=1000 ] = 0.325\n",
      " Average Recall     (AR) @[ IoU=0.50:0.95 | area=medium | maxDets=1000 ] = 0.306\n",
      " Average Recall     (AR) @[ IoU=0.50:0.95 | area= large | maxDets=1000 ] = 0.900\n"
     ]
    }
   ],
   "source": [
    "raw_coco_eval.evaluate()"
   ]
  },
  {
   "cell_type": "code",
   "execution_count": 24,
   "id": "b74f24f2",
   "metadata": {
    "ExecuteTime": {
     "end_time": "2022-03-23T11:40:31.796068Z",
     "start_time": "2022-03-23T11:40:31.793152Z"
    }
   },
   "outputs": [],
   "source": [
    "fp_cols = [f'FP_{np.round(i, 2)}' for i in np.arange(0.5, 1.04, 0.05)]\n",
    "tp_cols = [f'TP_{np.round(i, 2)}' for i in np.arange(0.5, 1.03, 0.05)]"
   ]
  },
  {
   "cell_type": "code",
   "execution_count": 26,
   "id": "34971eaa",
   "metadata": {
    "ExecuteTime": {
     "end_time": "2022-03-23T11:42:20.029041Z",
     "start_time": "2022-03-23T11:42:20.026345Z"
    }
   },
   "outputs": [],
   "source": [
    "from tqdm import tqdm\n",
    "tqdm.pandas()"
   ]
  },
  {
   "cell_type": "code",
   "execution_count": 33,
   "id": "9f4cf30a",
   "metadata": {
    "ExecuteTime": {
     "end_time": "2022-03-23T11:47:25.346695Z",
     "start_time": "2022-03-23T11:46:47.415197Z"
    }
   },
   "outputs": [
    {
     "name": "stderr",
     "output_type": "stream",
     "text": [
      "100%|██████████| 1547/1547 [00:11<00:00, 129.90it/s]\n",
      "100%|██████████| 2516/2516 [00:25<00:00, 97.63it/s] \n"
     ]
    }
   ],
   "source": [
    "tp_truths = truths.copy()\n",
    "tp_truths.rename(columns={'groundwood':'label'}, inplace=True)\n",
    "truth_sindex = tp_truths.sindex\n",
    "fp_preds = preds.copy()\n",
    "pred_sindex = fp_preds.sindex\n",
    "tp_truths[tp_cols] = tp_truths.progress_apply(lambda row: is_true_positive(row, fp_preds, pred_sindex), \n",
    "                                              axis=1, result_type='expand')\n",
    "fp_preds[fp_cols] = fp_preds.progress_apply(lambda row: is_false_positive(row, tp_truths, truth_sindex,\n",
    "                                                                            fp_preds, pred_sindex),\n",
    "                                            axis=1, result_type='expand')"
   ]
  },
  {
   "cell_type": "code",
   "execution_count": 94,
   "id": "45b9d799",
   "metadata": {
    "ExecuteTime": {
     "end_time": "2022-03-23T12:10:18.456163Z",
     "start_time": "2022-03-23T12:10:18.426947Z"
    }
   },
   "outputs": [
    {
     "data": {
      "text/html": [
       "<div>\n",
       "<style scoped>\n",
       "    .dataframe tbody tr th:only-of-type {\n",
       "        vertical-align: middle;\n",
       "    }\n",
       "\n",
       "    .dataframe tbody tr th {\n",
       "        vertical-align: top;\n",
       "    }\n",
       "\n",
       "    .dataframe thead th {\n",
       "        text-align: right;\n",
       "    }\n",
       "</style>\n",
       "<table border=\"1\" class=\"dataframe\">\n",
       "  <thead>\n",
       "    <tr style=\"text-align: right;\">\n",
       "      <th>FP_0.5</th>\n",
       "      <th>FP</th>\n",
       "      <th>TP</th>\n",
       "      <th>All</th>\n",
       "    </tr>\n",
       "    <tr>\n",
       "      <th>layer</th>\n",
       "      <th></th>\n",
       "      <th></th>\n",
       "      <th></th>\n",
       "    </tr>\n",
       "  </thead>\n",
       "  <tbody>\n",
       "    <tr>\n",
       "      <th>groundwood</th>\n",
       "      <td>1338</td>\n",
       "      <td>915</td>\n",
       "      <td>2253</td>\n",
       "    </tr>\n",
       "    <tr>\n",
       "      <th>uprightwood</th>\n",
       "      <td>87</td>\n",
       "      <td>176</td>\n",
       "      <td>263</td>\n",
       "    </tr>\n",
       "    <tr>\n",
       "      <th>All</th>\n",
       "      <td>1425</td>\n",
       "      <td>1091</td>\n",
       "      <td>2516</td>\n",
       "    </tr>\n",
       "  </tbody>\n",
       "</table>\n",
       "</div>"
      ],
      "text/plain": [
       "FP_0.5         FP    TP   All\n",
       "layer                        \n",
       "groundwood   1338   915  2253\n",
       "uprightwood    87   176   263\n",
       "All          1425  1091  2516"
      ]
     },
     "execution_count": 94,
     "metadata": {},
     "output_type": "execute_result"
    }
   ],
   "source": [
    "pd.crosstab(fp_preds.layer, fp_preds['FP_0.5'], margins=True)"
   ]
  },
  {
   "cell_type": "code",
   "execution_count": 96,
   "id": "9a6770e9",
   "metadata": {
    "ExecuteTime": {
     "end_time": "2022-03-23T12:10:36.642310Z",
     "start_time": "2022-03-23T12:10:36.614842Z"
    }
   },
   "outputs": [
    {
     "data": {
      "text/html": [
       "<div>\n",
       "<style scoped>\n",
       "    .dataframe tbody tr th:only-of-type {\n",
       "        vertical-align: middle;\n",
       "    }\n",
       "\n",
       "    .dataframe tbody tr th {\n",
       "        vertical-align: top;\n",
       "    }\n",
       "\n",
       "    .dataframe thead th {\n",
       "        text-align: right;\n",
       "    }\n",
       "</style>\n",
       "<table border=\"1\" class=\"dataframe\">\n",
       "  <thead>\n",
       "    <tr style=\"text-align: right;\">\n",
       "      <th>TP_0.5</th>\n",
       "      <th>FN</th>\n",
       "      <th>TP</th>\n",
       "      <th>All</th>\n",
       "    </tr>\n",
       "    <tr>\n",
       "      <th>layer</th>\n",
       "      <th></th>\n",
       "      <th></th>\n",
       "      <th></th>\n",
       "    </tr>\n",
       "  </thead>\n",
       "  <tbody>\n",
       "    <tr>\n",
       "      <th>groundwood</th>\n",
       "      <td>348</td>\n",
       "      <td>915</td>\n",
       "      <td>1263</td>\n",
       "    </tr>\n",
       "    <tr>\n",
       "      <th>uprightwood</th>\n",
       "      <td>108</td>\n",
       "      <td>176</td>\n",
       "      <td>284</td>\n",
       "    </tr>\n",
       "    <tr>\n",
       "      <th>All</th>\n",
       "      <td>456</td>\n",
       "      <td>1091</td>\n",
       "      <td>1547</td>\n",
       "    </tr>\n",
       "  </tbody>\n",
       "</table>\n",
       "</div>"
      ],
      "text/plain": [
       "TP_0.5        FN    TP   All\n",
       "layer                       \n",
       "groundwood   348   915  1263\n",
       "uprightwood  108   176   284\n",
       "All          456  1091  1547"
      ]
     },
     "execution_count": 96,
     "metadata": {},
     "output_type": "execute_result"
    }
   ],
   "source": [
    "pd.crosstab(tp_truths.layer, tp_truths['TP_0.5'], margins=True)"
   ]
  },
  {
   "cell_type": "markdown",
   "id": "23911867",
   "metadata": {},
   "source": [
    "$Precision = \\frac{tp}{tp+fp}, Recall = \\frac{tp}{tp+fn}$"
   ]
  },
  {
   "cell_type": "code",
   "execution_count": 106,
   "id": "1a47dcf3",
   "metadata": {
    "ExecuteTime": {
     "end_time": "2022-03-23T12:18:29.688622Z",
     "start_time": "2022-03-23T12:18:29.686034Z"
    }
   },
   "outputs": [
    {
     "name": "stdout",
     "output_type": "stream",
     "text": [
      "Precision for fallen deadwood with IoU threshold of 0.5 is 0.41\n",
      "Recall for fallen deadwood with IoU threshold of 0.5 is 0.72\n"
     ]
    }
   ],
   "source": [
    "print(f'Precision for fallen deadwood with IoU threshold of 0.5 is {(915/2253):.2f}')\n",
    "print(f'Recall for fallen deadwood with IoU threshold of 0.5 is {(915/1263):.2f}')"
   ]
  },
  {
   "cell_type": "code",
   "execution_count": 107,
   "id": "de3612b6",
   "metadata": {
    "ExecuteTime": {
     "end_time": "2022-03-23T12:18:30.547672Z",
     "start_time": "2022-03-23T12:18:30.323876Z"
    }
   },
   "outputs": [
    {
     "name": "stdout",
     "output_type": "stream",
     "text": [
      "Precision for standing deadwood with IoU threshold of 0.5 is 0.67\n",
      "Recall for standing deadwood with IoU threshold of 0.5 is 0.62\n"
     ]
    }
   ],
   "source": [
    "print(f'Precision for standing deadwood with IoU threshold of 0.5 is {(176/263):.2f}')\n",
    "print(f'Recall for standing deadwood with IoU threshold of 0.5 is {(176/284):.2f}')"
   ]
  },
  {
   "cell_type": "code",
   "execution_count": 108,
   "id": "eaee9475",
   "metadata": {
    "ExecuteTime": {
     "end_time": "2022-03-23T12:18:31.023789Z",
     "start_time": "2022-03-23T12:18:31.021197Z"
    }
   },
   "outputs": [
    {
     "name": "stdout",
     "output_type": "stream",
     "text": [
      "Overall precision with IoU threshold of 0.5 is 0.43\n",
      "Overall recall with IoU threshold of 0.5 is 0.71\n"
     ]
    }
   ],
   "source": [
    "print(f'Overall precision with IoU threshold of 0.5 is {(1091/2516):.2f}')\n",
    "print(f'Overall recall with IoU threshold of 0.5 is {(1091/1547):.2f}')"
   ]
  },
  {
   "cell_type": "markdown",
   "id": "6a74b385",
   "metadata": {},
   "source": [
    "## Half patch overlap and edge filtering"
   ]
  },
  {
   "cell_type": "markdown",
   "id": "56b80997",
   "metadata": {},
   "source": [
    "For this postprocessing method, mosaics are tiled so that the sliding window moves half tile lenght. For example, when moving row-wise, the first bottom-left coordinates are (0,0), and next ones (256,0), (512,0)... and same  is done column-wise. We discard all predicted polygons whose centroid point is not within the half-overlap area. For instance, for first tile (bottom left (0,0)), the x-coordinate must be between 128 and 384, for second tile (256,0) between 384 and 640, and likewise for y-coordinates.\n",
    "\n",
    "The images used for predictions are buffered so that the whole area is covered, considering the discarding process."
   ]
  },
  {
   "cell_type": "code",
   "execution_count": 109,
   "id": "5993df7d",
   "metadata": {
    "ExecuteTime": {
     "end_time": "2022-03-23T12:19:04.086571Z",
     "start_time": "2022-03-23T12:19:04.084103Z"
    }
   },
   "outputs": [],
   "source": [
    "pred_outpath = Path('../results/hp_overlap_filter/')\n",
    "if not os.path.exists(pred_outpath):\n",
    "    shutil.copytree('../results/template_folder/', pred_outpath)"
   ]
  },
  {
   "cell_type": "code",
   "execution_count": null,
   "id": "ff263433",
   "metadata": {
    "ExecuteTime": {
     "end_time": "2022-03-23T12:19:06.378953Z",
     "start_time": "2022-03-23T12:19:04.452030Z"
    }
   },
   "outputs": [],
   "source": [
    "raw_path = Path('../../data/raw/hiidenportti/virtual_plots/buffered_test/images')\n",
    "test_rasters = [raw_path/f for f in os.listdir(raw_path) if f.endswith('tif')]\n",
    "\n",
    "for t in test_rasters:\n",
    "    outfile_name = pred_outpath/f'raw_preds/{str(t).split(\"/\")[-1][:-4]}.geojson'\n",
    "    predict_instance_masks(path_to_model_config='../models/hiidenportti/mask_rcnn_X_101_32x8d_FPN_3x/config.yaml', \n",
    "                           path_to_image=str(t),\n",
    "                           outfile=str(outfile_name),\n",
    "                           processing_dir='temp',\n",
    "                           tile_size=512,\n",
    "                           tile_overlap=256,\n",
    "                           smooth_preds=False,\n",
    "                           use_tta=True,\n",
    "                           coco_set='../../data/processed/hiidenportti/hiidenportti_valid.json',\n",
    "                           postproc_results=True)"
   ]
  },
  {
   "cell_type": "markdown",
   "id": "25bccfe4",
   "metadata": {},
   "source": [
    "Modify as previously."
   ]
  },
  {
   "cell_type": "code",
   "execution_count": 111,
   "id": "b351f9b5",
   "metadata": {
    "ExecuteTime": {
     "end_time": "2022-03-23T12:19:20.065365Z",
     "start_time": "2022-03-23T12:19:20.059183Z"
    }
   },
   "outputs": [],
   "source": [
    "hp_res_path = Path('../results/hp_overlap_filter/')\n",
    "truth_shps = sorted([hp_res_path/'vector_tiles'/f for f in os.listdir(hp_res_path/'vector_tiles')])\n",
    "hp_raw_shps = sorted([hp_res_path/'raw_preds'/f for f in os.listdir(hp_res_path/'raw_preds')])\n",
    "rasters = sorted([hp_res_path/'raster_tiles'/f for f in os.listdir(hp_res_path/'raster_tiles')])"
   ]
  },
  {
   "cell_type": "code",
   "execution_count": 112,
   "id": "c72ea27a",
   "metadata": {
    "ExecuteTime": {
     "end_time": "2022-03-23T12:19:27.553470Z",
     "start_time": "2022-03-23T12:19:20.927727Z"
    }
   },
   "outputs": [],
   "source": [
    "for p, t in zip(hp_raw_shps, truth_shps):\n",
    "    temp_pred = gpd.read_file(p)\n",
    "    temp_truth = gpd.read_file(t)\n",
    "    temp_pred['geometry'] = temp_pred.apply(lambda row: fix_multipolys(row.geometry) \n",
    "                                            if row.geometry.type == 'MultiPolygon' \n",
    "                                            else shapely.geometry.Polygon(row.geometry.exterior), axis=1)\n",
    "    temp_pred['label'] += 1\n",
    "    temp_pred = gpd.clip(temp_pred, box(*temp_truth.total_bounds))\n",
    "    temp_pred = temp_pred[temp_pred.geometry.area > 16*0.04**2]\n",
    "    temp_pred.to_file(hp_res_path/'predicted_vectors'/p.name)"
   ]
  },
  {
   "cell_type": "code",
   "execution_count": 113,
   "id": "fe326bf6",
   "metadata": {
    "ExecuteTime": {
     "end_time": "2022-03-23T12:19:27.557666Z",
     "start_time": "2022-03-23T12:19:27.554959Z"
    }
   },
   "outputs": [],
   "source": [
    "pred_shps = sorted([hp_res_path/'predicted_vectors'/f for f in os.listdir(hp_res_path/'predicted_vectors')])"
   ]
  },
  {
   "cell_type": "markdown",
   "id": "d1141552",
   "metadata": {},
   "source": [
    "Collate all predictions into single dataframes"
   ]
  },
  {
   "cell_type": "code",
   "execution_count": 114,
   "id": "1429878c",
   "metadata": {
    "ExecuteTime": {
     "end_time": "2022-03-23T12:19:29.242613Z",
     "start_time": "2022-03-23T12:19:27.559167Z"
    }
   },
   "outputs": [],
   "source": [
    "truths = None\n",
    "preds = None\n",
    "\n",
    "for p, t in zip(pred_shps, truth_shps):\n",
    "    temp_pred = gpd.read_file(p)\n",
    "    temp_truth = gpd.read_file(t)\n",
    "    if truths is None:\n",
    "        truths = temp_truth\n",
    "        preds = temp_pred\n",
    "    else:\n",
    "        truths = pd.concat((truths, temp_truth))\n",
    "        preds = pd.concat((preds, temp_pred))"
   ]
  },
  {
   "cell_type": "code",
   "execution_count": 115,
   "id": "9b30fb48",
   "metadata": {
    "ExecuteTime": {
     "end_time": "2022-03-23T12:19:29.272077Z",
     "start_time": "2022-03-23T12:19:29.244409Z"
    }
   },
   "outputs": [],
   "source": [
    "preds['layer'] = preds.apply(lambda row: 'groundwood' if row.label == 2 else 'uprightwood', axis=1)"
   ]
  },
  {
   "cell_type": "code",
   "execution_count": 116,
   "id": "b6e8e75e",
   "metadata": {
    "ExecuteTime": {
     "end_time": "2022-03-23T12:19:29.304186Z",
     "start_time": "2022-03-23T12:19:29.273403Z"
    }
   },
   "outputs": [
    {
     "data": {
      "text/plain": [
       "groundwood     2135\n",
       "uprightwood     265\n",
       "Name: layer, dtype: int64"
      ]
     },
     "execution_count": 116,
     "metadata": {},
     "output_type": "execute_result"
    }
   ],
   "source": [
    "preds.layer.value_counts()"
   ]
  },
  {
   "cell_type": "code",
   "execution_count": 117,
   "id": "720294bd",
   "metadata": {
    "ExecuteTime": {
     "end_time": "2022-03-23T12:19:31.385750Z",
     "start_time": "2022-03-23T12:19:29.305481Z"
    }
   },
   "outputs": [],
   "source": [
    "dis_truths = truths.dissolve(by='layer')\n",
    "dis_preds = preds.dissolve(by='layer')"
   ]
  },
  {
   "cell_type": "code",
   "execution_count": 118,
   "id": "5c7747c6",
   "metadata": {
    "ExecuteTime": {
     "end_time": "2022-03-23T12:19:32.340079Z",
     "start_time": "2022-03-23T12:19:31.387201Z"
    }
   },
   "outputs": [
    {
     "data": {
      "text/plain": [
       "layer\n",
       "groundwood     0.513201\n",
       "uprightwood    0.551898\n",
       "dtype: float64"
      ]
     },
     "execution_count": 118,
     "metadata": {},
     "output_type": "execute_result"
    }
   ],
   "source": [
    "poly_IoU(dis_truths, dis_preds)"
   ]
  },
  {
   "cell_type": "code",
   "execution_count": 119,
   "id": "4b7dd10b",
   "metadata": {
    "ExecuteTime": {
     "end_time": "2022-03-23T12:19:32.344765Z",
     "start_time": "2022-03-23T12:19:32.342155Z"
    }
   },
   "outputs": [],
   "source": [
    "deadwood_categories = [{'supercategory': 'deadwood', 'id':1, 'name':'uprightwood'},\n",
    "                 \n",
    "                       {'supercategory': 'deadwood', 'id':2, 'name':'groundwood'}]\n",
    "\n",
    "hp_coco_eval = GisCOCOeval(hp_res_path, hp_res_path, \n",
    "                            None, None, deadwood_categories)"
   ]
  },
  {
   "cell_type": "code",
   "execution_count": 120,
   "id": "15f5b970",
   "metadata": {
    "ExecuteTime": {
     "end_time": "2022-03-23T12:19:39.312089Z",
     "start_time": "2022-03-23T12:19:32.346319Z"
    }
   },
   "outputs": [
    {
     "data": {
      "application/vnd.jupyter.widget-view+json": {
       "model_id": "6e8a608c02c24984be8d90f06e48c4d4",
       "version_major": 2,
       "version_minor": 0
      },
      "text/plain": [
       "0it [00:00, ?it/s]"
      ]
     },
     "metadata": {},
     "output_type": "display_data"
    },
    {
     "data": {
      "application/vnd.jupyter.widget-view+json": {
       "model_id": "b6c1e833f21c4500a3b19176e0aefb46",
       "version_major": 2,
       "version_minor": 0
      },
      "text/plain": [
       "  0%|          | 0/5 [00:00<?, ?it/s]"
      ]
     },
     "metadata": {},
     "output_type": "display_data"
    }
   ],
   "source": [
    "hp_coco_eval.prepare_data(gt_label_col='layer')"
   ]
  },
  {
   "cell_type": "code",
   "execution_count": 121,
   "id": "d8e47cb4",
   "metadata": {
    "ExecuteTime": {
     "end_time": "2022-03-23T12:19:39.392797Z",
     "start_time": "2022-03-23T12:19:39.314058Z"
    }
   },
   "outputs": [
    {
     "name": "stdout",
     "output_type": "stream",
     "text": [
      "loading annotations into memory...\n",
      "Done (t=0.05s)\n",
      "creating index...\n",
      "index created!\n",
      "Loading and preparing results...\n",
      "DONE (t=0.03s)\n",
      "creating index...\n",
      "index created!\n"
     ]
    }
   ],
   "source": [
    "hp_coco_eval.prepare_eval()"
   ]
  },
  {
   "cell_type": "code",
   "execution_count": 122,
   "id": "3c67cca5",
   "metadata": {
    "ExecuteTime": {
     "end_time": "2022-03-23T12:19:39.396432Z",
     "start_time": "2022-03-23T12:19:39.394339Z"
    }
   },
   "outputs": [],
   "source": [
    "hp_coco_eval.coco_eval.params.maxDets = [1000, 10000]"
   ]
  },
  {
   "cell_type": "code",
   "execution_count": 123,
   "id": "490f7555",
   "metadata": {
    "ExecuteTime": {
     "end_time": "2022-03-23T12:20:15.103256Z",
     "start_time": "2022-03-23T12:19:39.397805Z"
    },
    "scrolled": false
   },
   "outputs": [
    {
     "name": "stdout",
     "output_type": "stream",
     "text": [
      "\n",
      "Evaluating for category uprightwood\n",
      "Running per image evaluation...\n",
      "Evaluate annotation type *segm*\n",
      "DONE (t=0.59s).\n",
      "Accumulating evaluation results...\n",
      "DONE (t=0.01s).\n",
      " Average Precision  (AP) @[ IoU=0.50:0.95 | area=   all | maxDets=10000 ] = 0.336\n",
      " Average Precision  (AP) @[ IoU=0.50      | area=   all | maxDets=10000 ] = 0.614\n",
      " Average Precision  (AP) @[ IoU=0.75      | area=   all | maxDets=10000 ] = 0.367\n",
      " Average Precision  (AP) @[ IoU=0.50:0.95 | area= small | maxDets=10000 ] = 0.208\n",
      " Average Precision  (AP) @[ IoU=0.50:0.95 | area=medium | maxDets=10000 ] = 0.409\n",
      " Average Precision  (AP) @[ IoU=0.50:0.95 | area= large | maxDets=10000 ] = 0.900\n",
      " Average Recall     (AR) @[ IoU=0.50:0.95 | area=   all | maxDets=1000 ] = 0.422\n",
      " Average Recall     (AR) @[ IoU=0.50:0.95 | area= small | maxDets=1000 ] = 0.302\n",
      " Average Recall     (AR) @[ IoU=0.50:0.95 | area=medium | maxDets=1000 ] = 0.491\n",
      " Average Recall     (AR) @[ IoU=0.50:0.95 | area= large | maxDets=1000 ] = 0.900\n",
      "\n",
      "Evaluating for category groundwood\n",
      "Running per image evaluation...\n",
      "Evaluate annotation type *segm*\n",
      "DONE (t=17.65s).\n",
      "Accumulating evaluation results...\n",
      "DONE (t=0.04s).\n",
      " Average Precision  (AP) @[ IoU=0.50:0.95 | area=   all | maxDets=10000 ] = 0.288\n",
      " Average Precision  (AP) @[ IoU=0.50      | area=   all | maxDets=10000 ] = 0.695\n",
      " Average Precision  (AP) @[ IoU=0.75      | area=   all | maxDets=10000 ] = 0.164\n",
      " Average Precision  (AP) @[ IoU=0.50:0.95 | area= small | maxDets=10000 ] = 0.290\n",
      " Average Precision  (AP) @[ IoU=0.50:0.95 | area=medium | maxDets=10000 ] = 0.257\n",
      " Average Precision  (AP) @[ IoU=0.50:0.95 | area= large | maxDets=10000 ] = -1.000\n",
      " Average Recall     (AR) @[ IoU=0.50:0.95 | area=   all | maxDets=1000 ] = 0.420\n",
      " Average Recall     (AR) @[ IoU=0.50:0.95 | area= small | maxDets=1000 ] = 0.422\n",
      " Average Recall     (AR) @[ IoU=0.50:0.95 | area=medium | maxDets=1000 ] = 0.320\n",
      " Average Recall     (AR) @[ IoU=0.50:0.95 | area= large | maxDets=1000 ] = -1.000\n",
      "\n",
      "Evaluating for full data...\n",
      "Running per image evaluation...\n",
      "Evaluate annotation type *segm*\n",
      "DONE (t=17.34s).\n",
      "Accumulating evaluation results...\n",
      "DONE (t=0.04s).\n",
      " Average Precision  (AP) @[ IoU=0.50:0.95 | area=   all | maxDets=10000 ] = 0.312\n",
      " Average Precision  (AP) @[ IoU=0.50      | area=   all | maxDets=10000 ] = 0.654\n",
      " Average Precision  (AP) @[ IoU=0.75      | area=   all | maxDets=10000 ] = 0.265\n",
      " Average Precision  (AP) @[ IoU=0.50:0.95 | area= small | maxDets=10000 ] = 0.249\n",
      " Average Precision  (AP) @[ IoU=0.50:0.95 | area=medium | maxDets=10000 ] = 0.333\n",
      " Average Precision  (AP) @[ IoU=0.50:0.95 | area= large | maxDets=10000 ] = 0.900\n",
      " Average Recall     (AR) @[ IoU=0.50:0.95 | area=   all | maxDets=1000 ] = 0.421\n",
      " Average Recall     (AR) @[ IoU=0.50:0.95 | area= small | maxDets=1000 ] = 0.362\n",
      " Average Recall     (AR) @[ IoU=0.50:0.95 | area=medium | maxDets=1000 ] = 0.405\n",
      " Average Recall     (AR) @[ IoU=0.50:0.95 | area= large | maxDets=1000 ] = 0.900\n"
     ]
    }
   ],
   "source": [
    "hp_coco_eval.evaluate()"
   ]
  },
  {
   "cell_type": "code",
   "execution_count": 133,
   "id": "67d4383b",
   "metadata": {
    "ExecuteTime": {
     "end_time": "2022-03-23T12:29:19.238444Z",
     "start_time": "2022-03-23T12:28:36.665434Z"
    }
   },
   "outputs": [
    {
     "name": "stderr",
     "output_type": "stream",
     "text": [
      "100%|██████████| 1547/1547 [00:13<00:00, 116.22it/s]\n",
      "100%|██████████| 2400/2400 [00:29<00:00, 82.73it/s] \n"
     ]
    }
   ],
   "source": [
    "tp_truths = truths.copy()\n",
    "tp_truths.rename(columns={'groundwood':'label'}, inplace=True)\n",
    "truth_sindex = tp_truths.sindex\n",
    "fp_preds = preds.copy()\n",
    "pred_sindex = fp_preds.sindex\n",
    "tp_truths[tp_cols] = tp_truths.progress_apply(lambda row: is_true_positive(row, fp_preds, pred_sindex), \n",
    "                                              axis=1, result_type='expand')\n",
    "fp_preds[fp_cols] = fp_preds.progress_apply(lambda row: is_false_positive(row, tp_truths, truth_sindex,\n",
    "                                                                            fp_preds, pred_sindex),\n",
    "                                            axis=1, result_type='expand')"
   ]
  },
  {
   "cell_type": "code",
   "execution_count": 134,
   "id": "739e0b56",
   "metadata": {
    "ExecuteTime": {
     "end_time": "2022-03-23T12:29:19.270416Z",
     "start_time": "2022-03-23T12:29:19.240272Z"
    }
   },
   "outputs": [
    {
     "data": {
      "text/html": [
       "<div>\n",
       "<style scoped>\n",
       "    .dataframe tbody tr th:only-of-type {\n",
       "        vertical-align: middle;\n",
       "    }\n",
       "\n",
       "    .dataframe tbody tr th {\n",
       "        vertical-align: top;\n",
       "    }\n",
       "\n",
       "    .dataframe thead th {\n",
       "        text-align: right;\n",
       "    }\n",
       "</style>\n",
       "<table border=\"1\" class=\"dataframe\">\n",
       "  <thead>\n",
       "    <tr style=\"text-align: right;\">\n",
       "      <th>FP_0.5</th>\n",
       "      <th>FP</th>\n",
       "      <th>TP</th>\n",
       "      <th>All</th>\n",
       "    </tr>\n",
       "    <tr>\n",
       "      <th>layer</th>\n",
       "      <th></th>\n",
       "      <th></th>\n",
       "      <th></th>\n",
       "    </tr>\n",
       "  </thead>\n",
       "  <tbody>\n",
       "    <tr>\n",
       "      <th>groundwood</th>\n",
       "      <td>1126</td>\n",
       "      <td>1009</td>\n",
       "      <td>2135</td>\n",
       "    </tr>\n",
       "    <tr>\n",
       "      <th>uprightwood</th>\n",
       "      <td>68</td>\n",
       "      <td>197</td>\n",
       "      <td>265</td>\n",
       "    </tr>\n",
       "    <tr>\n",
       "      <th>All</th>\n",
       "      <td>1194</td>\n",
       "      <td>1206</td>\n",
       "      <td>2400</td>\n",
       "    </tr>\n",
       "  </tbody>\n",
       "</table>\n",
       "</div>"
      ],
      "text/plain": [
       "FP_0.5         FP    TP   All\n",
       "layer                        \n",
       "groundwood   1126  1009  2135\n",
       "uprightwood    68   197   265\n",
       "All          1194  1206  2400"
      ]
     },
     "execution_count": 134,
     "metadata": {},
     "output_type": "execute_result"
    }
   ],
   "source": [
    "pd.crosstab(fp_preds.layer, fp_preds['FP_0.5'], margins=True)"
   ]
  },
  {
   "cell_type": "code",
   "execution_count": 135,
   "id": "83d4efbf",
   "metadata": {
    "ExecuteTime": {
     "end_time": "2022-03-23T12:29:19.298999Z",
     "start_time": "2022-03-23T12:29:19.271861Z"
    }
   },
   "outputs": [
    {
     "data": {
      "text/html": [
       "<div>\n",
       "<style scoped>\n",
       "    .dataframe tbody tr th:only-of-type {\n",
       "        vertical-align: middle;\n",
       "    }\n",
       "\n",
       "    .dataframe tbody tr th {\n",
       "        vertical-align: top;\n",
       "    }\n",
       "\n",
       "    .dataframe thead th {\n",
       "        text-align: right;\n",
       "    }\n",
       "</style>\n",
       "<table border=\"1\" class=\"dataframe\">\n",
       "  <thead>\n",
       "    <tr style=\"text-align: right;\">\n",
       "      <th>TP_0.5</th>\n",
       "      <th>FN</th>\n",
       "      <th>TP</th>\n",
       "      <th>All</th>\n",
       "    </tr>\n",
       "    <tr>\n",
       "      <th>layer</th>\n",
       "      <th></th>\n",
       "      <th></th>\n",
       "      <th></th>\n",
       "    </tr>\n",
       "  </thead>\n",
       "  <tbody>\n",
       "    <tr>\n",
       "      <th>groundwood</th>\n",
       "      <td>254</td>\n",
       "      <td>1009</td>\n",
       "      <td>1263</td>\n",
       "    </tr>\n",
       "    <tr>\n",
       "      <th>uprightwood</th>\n",
       "      <td>87</td>\n",
       "      <td>197</td>\n",
       "      <td>284</td>\n",
       "    </tr>\n",
       "    <tr>\n",
       "      <th>All</th>\n",
       "      <td>341</td>\n",
       "      <td>1206</td>\n",
       "      <td>1547</td>\n",
       "    </tr>\n",
       "  </tbody>\n",
       "</table>\n",
       "</div>"
      ],
      "text/plain": [
       "TP_0.5        FN    TP   All\n",
       "layer                       \n",
       "groundwood   254  1009  1263\n",
       "uprightwood   87   197   284\n",
       "All          341  1206  1547"
      ]
     },
     "execution_count": 135,
     "metadata": {},
     "output_type": "execute_result"
    }
   ],
   "source": [
    "pd.crosstab(tp_truths.layer, tp_truths['TP_0.5'], margins=True)"
   ]
  },
  {
   "cell_type": "markdown",
   "id": "fb088497",
   "metadata": {},
   "source": [
    "$Precision = \\frac{tp}{tp+fp}, Recall = \\frac{tp}{tp+fn}$"
   ]
  },
  {
   "cell_type": "code",
   "execution_count": 136,
   "id": "7654526f",
   "metadata": {
    "ExecuteTime": {
     "end_time": "2022-03-23T12:29:45.690516Z",
     "start_time": "2022-03-23T12:29:45.687861Z"
    }
   },
   "outputs": [
    {
     "name": "stdout",
     "output_type": "stream",
     "text": [
      "Precision for fallen deadwood with IoU threshold of 0.5 is 0.47\n",
      "Recall for fallen deadwood with IoU threshold of 0.5 is 0.80\n"
     ]
    }
   ],
   "source": [
    "print(f'Precision for fallen deadwood with IoU threshold of 0.5 is {(1009/2135):.2f}')\n",
    "print(f'Recall for fallen deadwood with IoU threshold of 0.5 is {(1009/1263):.2f}')"
   ]
  },
  {
   "cell_type": "code",
   "execution_count": 137,
   "id": "675bf83d",
   "metadata": {
    "ExecuteTime": {
     "end_time": "2022-03-23T12:29:57.215021Z",
     "start_time": "2022-03-23T12:29:57.212137Z"
    }
   },
   "outputs": [
    {
     "name": "stdout",
     "output_type": "stream",
     "text": [
      "Precision for standing deadwood with IoU threshold of 0.5 is 0.74\n",
      "Recall for standing deadwood with IoU threshold of 0.5 is 0.69\n"
     ]
    }
   ],
   "source": [
    "print(f'Precision for standing deadwood with IoU threshold of 0.5 is {(197/265):.2f}')\n",
    "print(f'Recall for standing deadwood with IoU threshold of 0.5 is {(197/284):.2f}')"
   ]
  },
  {
   "cell_type": "code",
   "execution_count": 138,
   "id": "42060208",
   "metadata": {
    "ExecuteTime": {
     "end_time": "2022-03-23T12:30:17.024184Z",
     "start_time": "2022-03-23T12:30:17.021549Z"
    }
   },
   "outputs": [
    {
     "name": "stdout",
     "output_type": "stream",
     "text": [
      "Overall precision with IoU threshold of 0.5 is 0.50\n",
      "Overall recall with IoU threshold of 0.5 is 0.78\n"
     ]
    }
   ],
   "source": [
    "print(f'Overall precision with IoU threshold of 0.5 is {(1206/2400):.2f}')\n",
    "print(f'Overall recall with IoU threshold of 0.5 is {(1206/1547):.2f}')"
   ]
  },
  {
   "cell_type": "markdown",
   "id": "f52dfa29",
   "metadata": {},
   "source": [
    "## Overlap, edge filtering and mask merging"
   ]
  },
  {
   "cell_type": "markdown",
   "id": "8a6d6974",
   "metadata": {},
   "source": [
    "Mask merging is built on previous predictions. In this step, for each polygon we check whether the ratio between intersection with any other polygon of the same class and the area of the polygon is more than 0.2. If yes, the polygon is merged to the other polygon with which it had intersection-over-area ratio."
   ]
  },
  {
   "cell_type": "code",
   "execution_count": 139,
   "id": "f12e62e5",
   "metadata": {
    "ExecuteTime": {
     "end_time": "2022-03-23T12:31:22.081154Z",
     "start_time": "2022-03-23T12:31:22.078586Z"
    }
   },
   "outputs": [],
   "source": [
    "merge_outpath = Path('../results/hp_merge/')\n",
    "if not os.path.exists(merge_outpath):\n",
    "    shutil.copytree('../results/template_folder/', merge_outpath)"
   ]
  },
  {
   "cell_type": "markdown",
   "id": "12259966",
   "metadata": {},
   "source": [
    "Two iterations of merging is usually enough."
   ]
  },
  {
   "cell_type": "code",
   "execution_count": null,
   "id": "a3fd7a81",
   "metadata": {
    "ExecuteTime": {
     "end_time": "2022-03-23T12:31:47.886484Z",
     "start_time": "2022-03-23T12:31:23.743518Z"
    }
   },
   "outputs": [],
   "source": [
    "for r in pred_shps:\n",
    "    gdf_temp = gpd.read_file(r)\n",
    "    standing = gdf_temp[gdf_temp.label==1].copy()\n",
    "    fallen = gdf_temp[gdf_temp.label==2].copy()\n",
    "    standing = merge_polys(standing, 0.2)\n",
    "    fallen = merge_polys(fallen, 0.2)\n",
    "    standing = merge_polys(standing, 0.2)\n",
    "    fallen = merge_polys(fallen, 0.2)\n",
    "    gdf_merged = pd.concat((standing, fallen))\n",
    "    gdf_merged.to_file(merge_outpath/'predicted_vectors'/r.name, driver='GeoJSON')\n",
    "    gdf_merged = None\n",
    "    gdf_temp = None"
   ]
  },
  {
   "cell_type": "code",
   "execution_count": 141,
   "id": "a8c02158",
   "metadata": {
    "ExecuteTime": {
     "end_time": "2022-03-23T12:32:34.201890Z",
     "start_time": "2022-03-23T12:31:59.810938Z"
    }
   },
   "outputs": [
    {
     "data": {
      "application/vnd.jupyter.widget-view+json": {
       "model_id": "e826437dbc594be888e3f313f1792daa",
       "version_major": 2,
       "version_minor": 0
      },
      "text/plain": [
       "0it [00:00, ?it/s]"
      ]
     },
     "metadata": {},
     "output_type": "display_data"
    },
    {
     "data": {
      "application/vnd.jupyter.widget-view+json": {
       "model_id": "6d8064321b0249b4a1d7a344fab5605e",
       "version_major": 2,
       "version_minor": 0
      },
      "text/plain": [
       "  0%|          | 0/5 [00:00<?, ?it/s]"
      ]
     },
     "metadata": {},
     "output_type": "display_data"
    },
    {
     "name": "stdout",
     "output_type": "stream",
     "text": [
      "loading annotations into memory...\n",
      "Done (t=0.05s)\n",
      "creating index...\n",
      "index created!\n",
      "Loading and preparing results...\n",
      "DONE (t=0.37s)\n",
      "creating index...\n",
      "index created!\n",
      "\n",
      "Evaluating for category uprightwood\n",
      "Running per image evaluation...\n",
      "Evaluate annotation type *segm*\n",
      "DONE (t=0.58s).\n",
      "Accumulating evaluation results...\n",
      "DONE (t=0.01s).\n",
      " Average Precision  (AP) @[ IoU=0.50:0.95 | area=   all | maxDets=1000 ] = 0.331\n",
      " Average Precision  (AP) @[ IoU=0.50      | area=   all | maxDets=1000 ] = 0.605\n",
      " Average Precision  (AP) @[ IoU=0.75      | area=   all | maxDets=1000 ] = 0.362\n",
      " Average Precision  (AP) @[ IoU=0.50:0.95 | area= small | maxDets=1000 ] = 0.206\n",
      " Average Precision  (AP) @[ IoU=0.50:0.95 | area=medium | maxDets=1000 ] = 0.403\n",
      " Average Precision  (AP) @[ IoU=0.50:0.95 | area= large | maxDets=1000 ] = 0.900\n",
      " Average Recall     (AR) @[ IoU=0.50:0.95 | area=   all | maxDets=100 ] = 0.399\n",
      " Average Recall     (AR) @[ IoU=0.50:0.95 | area= small | maxDets=100 ] = 0.278\n",
      " Average Recall     (AR) @[ IoU=0.50:0.95 | area=medium | maxDets=100 ] = 0.468\n",
      " Average Recall     (AR) @[ IoU=0.50:0.95 | area= large | maxDets=100 ] = 0.900\n",
      "\n",
      "Evaluating for category groundwood\n",
      "Running per image evaluation...\n",
      "Evaluate annotation type *segm*\n",
      "DONE (t=13.19s).\n",
      "Accumulating evaluation results...\n",
      "DONE (t=0.02s).\n",
      " Average Precision  (AP) @[ IoU=0.50:0.95 | area=   all | maxDets=1000 ] = 0.268\n",
      " Average Precision  (AP) @[ IoU=0.50      | area=   all | maxDets=1000 ] = 0.647\n",
      " Average Precision  (AP) @[ IoU=0.75      | area=   all | maxDets=1000 ] = 0.151\n",
      " Average Precision  (AP) @[ IoU=0.50:0.95 | area= small | maxDets=1000 ] = 0.268\n",
      " Average Precision  (AP) @[ IoU=0.50:0.95 | area=medium | maxDets=1000 ] = 0.279\n",
      " Average Precision  (AP) @[ IoU=0.50:0.95 | area= large | maxDets=1000 ] = -1.000\n",
      " Average Recall     (AR) @[ IoU=0.50:0.95 | area=   all | maxDets=100 ] = 0.170\n",
      " Average Recall     (AR) @[ IoU=0.50:0.95 | area= small | maxDets=100 ] = 0.170\n",
      " Average Recall     (AR) @[ IoU=0.50:0.95 | area=medium | maxDets=100 ] = 0.155\n",
      " Average Recall     (AR) @[ IoU=0.50:0.95 | area= large | maxDets=100 ] = -1.000\n",
      "\n",
      "Evaluating for full data...\n",
      "Running per image evaluation...\n",
      "Evaluate annotation type *segm*\n",
      "DONE (t=13.77s).\n",
      "Accumulating evaluation results...\n",
      "DONE (t=0.03s).\n",
      " Average Precision  (AP) @[ IoU=0.50:0.95 | area=   all | maxDets=1000 ] = 0.299\n",
      " Average Precision  (AP) @[ IoU=0.50      | area=   all | maxDets=1000 ] = 0.626\n",
      " Average Precision  (AP) @[ IoU=0.75      | area=   all | maxDets=1000 ] = 0.256\n",
      " Average Precision  (AP) @[ IoU=0.50:0.95 | area= small | maxDets=1000 ] = 0.237\n",
      " Average Precision  (AP) @[ IoU=0.50:0.95 | area=medium | maxDets=1000 ] = 0.341\n",
      " Average Precision  (AP) @[ IoU=0.50:0.95 | area= large | maxDets=1000 ] = 0.900\n",
      " Average Recall     (AR) @[ IoU=0.50:0.95 | area=   all | maxDets=100 ] = 0.284\n",
      " Average Recall     (AR) @[ IoU=0.50:0.95 | area= small | maxDets=100 ] = 0.224\n",
      " Average Recall     (AR) @[ IoU=0.50:0.95 | area=medium | maxDets=100 ] = 0.312\n",
      " Average Recall     (AR) @[ IoU=0.50:0.95 | area= large | maxDets=100 ] = 0.900\n"
     ]
    }
   ],
   "source": [
    "merged_coco_eval = GisCOCOeval(merge_outpath, merge_outpath, None, None, deadwood_categories)\n",
    "merged_coco_eval.prepare_data(gt_label_col='layer')\n",
    "merged_coco_eval.prepare_eval()\n",
    "merged_coco_eval.evaluate()"
   ]
  },
  {
   "cell_type": "markdown",
   "id": "ae530d8f",
   "metadata": {},
   "source": [
    "This usually worsens the results a bit, but the produced results are better suited for deriving forest charasteristics."
   ]
  },
  {
   "cell_type": "code",
   "execution_count": 142,
   "id": "8a716a22",
   "metadata": {
    "ExecuteTime": {
     "end_time": "2022-03-23T12:33:09.695684Z",
     "start_time": "2022-03-23T12:32:34.203886Z"
    }
   },
   "outputs": [
    {
     "name": "stderr",
     "output_type": "stream",
     "text": [
      "265it [00:00, 325.87it/s]\n",
      "2135it [00:20, 103.92it/s]\n",
      "259it [00:00, 366.00it/s]\n",
      "1709it [00:11, 146.59it/s]\n"
     ]
    }
   ],
   "source": [
    "preds.reset_index(drop=True, inplace=True)\n",
    "standing = merge_polys(preds[preds.label == 1].copy(), 0.2)\n",
    "fallen = merge_polys(preds[preds.label == 2].copy(), 0.2)\n",
    "standing = merge_polys(standing, 0.2)\n",
    "fallen = merge_polys(fallen, 0.2)\n",
    "preds_merged = pd.concat((standing, fallen))"
   ]
  },
  {
   "cell_type": "code",
   "execution_count": 143,
   "id": "b1ccab6b",
   "metadata": {
    "ExecuteTime": {
     "end_time": "2022-03-23T12:33:09.722701Z",
     "start_time": "2022-03-23T12:33:09.697616Z"
    }
   },
   "outputs": [
    {
     "data": {
      "text/plain": [
       "groundwood     1665\n",
       "uprightwood     258\n",
       "Name: layer, dtype: int64"
      ]
     },
     "execution_count": 143,
     "metadata": {},
     "output_type": "execute_result"
    }
   ],
   "source": [
    "preds_merged['layer'] = preds_merged.apply(lambda row: 'groundwood' if row.label == 2 else 'uprightwood', axis=1)\n",
    "preds_merged.layer.value_counts()"
   ]
  },
  {
   "cell_type": "code",
   "execution_count": 144,
   "id": "8f182904",
   "metadata": {
    "ExecuteTime": {
     "end_time": "2022-03-23T12:50:01.521799Z",
     "start_time": "2022-03-23T12:48:09.043785Z"
    }
   },
   "outputs": [
    {
     "name": "stderr",
     "output_type": "stream",
     "text": [
      "100%|██████████| 1547/1547 [00:12<00:00, 126.40it/s]\n",
      "100%|██████████| 1923/1923 [00:22<00:00, 85.05it/s] \n"
     ]
    }
   ],
   "source": [
    "tp_truths = truths.copy()\n",
    "tp_truths.rename(columns={'groundwood':'label'}, inplace=True)\n",
    "truth_sindex = tp_truths.sindex\n",
    "fp_preds_merged = preds_merged.copy()\n",
    "pred_sindex = fp_preds_merged.sindex\n",
    "tp_truths[tp_cols] = tp_truths.progress_apply(lambda row: is_true_positive(row, fp_preds_merged, pred_sindex), \n",
    "                                              axis=1, result_type='expand')\n",
    "fp_preds_merged[fp_cols] = fp_preds_merged.progress_apply(lambda row: is_false_positive(row, tp_truths, truth_sindex,\n",
    "                                                                            fp_preds_merged, pred_sindex),\n",
    "                                            axis=1, result_type='expand')"
   ]
  },
  {
   "cell_type": "code",
   "execution_count": 147,
   "id": "8ad9948e",
   "metadata": {
    "ExecuteTime": {
     "end_time": "2022-03-23T12:50:12.904981Z",
     "start_time": "2022-03-23T12:50:12.872350Z"
    }
   },
   "outputs": [
    {
     "data": {
      "text/html": [
       "<div>\n",
       "<style scoped>\n",
       "    .dataframe tbody tr th:only-of-type {\n",
       "        vertical-align: middle;\n",
       "    }\n",
       "\n",
       "    .dataframe tbody tr th {\n",
       "        vertical-align: top;\n",
       "    }\n",
       "\n",
       "    .dataframe thead th {\n",
       "        text-align: right;\n",
       "    }\n",
       "</style>\n",
       "<table border=\"1\" class=\"dataframe\">\n",
       "  <thead>\n",
       "    <tr style=\"text-align: right;\">\n",
       "      <th>FP_0.5</th>\n",
       "      <th>FP</th>\n",
       "      <th>TP</th>\n",
       "      <th>All</th>\n",
       "    </tr>\n",
       "    <tr>\n",
       "      <th>layer</th>\n",
       "      <th></th>\n",
       "      <th></th>\n",
       "      <th></th>\n",
       "    </tr>\n",
       "  </thead>\n",
       "  <tbody>\n",
       "    <tr>\n",
       "      <th>groundwood</th>\n",
       "      <td>753</td>\n",
       "      <td>912</td>\n",
       "      <td>1665</td>\n",
       "    </tr>\n",
       "    <tr>\n",
       "      <th>uprightwood</th>\n",
       "      <td>64</td>\n",
       "      <td>194</td>\n",
       "      <td>258</td>\n",
       "    </tr>\n",
       "    <tr>\n",
       "      <th>All</th>\n",
       "      <td>817</td>\n",
       "      <td>1106</td>\n",
       "      <td>1923</td>\n",
       "    </tr>\n",
       "  </tbody>\n",
       "</table>\n",
       "</div>"
      ],
      "text/plain": [
       "FP_0.5        FP    TP   All\n",
       "layer                       \n",
       "groundwood   753   912  1665\n",
       "uprightwood   64   194   258\n",
       "All          817  1106  1923"
      ]
     },
     "execution_count": 147,
     "metadata": {},
     "output_type": "execute_result"
    }
   ],
   "source": [
    "pd.crosstab(fp_preds_merged.layer, fp_preds_merged['FP_0.5'], margins=True)"
   ]
  },
  {
   "cell_type": "code",
   "execution_count": 146,
   "id": "2dde5257",
   "metadata": {
    "ExecuteTime": {
     "end_time": "2022-03-23T12:50:13.782282Z",
     "start_time": "2022-03-23T12:50:13.648604Z"
    }
   },
   "outputs": [
    {
     "data": {
      "text/html": [
       "<div>\n",
       "<style scoped>\n",
       "    .dataframe tbody tr th:only-of-type {\n",
       "        vertical-align: middle;\n",
       "    }\n",
       "\n",
       "    .dataframe tbody tr th {\n",
       "        vertical-align: top;\n",
       "    }\n",
       "\n",
       "    .dataframe thead th {\n",
       "        text-align: right;\n",
       "    }\n",
       "</style>\n",
       "<table border=\"1\" class=\"dataframe\">\n",
       "  <thead>\n",
       "    <tr style=\"text-align: right;\">\n",
       "      <th>TP_0.5</th>\n",
       "      <th>FN</th>\n",
       "      <th>TP</th>\n",
       "      <th>All</th>\n",
       "    </tr>\n",
       "    <tr>\n",
       "      <th>layer</th>\n",
       "      <th></th>\n",
       "      <th></th>\n",
       "      <th></th>\n",
       "    </tr>\n",
       "  </thead>\n",
       "  <tbody>\n",
       "    <tr>\n",
       "      <th>groundwood</th>\n",
       "      <td>351</td>\n",
       "      <td>912</td>\n",
       "      <td>1263</td>\n",
       "    </tr>\n",
       "    <tr>\n",
       "      <th>uprightwood</th>\n",
       "      <td>90</td>\n",
       "      <td>194</td>\n",
       "      <td>284</td>\n",
       "    </tr>\n",
       "    <tr>\n",
       "      <th>All</th>\n",
       "      <td>441</td>\n",
       "      <td>1106</td>\n",
       "      <td>1547</td>\n",
       "    </tr>\n",
       "  </tbody>\n",
       "</table>\n",
       "</div>"
      ],
      "text/plain": [
       "TP_0.5        FN    TP   All\n",
       "layer                       \n",
       "groundwood   351   912  1263\n",
       "uprightwood   90   194   284\n",
       "All          441  1106  1547"
      ]
     },
     "execution_count": 146,
     "metadata": {},
     "output_type": "execute_result"
    }
   ],
   "source": [
    "pd.crosstab(tp_truths.layer, tp_truths['TP_0.5'], margins=True)"
   ]
  },
  {
   "cell_type": "markdown",
   "id": "c8c52e12",
   "metadata": {},
   "source": [
    "$Precision = \\frac{tp}{tp+fp}, Recall = \\frac{tp}{tp+fn}$"
   ]
  },
  {
   "cell_type": "code",
   "execution_count": 148,
   "id": "27d1076b",
   "metadata": {
    "ExecuteTime": {
     "end_time": "2022-03-23T12:58:37.315664Z",
     "start_time": "2022-03-23T12:58:37.312294Z"
    }
   },
   "outputs": [
    {
     "name": "stdout",
     "output_type": "stream",
     "text": [
      "Precision for fallen deadwood with IoU threshold of 0.5 is 0.55\n",
      "Recall for fallen deadwood with IoU threshold of 0.5 is 0.72\n"
     ]
    }
   ],
   "source": [
    "print(f'Precision for fallen deadwood with IoU threshold of 0.5 is {(912/1665):.2f}')\n",
    "print(f'Recall for fallen deadwood with IoU threshold of 0.5 is {(912/1263):.2f}')"
   ]
  },
  {
   "cell_type": "code",
   "execution_count": 149,
   "id": "20d16753",
   "metadata": {
    "ExecuteTime": {
     "end_time": "2022-03-23T12:58:38.377105Z",
     "start_time": "2022-03-23T12:58:38.373889Z"
    }
   },
   "outputs": [
    {
     "name": "stdout",
     "output_type": "stream",
     "text": [
      "Precision for standing deadwood with IoU threshold of 0.5 is 0.75\n",
      "Recall for standing deadwood with IoU threshold of 0.5 is 0.68\n"
     ]
    }
   ],
   "source": [
    "print(f'Precision for standing deadwood with IoU threshold of 0.5 is {(194/258):.2f}')\n",
    "print(f'Recall for standing deadwood with IoU threshold of 0.5 is {(194/284):.2f}')"
   ]
  },
  {
   "cell_type": "code",
   "execution_count": 150,
   "id": "ef395fdc",
   "metadata": {
    "ExecuteTime": {
     "end_time": "2022-03-23T12:58:39.765241Z",
     "start_time": "2022-03-23T12:58:39.761861Z"
    }
   },
   "outputs": [
    {
     "name": "stdout",
     "output_type": "stream",
     "text": [
      "Overall precision with IoU threshold of 0.5 is 0.58\n",
      "Overall recall with IoU threshold of 0.5 is 0.71\n"
     ]
    }
   ],
   "source": [
    "print(f'Overall precision with IoU threshold of 0.5 is {(1106/1923):.2f}')\n",
    "print(f'Overall recall with IoU threshold of 0.5 is {(1106/1547):.2f}')"
   ]
  },
  {
   "cell_type": "markdown",
   "id": "a28f3219",
   "metadata": {},
   "source": [
    "As the postprocessing merges data instead of dropping less certain predictions, total area and IoU remain the same as in previous step."
   ]
  },
  {
   "cell_type": "code",
   "execution_count": null,
   "id": "508260b9",
   "metadata": {},
   "outputs": [],
   "source": [
    "preds_merged.to_file('../results/hiidenportti/merged_all.geojson')"
   ]
  },
  {
   "cell_type": "markdown",
   "id": "d4f06361",
   "metadata": {},
   "source": [
    "# Full Evo dataset"
   ]
  },
  {
   "cell_type": "markdown",
   "id": "810f7e35",
   "metadata": {},
   "source": [
    "Running predictions for Evo dataset takes so much time that it has been done separately. "
   ]
  },
  {
   "cell_type": "markdown",
   "id": "7be8fe26",
   "metadata": {},
   "source": [
    "## No overlap, no post-processing"
   ]
  },
  {
   "cell_type": "code",
   "execution_count": 151,
   "id": "3c1714ab",
   "metadata": {
    "ExecuteTime": {
     "end_time": "2022-03-23T12:41:51.711233Z",
     "start_time": "2022-03-23T12:41:51.700221Z"
    }
   },
   "outputs": [],
   "source": [
    "spk_raw_res_path = Path('../results/spk_raw/')\n",
    "truth_shps = sorted([spk_raw_res_path/'vector_tiles'/f for f in os.listdir(spk_raw_res_path/'vector_tiles')])\n",
    "spk_raw_shps = sorted([spk_raw_res_path/'raw_preds'/f for f in os.listdir(spk_raw_res_path/'raw_preds')])\n",
    "rasters = sorted([spk_raw_res_path/'raster_tiles'/f for f in os.listdir(spk_raw_res_path/'raster_tiles')])"
   ]
  },
  {
   "cell_type": "code",
   "execution_count": 152,
   "id": "b3a00928",
   "metadata": {
    "ExecuteTime": {
     "end_time": "2022-03-23T12:42:20.111614Z",
     "start_time": "2022-03-23T12:41:52.165100Z"
    }
   },
   "outputs": [],
   "source": [
    "for p, t in zip(spk_raw_shps, truth_shps):\n",
    "    temp_pred = gpd.read_file(p)\n",
    "    temp_truth = gpd.read_file(t)\n",
    "    temp_pred['geometry'] = temp_pred.apply(lambda row: fix_multipolys(row.geometry) \n",
    "                                            if row.geometry.type == 'MultiPolygon' \n",
    "                                            else shapely.geometry.Polygon(row.geometry.exterior), axis=1)\n",
    "    temp_pred['label'] += 1\n",
    "    temp_pred = gpd.clip(temp_pred, box(*temp_truth.total_bounds))\n",
    "    temp_pred = temp_pred[temp_pred.geometry.area > 16*0.0485**2]\n",
    "    temp_pred.to_file(spk_raw_res_path/'predicted_vectors'/p.name)"
   ]
  },
  {
   "cell_type": "code",
   "execution_count": 153,
   "id": "28ead968",
   "metadata": {
    "ExecuteTime": {
     "end_time": "2022-03-23T12:42:20.116821Z",
     "start_time": "2022-03-23T12:42:20.113356Z"
    }
   },
   "outputs": [],
   "source": [
    "pred_shps = sorted([spk_raw_res_path/'predicted_vectors'/f for f in os.listdir(spk_raw_res_path/'predicted_vectors')])"
   ]
  },
  {
   "cell_type": "code",
   "execution_count": 154,
   "id": "fb93fc2c",
   "metadata": {
    "ExecuteTime": {
     "end_time": "2022-03-23T12:42:28.261327Z",
     "start_time": "2022-03-23T12:42:20.118336Z"
    }
   },
   "outputs": [],
   "source": [
    "truths = None\n",
    "preds = None\n",
    "\n",
    "for p, t in zip(pred_shps, truth_shps):\n",
    "    temp_pred = gpd.read_file(p)\n",
    "    temp_truth = gpd.read_file(t)\n",
    "    if truths is None:\n",
    "        truths = temp_truth\n",
    "        preds = temp_pred\n",
    "    else:\n",
    "        truths = pd.concat((truths, temp_truth))\n",
    "        preds = pd.concat((preds, temp_pred))"
   ]
  },
  {
   "cell_type": "code",
   "execution_count": 155,
   "id": "03789bca",
   "metadata": {
    "ExecuteTime": {
     "end_time": "2022-03-23T12:42:28.335879Z",
     "start_time": "2022-03-23T12:42:28.263264Z"
    }
   },
   "outputs": [],
   "source": [
    "preds['layer'] = preds.apply(lambda row: 'groundwood' if row.label == 2 else 'uprightwood', axis=1)"
   ]
  },
  {
   "cell_type": "code",
   "execution_count": 156,
   "id": "c424f986",
   "metadata": {
    "ExecuteTime": {
     "end_time": "2022-03-23T12:42:28.340789Z",
     "start_time": "2022-03-23T12:42:28.337482Z"
    }
   },
   "outputs": [
    {
     "data": {
      "text/plain": [
       "((7017, 4), (5334, 4))"
      ]
     },
     "execution_count": 156,
     "metadata": {},
     "output_type": "execute_result"
    }
   ],
   "source": [
    "preds.shape, truths.shape"
   ]
  },
  {
   "cell_type": "code",
   "execution_count": 157,
   "id": "24508a22",
   "metadata": {
    "ExecuteTime": {
     "end_time": "2022-03-23T12:42:28.357688Z",
     "start_time": "2022-03-23T12:42:28.342124Z"
    }
   },
   "outputs": [
    {
     "data": {
      "text/plain": [
       "groundwood     5663\n",
       "uprightwood    1354\n",
       "Name: layer, dtype: int64"
      ]
     },
     "execution_count": 157,
     "metadata": {},
     "output_type": "execute_result"
    }
   ],
   "source": [
    "preds.layer.value_counts()"
   ]
  },
  {
   "cell_type": "code",
   "execution_count": 158,
   "id": "602425b3",
   "metadata": {
    "ExecuteTime": {
     "end_time": "2022-03-23T12:42:28.367731Z",
     "start_time": "2022-03-23T12:42:28.359423Z"
    }
   },
   "outputs": [],
   "source": [
    "truths.rename(columns={'label':'layer'}, inplace=True)"
   ]
  },
  {
   "cell_type": "code",
   "execution_count": 159,
   "id": "ce556c7d",
   "metadata": {
    "ExecuteTime": {
     "end_time": "2022-03-23T12:42:37.124025Z",
     "start_time": "2022-03-23T12:42:28.369659Z"
    }
   },
   "outputs": [],
   "source": [
    "dis_truths = truths.dissolve(by='layer')\n",
    "dis_preds = preds.dissolve(by='layer')"
   ]
  },
  {
   "cell_type": "code",
   "execution_count": 160,
   "id": "635bf9f7",
   "metadata": {
    "ExecuteTime": {
     "end_time": "2022-03-23T12:42:40.707776Z",
     "start_time": "2022-03-23T12:42:37.126090Z"
    }
   },
   "outputs": [
    {
     "data": {
      "text/plain": [
       "layer\n",
       "groundwood     0.453250\n",
       "uprightwood    0.585433\n",
       "dtype: float64"
      ]
     },
     "execution_count": 160,
     "metadata": {},
     "output_type": "execute_result"
    }
   ],
   "source": [
    "poly_IoU(dis_truths, dis_preds)"
   ]
  },
  {
   "cell_type": "code",
   "execution_count": 161,
   "id": "dd4dae9d",
   "metadata": {
    "ExecuteTime": {
     "end_time": "2022-03-23T12:43:59.350767Z",
     "start_time": "2022-03-23T12:42:40.709137Z"
    },
    "scrolled": false
   },
   "outputs": [
    {
     "data": {
      "application/vnd.jupyter.widget-view+json": {
       "model_id": "dbcfbabef82a4ef1bd29349c100d3535",
       "version_major": 2,
       "version_minor": 0
      },
      "text/plain": [
       "0it [00:00, ?it/s]"
      ]
     },
     "metadata": {},
     "output_type": "display_data"
    },
    {
     "data": {
      "application/vnd.jupyter.widget-view+json": {
       "model_id": "f512c7ff977d4b799fb7ec6a116e83fc",
       "version_major": 2,
       "version_minor": 0
      },
      "text/plain": [
       "  0%|          | 0/71 [00:00<?, ?it/s]"
      ]
     },
     "metadata": {},
     "output_type": "display_data"
    },
    {
     "name": "stdout",
     "output_type": "stream",
     "text": [
      "loading annotations into memory...\n",
      "Done (t=0.26s)\n",
      "creating index...\n",
      "index created!\n",
      "Loading and preparing results...\n",
      "DONE (t=0.08s)\n",
      "creating index...\n",
      "index created!\n",
      "\n",
      "Evaluating for category uprightwood\n",
      "Running per image evaluation...\n",
      "Evaluate annotation type *segm*\n",
      "DONE (t=1.44s).\n",
      "Accumulating evaluation results...\n",
      "DONE (t=0.03s).\n",
      " Average Precision  (AP) @[ IoU=0.50:0.95 | area=   all | maxDets=10000 ] = 0.259\n",
      " Average Precision  (AP) @[ IoU=0.50      | area=   all | maxDets=10000 ] = 0.515\n",
      " Average Precision  (AP) @[ IoU=0.75      | area=   all | maxDets=10000 ] = 0.241\n",
      " Average Precision  (AP) @[ IoU=0.50:0.95 | area= small | maxDets=10000 ] = 0.096\n",
      " Average Precision  (AP) @[ IoU=0.50:0.95 | area=medium | maxDets=10000 ] = 0.346\n",
      " Average Precision  (AP) @[ IoU=0.50:0.95 | area= large | maxDets=10000 ] = 0.539\n",
      " Average Recall     (AR) @[ IoU=0.50:0.95 | area=   all | maxDets=1000 ] = 0.347\n",
      " Average Recall     (AR) @[ IoU=0.50:0.95 | area= small | maxDets=1000 ] = 0.191\n",
      " Average Recall     (AR) @[ IoU=0.50:0.95 | area=medium | maxDets=1000 ] = 0.440\n",
      " Average Recall     (AR) @[ IoU=0.50:0.95 | area= large | maxDets=1000 ] = 0.679\n",
      "\n",
      "Evaluating for category groundwood\n",
      "Running per image evaluation...\n",
      "Evaluate annotation type *segm*\n",
      "DONE (t=20.77s).\n",
      "Accumulating evaluation results...\n",
      "DONE (t=0.08s).\n",
      " Average Precision  (AP) @[ IoU=0.50:0.95 | area=   all | maxDets=10000 ] = 0.131\n",
      " Average Precision  (AP) @[ IoU=0.50      | area=   all | maxDets=10000 ] = 0.378\n",
      " Average Precision  (AP) @[ IoU=0.75      | area=   all | maxDets=10000 ] = 0.051\n",
      " Average Precision  (AP) @[ IoU=0.50:0.95 | area= small | maxDets=10000 ] = 0.128\n",
      " Average Precision  (AP) @[ IoU=0.50:0.95 | area=medium | maxDets=10000 ] = 0.198\n",
      " Average Precision  (AP) @[ IoU=0.50:0.95 | area= large | maxDets=10000 ] = -1.000\n",
      " Average Recall     (AR) @[ IoU=0.50:0.95 | area=   all | maxDets=1000 ] = 0.234\n",
      " Average Recall     (AR) @[ IoU=0.50:0.95 | area= small | maxDets=1000 ] = 0.234\n",
      " Average Recall     (AR) @[ IoU=0.50:0.95 | area=medium | maxDets=1000 ] = 0.257\n",
      " Average Recall     (AR) @[ IoU=0.50:0.95 | area= large | maxDets=1000 ] = -1.000\n",
      "\n",
      "Evaluating for full data...\n",
      "Running per image evaluation...\n",
      "Evaluate annotation type *segm*\n",
      "DONE (t=21.71s).\n",
      "Accumulating evaluation results...\n",
      "DONE (t=0.11s).\n",
      " Average Precision  (AP) @[ IoU=0.50:0.95 | area=   all | maxDets=10000 ] = 0.195\n",
      " Average Precision  (AP) @[ IoU=0.50      | area=   all | maxDets=10000 ] = 0.447\n",
      " Average Precision  (AP) @[ IoU=0.75      | area=   all | maxDets=10000 ] = 0.146\n",
      " Average Precision  (AP) @[ IoU=0.50:0.95 | area= small | maxDets=10000 ] = 0.112\n",
      " Average Precision  (AP) @[ IoU=0.50:0.95 | area=medium | maxDets=10000 ] = 0.272\n",
      " Average Precision  (AP) @[ IoU=0.50:0.95 | area= large | maxDets=10000 ] = 0.539\n",
      " Average Recall     (AR) @[ IoU=0.50:0.95 | area=   all | maxDets=1000 ] = 0.291\n",
      " Average Recall     (AR) @[ IoU=0.50:0.95 | area= small | maxDets=1000 ] = 0.212\n",
      " Average Recall     (AR) @[ IoU=0.50:0.95 | area=medium | maxDets=1000 ] = 0.348\n",
      " Average Recall     (AR) @[ IoU=0.50:0.95 | area= large | maxDets=1000 ] = 0.679\n"
     ]
    }
   ],
   "source": [
    "deadwood_categories = [{'supercategory': 'deadwood', 'id':1, 'name':'uprightwood'},\n",
    "                 \n",
    "                       {'supercategory': 'deadwood', 'id':2, 'name':'groundwood'}]\n",
    "\n",
    "spk_raw_coco_eval = GisCOCOeval(spk_raw_res_path, spk_raw_res_path, \n",
    "                           None, None, deadwood_categories)\n",
    "spk_raw_coco_eval.prepare_data(gt_label_col='label')\n",
    "spk_raw_coco_eval.prepare_eval()\n",
    "spk_raw_coco_eval.coco_eval.params.maxDets = [1000, 10000]\n",
    "spk_raw_coco_eval.evaluate()"
   ]
  },
  {
   "cell_type": "code",
   "execution_count": 163,
   "id": "d6149a47",
   "metadata": {
    "ExecuteTime": {
     "end_time": "2022-03-23T12:47:33.198620Z",
     "start_time": "2022-03-23T12:47:33.183283Z"
    }
   },
   "outputs": [
    {
     "data": {
      "text/html": [
       "<div>\n",
       "<style scoped>\n",
       "    .dataframe tbody tr th:only-of-type {\n",
       "        vertical-align: middle;\n",
       "    }\n",
       "\n",
       "    .dataframe tbody tr th {\n",
       "        vertical-align: top;\n",
       "    }\n",
       "\n",
       "    .dataframe thead th {\n",
       "        text-align: right;\n",
       "    }\n",
       "</style>\n",
       "<table border=\"1\" class=\"dataframe\">\n",
       "  <thead>\n",
       "    <tr style=\"text-align: right;\">\n",
       "      <th></th>\n",
       "      <th>layer</th>\n",
       "      <th>vplot_id</th>\n",
       "      <th>conservation</th>\n",
       "      <th>geometry</th>\n",
       "    </tr>\n",
       "  </thead>\n",
       "  <tbody>\n",
       "    <tr>\n",
       "      <th>0</th>\n",
       "      <td>groundwood</td>\n",
       "      <td>10_1128</td>\n",
       "      <td>1</td>\n",
       "      <td>POLYGON ((402535.360 6787757.955, 402535.185 6787758.116, 402534.943 6787758.170, 402534.230 6787758.385, 402533.827 6787758.587, 402533.477 6787758.815, 402533.195 6787758.829, 402532.536 6787758.667, 402532.536 6787758.775, 402532.536 6787759.124, 402532.644 6787759.407, 402532.926 6787759.837, 402533.423 6787759.447, 402533.706 6787759.071, 402535.387 6787758.345, 402535.360 6787757.955))</td>\n",
       "    </tr>\n",
       "    <tr>\n",
       "      <th>1</th>\n",
       "      <td>uprightwood</td>\n",
       "      <td>10_1128</td>\n",
       "      <td>1</td>\n",
       "      <td>POLYGON ((402539.738 6787761.071, 402539.848 6787760.767, 402540.118 6787760.582, 402540.540 6787760.565, 402540.776 6787760.295, 402540.895 6787759.898, 402540.827 6787759.374, 402540.633 6787758.986, 402539.898 6787758.944, 402539.856 6787758.885, 402539.662 6787758.454, 402539.459 6787758.159, 402539.088 6787757.998, 402538.793 6787758.142, 402538.514 6787758.479, 402538.489 6787758.809, 402538.598 6787759.138, 402538.869 6787759.501, 402538.860 6787759.754, 402538.801 6787760.168, 402538.860 6787760.489, 402539.029 6787760.801, 402539.071 6787761.004, 402539.181 6787761.173, 402539.198...</td>\n",
       "    </tr>\n",
       "    <tr>\n",
       "      <th>2</th>\n",
       "      <td>groundwood</td>\n",
       "      <td>10_1128</td>\n",
       "      <td>1</td>\n",
       "      <td>POLYGON ((402491.012 6787761.780, 402491.257 6787762.076, 402491.654 6787762.700, 402491.958 6787763.123, 402492.101 6787762.945, 402491.679 6787762.354, 402491.350 6787761.822, 402491.012 6787761.780))</td>\n",
       "    </tr>\n",
       "    <tr>\n",
       "      <th>3</th>\n",
       "      <td>groundwood</td>\n",
       "      <td>10_1128</td>\n",
       "      <td>1</td>\n",
       "      <td>POLYGON ((402489.802 6787761.863, 402489.760 6787762.124, 402489.642 6787762.749, 402489.447 6787763.644, 402489.110 6787764.649, 402489.110 6787764.995, 402489.591 6787765.029, 402490.013 6787763.577, 402490.047 6787763.230, 402490.283 6787762.361, 402490.300 6787761.863, 402489.802 6787761.863))</td>\n",
       "    </tr>\n",
       "    <tr>\n",
       "      <th>4</th>\n",
       "      <td>groundwood</td>\n",
       "      <td>10_1128</td>\n",
       "      <td>1</td>\n",
       "      <td>POLYGON ((402507.264 6787760.396, 402507.264 6787760.505, 402507.256 6787760.649, 402507.272 6787760.868, 402507.222 6787761.240, 402507.180 6787761.628, 402507.163 6787762.084, 402507.120 6787762.396, 402507.070 6787762.641, 402506.969 6787762.945, 402506.893 6787763.232, 402506.825 6787763.553, 402506.817 6787763.823, 402506.707 6787764.760, 402506.681 6787765.005, 402506.656 6787765.326, 402506.622 6787765.731, 402506.555 6787766.001, 402506.437 6787766.567, 402506.318 6787767.226, 402506.183 6787768.053, 402506.521 6787768.222, 402506.572 6787767.749, 402506.673 6787767.226, 402506.673...</td>\n",
       "    </tr>\n",
       "    <tr>\n",
       "      <th>...</th>\n",
       "      <td>...</td>\n",
       "      <td>...</td>\n",
       "      <td>...</td>\n",
       "      <td>...</td>\n",
       "    </tr>\n",
       "    <tr>\n",
       "      <th>37</th>\n",
       "      <td>groundwood</td>\n",
       "      <td>9_1123</td>\n",
       "      <td>1</td>\n",
       "      <td>POLYGON ((402731.939 6787926.071, 402731.948 6787926.088, 402731.952 6787926.122, 402731.901 6787926.117, 402731.859 6787926.168, 402731.923 6787926.278, 402731.859 6787926.350, 402731.918 6787926.392, 402731.973 6787926.430, 402732.062 6787926.468, 402732.395 6787926.556, 402732.758 6787926.670, 402732.965 6787926.768, 402733.349 6787926.814, 402733.679 6787926.839, 402733.995 6787926.898, 402734.312 6787926.966, 402734.700 6787927.067, 402734.966 6787927.173, 402735.021 6787927.131, 402735.063 6787927.004, 402734.979 6787926.932, 402734.776 6787926.818, 402734.489 6787926.713, 402734.177...</td>\n",
       "    </tr>\n",
       "    <tr>\n",
       "      <th>38</th>\n",
       "      <td>uprightwood</td>\n",
       "      <td>9_1123</td>\n",
       "      <td>1</td>\n",
       "      <td>POLYGON ((402685.798 6787933.801, 402685.848 6787933.890, 402686.013 6787934.086, 402686.228 6787934.270, 402686.488 6787934.371, 402686.741 6787934.403, 402686.880 6787934.194, 402686.861 6787933.978, 402686.887 6787933.826, 402687.089 6787933.693, 402687.317 6787933.592, 402687.355 6787933.427, 402687.349 6787933.250, 402687.222 6787932.965, 402687.191 6787933.181, 402687.241 6787933.408, 402687.102 6787933.510, 402686.899 6787933.497, 402686.811 6787933.351, 402686.804 6787933.218, 402686.785 6787933.048, 402686.747 6787932.858, 402686.735 6787932.668, 402686.716 6787932.478, 402686.691...</td>\n",
       "    </tr>\n",
       "    <tr>\n",
       "      <th>39</th>\n",
       "      <td>uprightwood</td>\n",
       "      <td>9_1123</td>\n",
       "      <td>1</td>\n",
       "      <td>POLYGON ((402658.026 6787937.739, 402658.058 6787937.796, 402658.248 6787938.037, 402658.311 6787938.164, 402658.355 6787938.176, 402658.501 6787937.993, 402658.495 6787937.828, 402658.577 6787937.746, 402658.723 6787937.632, 402658.729 6787937.467, 402658.602 6787937.417, 402658.431 6787937.423, 402658.393 6787937.417, 402658.469 6787937.284, 402658.583 6787937.100, 402658.596 6787937.018, 402658.482 6787936.910, 402658.438 6787937.043, 402658.355 6787937.163, 402658.159 6787937.271, 402658.096 6787937.277, 402657.976 6787937.113, 402658.014 6787936.961, 402658.128 6787936.796, 402658.210...</td>\n",
       "    </tr>\n",
       "    <tr>\n",
       "      <th>40</th>\n",
       "      <td>groundwood</td>\n",
       "      <td>9_1123</td>\n",
       "      <td>1</td>\n",
       "      <td>POLYGON ((402708.174 6787938.268, 402708.938 6787938.237, 402709.039 6787938.080, 402708.875 6787938.047, 402708.647 6787938.030, 402707.975 6787938.064, 402707.676 6787938.042, 402707.304 6787938.055, 402706.967 6787938.194, 402707.110 6787938.251, 402708.174 6787938.268))</td>\n",
       "    </tr>\n",
       "    <tr>\n",
       "      <th>41</th>\n",
       "      <td>uprightwood</td>\n",
       "      <td>9_1123</td>\n",
       "      <td>1</td>\n",
       "      <td>POLYGON ((402733.141 6787940.013, 402733.131 6787940.013, 402733.109 6787940.006, 402733.071 6787940.016, 402733.075 6787940.073, 402733.185 6787940.120, 402733.296 6787940.142, 402733.356 6787940.209, 402733.445 6787940.323, 402733.502 6787940.383, 402733.622 6787940.437, 402733.648 6787940.491, 402733.635 6787940.605, 402733.600 6787940.649, 402733.521 6787940.687, 402733.435 6787940.712, 402733.363 6787940.725, 402733.325 6787940.817, 402733.321 6787940.899, 402733.404 6787940.947, 402733.426 6787941.000, 402733.410 6787941.016, 402733.325 6787940.991, 402733.233 6787940.940, 402733.084...</td>\n",
       "    </tr>\n",
       "  </tbody>\n",
       "</table>\n",
       "<p>5334 rows × 4 columns</p>\n",
       "</div>"
      ],
      "text/plain": [
       "          layer vplot_id  conservation  \\\n",
       "0    groundwood  10_1128             1   \n",
       "1   uprightwood  10_1128             1   \n",
       "2    groundwood  10_1128             1   \n",
       "3    groundwood  10_1128             1   \n",
       "4    groundwood  10_1128             1   \n",
       "..          ...      ...           ...   \n",
       "37   groundwood   9_1123             1   \n",
       "38  uprightwood   9_1123             1   \n",
       "39  uprightwood   9_1123             1   \n",
       "40   groundwood   9_1123             1   \n",
       "41  uprightwood   9_1123             1   \n",
       "\n",
       "                                                                                                                                                                                                                                                                                                                                                                                                                                                                                                                                                                                                                   geometry  \n",
       "0                                                                                                                                                                                                                POLYGON ((402535.360 6787757.955, 402535.185 6787758.116, 402534.943 6787758.170, 402534.230 6787758.385, 402533.827 6787758.587, 402533.477 6787758.815, 402533.195 6787758.829, 402532.536 6787758.667, 402532.536 6787758.775, 402532.536 6787759.124, 402532.644 6787759.407, 402532.926 6787759.837, 402533.423 6787759.447, 402533.706 6787759.071, 402535.387 6787758.345, 402535.360 6787757.955))  \n",
       "1   POLYGON ((402539.738 6787761.071, 402539.848 6787760.767, 402540.118 6787760.582, 402540.540 6787760.565, 402540.776 6787760.295, 402540.895 6787759.898, 402540.827 6787759.374, 402540.633 6787758.986, 402539.898 6787758.944, 402539.856 6787758.885, 402539.662 6787758.454, 402539.459 6787758.159, 402539.088 6787757.998, 402538.793 6787758.142, 402538.514 6787758.479, 402538.489 6787758.809, 402538.598 6787759.138, 402538.869 6787759.501, 402538.860 6787759.754, 402538.801 6787760.168, 402538.860 6787760.489, 402539.029 6787760.801, 402539.071 6787761.004, 402539.181 6787761.173, 402539.198...  \n",
       "2                                                                                                                                                                                                                                                                                                                                                                                                                POLYGON ((402491.012 6787761.780, 402491.257 6787762.076, 402491.654 6787762.700, 402491.958 6787763.123, 402492.101 6787762.945, 402491.679 6787762.354, 402491.350 6787761.822, 402491.012 6787761.780))  \n",
       "3                                                                                                                                                                                                                                                                                                                POLYGON ((402489.802 6787761.863, 402489.760 6787762.124, 402489.642 6787762.749, 402489.447 6787763.644, 402489.110 6787764.649, 402489.110 6787764.995, 402489.591 6787765.029, 402490.013 6787763.577, 402490.047 6787763.230, 402490.283 6787762.361, 402490.300 6787761.863, 402489.802 6787761.863))  \n",
       "4   POLYGON ((402507.264 6787760.396, 402507.264 6787760.505, 402507.256 6787760.649, 402507.272 6787760.868, 402507.222 6787761.240, 402507.180 6787761.628, 402507.163 6787762.084, 402507.120 6787762.396, 402507.070 6787762.641, 402506.969 6787762.945, 402506.893 6787763.232, 402506.825 6787763.553, 402506.817 6787763.823, 402506.707 6787764.760, 402506.681 6787765.005, 402506.656 6787765.326, 402506.622 6787765.731, 402506.555 6787766.001, 402506.437 6787766.567, 402506.318 6787767.226, 402506.183 6787768.053, 402506.521 6787768.222, 402506.572 6787767.749, 402506.673 6787767.226, 402506.673...  \n",
       "..                                                                                                                                                                                                                                                                                                                                                                                                                                                                                                                                                                                                                      ...  \n",
       "37  POLYGON ((402731.939 6787926.071, 402731.948 6787926.088, 402731.952 6787926.122, 402731.901 6787926.117, 402731.859 6787926.168, 402731.923 6787926.278, 402731.859 6787926.350, 402731.918 6787926.392, 402731.973 6787926.430, 402732.062 6787926.468, 402732.395 6787926.556, 402732.758 6787926.670, 402732.965 6787926.768, 402733.349 6787926.814, 402733.679 6787926.839, 402733.995 6787926.898, 402734.312 6787926.966, 402734.700 6787927.067, 402734.966 6787927.173, 402735.021 6787927.131, 402735.063 6787927.004, 402734.979 6787926.932, 402734.776 6787926.818, 402734.489 6787926.713, 402734.177...  \n",
       "38  POLYGON ((402685.798 6787933.801, 402685.848 6787933.890, 402686.013 6787934.086, 402686.228 6787934.270, 402686.488 6787934.371, 402686.741 6787934.403, 402686.880 6787934.194, 402686.861 6787933.978, 402686.887 6787933.826, 402687.089 6787933.693, 402687.317 6787933.592, 402687.355 6787933.427, 402687.349 6787933.250, 402687.222 6787932.965, 402687.191 6787933.181, 402687.241 6787933.408, 402687.102 6787933.510, 402686.899 6787933.497, 402686.811 6787933.351, 402686.804 6787933.218, 402686.785 6787933.048, 402686.747 6787932.858, 402686.735 6787932.668, 402686.716 6787932.478, 402686.691...  \n",
       "39  POLYGON ((402658.026 6787937.739, 402658.058 6787937.796, 402658.248 6787938.037, 402658.311 6787938.164, 402658.355 6787938.176, 402658.501 6787937.993, 402658.495 6787937.828, 402658.577 6787937.746, 402658.723 6787937.632, 402658.729 6787937.467, 402658.602 6787937.417, 402658.431 6787937.423, 402658.393 6787937.417, 402658.469 6787937.284, 402658.583 6787937.100, 402658.596 6787937.018, 402658.482 6787936.910, 402658.438 6787937.043, 402658.355 6787937.163, 402658.159 6787937.271, 402658.096 6787937.277, 402657.976 6787937.113, 402658.014 6787936.961, 402658.128 6787936.796, 402658.210...  \n",
       "40                                                                                                                                                                                                                                                                                                                                       POLYGON ((402708.174 6787938.268, 402708.938 6787938.237, 402709.039 6787938.080, 402708.875 6787938.047, 402708.647 6787938.030, 402707.975 6787938.064, 402707.676 6787938.042, 402707.304 6787938.055, 402706.967 6787938.194, 402707.110 6787938.251, 402708.174 6787938.268))  \n",
       "41  POLYGON ((402733.141 6787940.013, 402733.131 6787940.013, 402733.109 6787940.006, 402733.071 6787940.016, 402733.075 6787940.073, 402733.185 6787940.120, 402733.296 6787940.142, 402733.356 6787940.209, 402733.445 6787940.323, 402733.502 6787940.383, 402733.622 6787940.437, 402733.648 6787940.491, 402733.635 6787940.605, 402733.600 6787940.649, 402733.521 6787940.687, 402733.435 6787940.712, 402733.363 6787940.725, 402733.325 6787940.817, 402733.321 6787940.899, 402733.404 6787940.947, 402733.426 6787941.000, 402733.410 6787941.016, 402733.325 6787940.991, 402733.233 6787940.940, 402733.084...  \n",
       "\n",
       "[5334 rows x 4 columns]"
      ]
     },
     "execution_count": 163,
     "metadata": {},
     "output_type": "execute_result"
    }
   ],
   "source": [
    "tp_truths"
   ]
  },
  {
   "cell_type": "code",
   "execution_count": 164,
   "id": "299ba95f",
   "metadata": {
    "ExecuteTime": {
     "end_time": "2022-03-23T12:50:01.521799Z",
     "start_time": "2022-03-23T12:48:09.043785Z"
    }
   },
   "outputs": [
    {
     "name": "stderr",
     "output_type": "stream",
     "text": [
      "100%|██████████| 5334/5334 [00:37<00:00, 141.74it/s]\n",
      "100%|██████████| 7017/7017 [01:14<00:00, 94.70it/s] \n"
     ]
    }
   ],
   "source": [
    "tp_truths = truths.copy()\n",
    "tp_truths['label'] = tp_truths.layer.apply(lambda row: 1 if row=='uprightwood' else 2)\n",
    "truth_sindex = tp_truths.sindex\n",
    "fp_preds = preds.copy()\n",
    "pred_sindex = fp_preds.sindex\n",
    "tp_truths[tp_cols] = tp_truths.progress_apply(lambda row: is_true_positive(row, fp_preds, pred_sindex), \n",
    "                                              axis=1, result_type='expand')\n",
    "fp_preds[fp_cols] = fp_preds.progress_apply(lambda row: is_false_positive(row, tp_truths, truth_sindex,\n",
    "                                                                            fp_preds, pred_sindex),\n",
    "                                            axis=1, result_type='expand')"
   ]
  },
  {
   "cell_type": "code",
   "execution_count": 165,
   "id": "d88eff7c",
   "metadata": {
    "ExecuteTime": {
     "end_time": "2022-03-23T12:50:12.904981Z",
     "start_time": "2022-03-23T12:50:12.872350Z"
    }
   },
   "outputs": [
    {
     "data": {
      "text/html": [
       "<div>\n",
       "<style scoped>\n",
       "    .dataframe tbody tr th:only-of-type {\n",
       "        vertical-align: middle;\n",
       "    }\n",
       "\n",
       "    .dataframe tbody tr th {\n",
       "        vertical-align: top;\n",
       "    }\n",
       "\n",
       "    .dataframe thead th {\n",
       "        text-align: right;\n",
       "    }\n",
       "</style>\n",
       "<table border=\"1\" class=\"dataframe\">\n",
       "  <thead>\n",
       "    <tr style=\"text-align: right;\">\n",
       "      <th>FP_0.5</th>\n",
       "      <th>FP</th>\n",
       "      <th>TP</th>\n",
       "      <th>All</th>\n",
       "    </tr>\n",
       "    <tr>\n",
       "      <th>layer</th>\n",
       "      <th></th>\n",
       "      <th></th>\n",
       "      <th></th>\n",
       "    </tr>\n",
       "  </thead>\n",
       "  <tbody>\n",
       "    <tr>\n",
       "      <th>groundwood</th>\n",
       "      <td>3612</td>\n",
       "      <td>2051</td>\n",
       "      <td>5663</td>\n",
       "    </tr>\n",
       "    <tr>\n",
       "      <th>uprightwood</th>\n",
       "      <td>505</td>\n",
       "      <td>849</td>\n",
       "      <td>1354</td>\n",
       "    </tr>\n",
       "    <tr>\n",
       "      <th>All</th>\n",
       "      <td>4117</td>\n",
       "      <td>2900</td>\n",
       "      <td>7017</td>\n",
       "    </tr>\n",
       "  </tbody>\n",
       "</table>\n",
       "</div>"
      ],
      "text/plain": [
       "FP_0.5         FP    TP   All\n",
       "layer                        \n",
       "groundwood   3612  2051  5663\n",
       "uprightwood   505   849  1354\n",
       "All          4117  2900  7017"
      ]
     },
     "execution_count": 165,
     "metadata": {},
     "output_type": "execute_result"
    }
   ],
   "source": [
    "pd.crosstab(fp_preds.layer, fp_preds['FP_0.5'], margins=True)"
   ]
  },
  {
   "cell_type": "code",
   "execution_count": 166,
   "id": "8db064a9",
   "metadata": {
    "ExecuteTime": {
     "end_time": "2022-03-23T12:50:13.782282Z",
     "start_time": "2022-03-23T12:50:13.648604Z"
    }
   },
   "outputs": [
    {
     "data": {
      "text/html": [
       "<div>\n",
       "<style scoped>\n",
       "    .dataframe tbody tr th:only-of-type {\n",
       "        vertical-align: middle;\n",
       "    }\n",
       "\n",
       "    .dataframe tbody tr th {\n",
       "        vertical-align: top;\n",
       "    }\n",
       "\n",
       "    .dataframe thead th {\n",
       "        text-align: right;\n",
       "    }\n",
       "</style>\n",
       "<table border=\"1\" class=\"dataframe\">\n",
       "  <thead>\n",
       "    <tr style=\"text-align: right;\">\n",
       "      <th>TP_0.5</th>\n",
       "      <th>FN</th>\n",
       "      <th>TP</th>\n",
       "      <th>All</th>\n",
       "    </tr>\n",
       "    <tr>\n",
       "      <th>layer</th>\n",
       "      <th></th>\n",
       "      <th></th>\n",
       "      <th></th>\n",
       "    </tr>\n",
       "  </thead>\n",
       "  <tbody>\n",
       "    <tr>\n",
       "      <th>groundwood</th>\n",
       "      <td>1864</td>\n",
       "      <td>2051</td>\n",
       "      <td>3915</td>\n",
       "    </tr>\n",
       "    <tr>\n",
       "      <th>uprightwood</th>\n",
       "      <td>571</td>\n",
       "      <td>848</td>\n",
       "      <td>1419</td>\n",
       "    </tr>\n",
       "    <tr>\n",
       "      <th>All</th>\n",
       "      <td>2435</td>\n",
       "      <td>2899</td>\n",
       "      <td>5334</td>\n",
       "    </tr>\n",
       "  </tbody>\n",
       "</table>\n",
       "</div>"
      ],
      "text/plain": [
       "TP_0.5         FN    TP   All\n",
       "layer                        \n",
       "groundwood   1864  2051  3915\n",
       "uprightwood   571   848  1419\n",
       "All          2435  2899  5334"
      ]
     },
     "execution_count": 166,
     "metadata": {},
     "output_type": "execute_result"
    }
   ],
   "source": [
    "pd.crosstab(tp_truths.layer, tp_truths['TP_0.5'], margins=True)"
   ]
  },
  {
   "cell_type": "markdown",
   "id": "9e1341b4",
   "metadata": {},
   "source": [
    "$Precision = \\frac{tp}{tp+fp}, Recall = \\frac{tp}{tp+fn}$"
   ]
  },
  {
   "cell_type": "code",
   "execution_count": 188,
   "id": "b53a4a19",
   "metadata": {
    "ExecuteTime": {
     "end_time": "2022-03-23T12:58:37.315664Z",
     "start_time": "2022-03-23T12:58:37.312294Z"
    }
   },
   "outputs": [
    {
     "name": "stdout",
     "output_type": "stream",
     "text": [
      "Precision for fallen deadwood with IoU threshold of 0.5 is 0.36\n",
      "Recall for fallen deadwood with IoU threshold of 0.5 is 0.52\n"
     ]
    }
   ],
   "source": [
    "print(f'Precision for fallen deadwood with IoU threshold of 0.5 is {(2051/5663):.2f}')\n",
    "print(f'Recall for fallen deadwood with IoU threshold of 0.5 is {(2051/3915):.2f}')"
   ]
  },
  {
   "cell_type": "code",
   "execution_count": 189,
   "id": "97660f22",
   "metadata": {
    "ExecuteTime": {
     "end_time": "2022-03-23T12:58:38.377105Z",
     "start_time": "2022-03-23T12:58:38.373889Z"
    }
   },
   "outputs": [
    {
     "name": "stdout",
     "output_type": "stream",
     "text": [
      "Precision for standing deadwood with IoU threshold of 0.5 is 0.63\n",
      "Recall for standing deadwood with IoU threshold of 0.5 is 0.60\n"
     ]
    }
   ],
   "source": [
    "print(f'Precision for standing deadwood with IoU threshold of 0.5 is {(849/1354):.2f}')\n",
    "print(f'Recall for standing deadwood with IoU threshold of 0.5 is {(849/1419):.2f}')"
   ]
  },
  {
   "cell_type": "code",
   "execution_count": 190,
   "id": "2fb505b4",
   "metadata": {
    "ExecuteTime": {
     "end_time": "2022-03-23T12:58:39.765241Z",
     "start_time": "2022-03-23T12:58:39.761861Z"
    }
   },
   "outputs": [
    {
     "name": "stdout",
     "output_type": "stream",
     "text": [
      "Overall precision with IoU threshold of 0.5 is 0.41\n",
      "Overall recall with IoU threshold of 0.5 is 0.54\n"
     ]
    }
   ],
   "source": [
    "print(f'Overall precision with IoU threshold of 0.5 is {(2900/7017):.2f}')\n",
    "print(f'Overall recall with IoU threshold of 0.5 is {(2899/5334):.2f}')"
   ]
  },
  {
   "cell_type": "markdown",
   "id": "796648b7",
   "metadata": {},
   "source": [
    "## Half patch overlap and edge filtering"
   ]
  },
  {
   "cell_type": "code",
   "execution_count": 171,
   "id": "b7552d29",
   "metadata": {
    "ExecuteTime": {
     "end_time": "2022-03-23T12:51:52.450416Z",
     "start_time": "2022-03-23T12:51:52.440173Z"
    }
   },
   "outputs": [],
   "source": [
    "spk_res_path = Path('../results/spk_buffered/')\n",
    "truth_shps = sorted([spk_res_path/'vector_tiles'/f for f in os.listdir(spk_res_path/'vector_tiles')])\n",
    "spk_buf_raw_shps = sorted([spk_res_path/'raw_preds'/f for f in os.listdir(spk_res_path/'raw_preds')])\n",
    "rasters = sorted([spk_res_path/'raster_tiles'/f for f in os.listdir(spk_res_path/'raster_tiles')])"
   ]
  },
  {
   "cell_type": "code",
   "execution_count": 172,
   "id": "cff7058a",
   "metadata": {
    "ExecuteTime": {
     "end_time": "2022-03-23T12:52:26.529958Z",
     "start_time": "2022-03-23T12:51:52.834235Z"
    }
   },
   "outputs": [],
   "source": [
    "for p, t in zip(spk_buf_raw_shps, truth_shps):\n",
    "    temp_pred = gpd.read_file(p)\n",
    "    temp_truth = gpd.read_file(t)\n",
    "    temp_pred = gpd.clip(temp_pred, box(*temp_truth.total_bounds))\n",
    "    temp_pred['geometry'] = temp_pred.apply(lambda row: fix_multipolys(row.geometry) \n",
    "                                            if row.geometry.type == 'MultiPolygon' \n",
    "                                            else shapely.geometry.Polygon(row.geometry.exterior), axis=1)\n",
    "    temp_pred['label'] += 1\n",
    "    temp_pred = temp_pred[temp_pred.geometry.area > 16*0.0485**2]\n",
    "    temp_pred.to_file(spk_res_path/'predicted_vectors'/p.name)"
   ]
  },
  {
   "cell_type": "code",
   "execution_count": 173,
   "id": "48d3f4c8",
   "metadata": {
    "ExecuteTime": {
     "end_time": "2022-03-23T12:52:26.536202Z",
     "start_time": "2022-03-23T12:52:26.532147Z"
    }
   },
   "outputs": [],
   "source": [
    "pred_shps = sorted([spk_res_path/'predicted_vectors'/f for f in os.listdir(spk_res_path/'predicted_vectors')])"
   ]
  },
  {
   "cell_type": "code",
   "execution_count": 174,
   "id": "4d7d7261",
   "metadata": {
    "ExecuteTime": {
     "end_time": "2022-03-23T12:52:35.616442Z",
     "start_time": "2022-03-23T12:52:26.537738Z"
    }
   },
   "outputs": [],
   "source": [
    "truths = None\n",
    "preds = None\n",
    "\n",
    "for p, t in zip(pred_shps, truth_shps):\n",
    "    temp_pred = gpd.read_file(p)\n",
    "    temp_truth = gpd.read_file(t)\n",
    "    if truths is None:\n",
    "        truths = temp_truth\n",
    "        preds = temp_pred\n",
    "    else:\n",
    "        truths = pd.concat((truths, temp_truth))\n",
    "        preds = pd.concat((preds, temp_pred))"
   ]
  },
  {
   "cell_type": "code",
   "execution_count": 175,
   "id": "d2f040b8",
   "metadata": {
    "ExecuteTime": {
     "end_time": "2022-03-23T12:52:35.692844Z",
     "start_time": "2022-03-23T12:52:35.618808Z"
    }
   },
   "outputs": [],
   "source": [
    "preds['layer'] = preds.apply(lambda row: 'groundwood' if row.label == 2 else 'uprightwood', axis=1)"
   ]
  },
  {
   "cell_type": "code",
   "execution_count": 176,
   "id": "6771fe51",
   "metadata": {
    "ExecuteTime": {
     "end_time": "2022-03-23T12:52:35.831459Z",
     "start_time": "2022-03-23T12:52:35.694372Z"
    }
   },
   "outputs": [
    {
     "data": {
      "text/plain": [
       "((7157, 4), (5334, 4))"
      ]
     },
     "execution_count": 176,
     "metadata": {},
     "output_type": "execute_result"
    }
   ],
   "source": [
    "preds.shape, truths.shape"
   ]
  },
  {
   "cell_type": "code",
   "execution_count": 177,
   "id": "b7140169",
   "metadata": {
    "ExecuteTime": {
     "end_time": "2022-03-23T12:52:35.948119Z",
     "start_time": "2022-03-23T12:52:35.832927Z"
    }
   },
   "outputs": [
    {
     "data": {
      "text/plain": [
       "groundwood     5777\n",
       "uprightwood    1380\n",
       "Name: layer, dtype: int64"
      ]
     },
     "execution_count": 177,
     "metadata": {},
     "output_type": "execute_result"
    }
   ],
   "source": [
    "preds.layer.value_counts()"
   ]
  },
  {
   "cell_type": "code",
   "execution_count": 178,
   "id": "040b0924",
   "metadata": {
    "ExecuteTime": {
     "end_time": "2022-03-23T12:52:35.985266Z",
     "start_time": "2022-03-23T12:52:35.949453Z"
    }
   },
   "outputs": [],
   "source": [
    "truths.rename(columns={'label':'layer'}, inplace=True)"
   ]
  },
  {
   "cell_type": "code",
   "execution_count": 179,
   "id": "2fdf272a",
   "metadata": {
    "ExecuteTime": {
     "end_time": "2022-03-23T12:52:45.028823Z",
     "start_time": "2022-03-23T12:52:35.987401Z"
    }
   },
   "outputs": [],
   "source": [
    "dis_truths = truths.dissolve(by='layer')\n",
    "dis_preds = preds.dissolve(by='layer')"
   ]
  },
  {
   "cell_type": "code",
   "execution_count": 180,
   "id": "b7dad594",
   "metadata": {
    "ExecuteTime": {
     "end_time": "2022-03-23T12:52:56.574713Z",
     "start_time": "2022-03-23T12:52:45.031743Z"
    }
   },
   "outputs": [
    {
     "data": {
      "text/plain": [
       "layer\n",
       "groundwood     0.458800\n",
       "uprightwood    0.598393\n",
       "dtype: float64"
      ]
     },
     "execution_count": 180,
     "metadata": {},
     "output_type": "execute_result"
    }
   ],
   "source": [
    "poly_IoU(dis_truths, dis_preds)"
   ]
  },
  {
   "cell_type": "code",
   "execution_count": 181,
   "id": "4d100f63",
   "metadata": {
    "ExecuteTime": {
     "end_time": "2022-03-23T12:54:32.702338Z",
     "start_time": "2022-03-23T12:52:56.576592Z"
    },
    "scrolled": false
   },
   "outputs": [
    {
     "data": {
      "application/vnd.jupyter.widget-view+json": {
       "model_id": "ac686ed7dbb14b05807bdf2ab4de6c2a",
       "version_major": 2,
       "version_minor": 0
      },
      "text/plain": [
       "0it [00:00, ?it/s]"
      ]
     },
     "metadata": {},
     "output_type": "display_data"
    },
    {
     "data": {
      "application/vnd.jupyter.widget-view+json": {
       "model_id": "7722af3ce2654592bdd8a35ffb483c85",
       "version_major": 2,
       "version_minor": 0
      },
      "text/plain": [
       "  0%|          | 0/71 [00:00<?, ?it/s]"
      ]
     },
     "metadata": {},
     "output_type": "display_data"
    },
    {
     "name": "stdout",
     "output_type": "stream",
     "text": [
      "loading annotations into memory...\n",
      "Done (t=2.17s)\n",
      "creating index...\n",
      "index created!\n",
      "Loading and preparing results...\n",
      "DONE (t=0.29s)\n",
      "creating index...\n",
      "index created!\n",
      "\n",
      "Evaluating for category uprightwood\n",
      "Running per image evaluation...\n",
      "Evaluate annotation type *segm*\n",
      "DONE (t=1.53s).\n",
      "Accumulating evaluation results...\n",
      "DONE (t=0.04s).\n",
      " Average Precision  (AP) @[ IoU=0.50:0.95 | area=   all | maxDets=10000 ] = 0.330\n",
      " Average Precision  (AP) @[ IoU=0.50      | area=   all | maxDets=10000 ] = 0.591\n",
      " Average Precision  (AP) @[ IoU=0.75      | area=   all | maxDets=10000 ] = 0.352\n",
      " Average Precision  (AP) @[ IoU=0.50:0.95 | area= small | maxDets=10000 ] = 0.125\n",
      " Average Precision  (AP) @[ IoU=0.50:0.95 | area=medium | maxDets=10000 ] = 0.449\n",
      " Average Precision  (AP) @[ IoU=0.50:0.95 | area= large | maxDets=10000 ] = 0.419\n",
      " Average Recall     (AR) @[ IoU=0.50:0.95 | area=   all | maxDets=1000 ] = 0.408\n",
      " Average Recall     (AR) @[ IoU=0.50:0.95 | area= small | maxDets=1000 ] = 0.223\n",
      " Average Recall     (AR) @[ IoU=0.50:0.95 | area=medium | maxDets=1000 ] = 0.520\n",
      " Average Recall     (AR) @[ IoU=0.50:0.95 | area= large | maxDets=1000 ] = 0.771\n",
      "\n",
      "Evaluating for category groundwood\n",
      "Running per image evaluation...\n",
      "Evaluate annotation type *segm*\n",
      "DONE (t=20.72s).\n",
      "Accumulating evaluation results...\n",
      "DONE (t=0.09s).\n",
      " Average Precision  (AP) @[ IoU=0.50:0.95 | area=   all | maxDets=10000 ] = 0.162\n",
      " Average Precision  (AP) @[ IoU=0.50      | area=   all | maxDets=10000 ] = 0.448\n",
      " Average Precision  (AP) @[ IoU=0.75      | area=   all | maxDets=10000 ] = 0.071\n",
      " Average Precision  (AP) @[ IoU=0.50:0.95 | area= small | maxDets=10000 ] = 0.159\n",
      " Average Precision  (AP) @[ IoU=0.50:0.95 | area=medium | maxDets=10000 ] = 0.249\n",
      " Average Precision  (AP) @[ IoU=0.50:0.95 | area= large | maxDets=10000 ] = -1.000\n",
      " Average Recall     (AR) @[ IoU=0.50:0.95 | area=   all | maxDets=1000 ] = 0.264\n",
      " Average Recall     (AR) @[ IoU=0.50:0.95 | area= small | maxDets=1000 ] = 0.262\n",
      " Average Recall     (AR) @[ IoU=0.50:0.95 | area=medium | maxDets=1000 ] = 0.319\n",
      " Average Recall     (AR) @[ IoU=0.50:0.95 | area= large | maxDets=1000 ] = -1.000\n",
      "\n",
      "Evaluating for full data...\n",
      "Running per image evaluation...\n",
      "Evaluate annotation type *segm*\n",
      "DONE (t=22.73s).\n",
      "Accumulating evaluation results...\n",
      "DONE (t=0.14s).\n",
      " Average Precision  (AP) @[ IoU=0.50:0.95 | area=   all | maxDets=10000 ] = 0.246\n",
      " Average Precision  (AP) @[ IoU=0.50      | area=   all | maxDets=10000 ] = 0.519\n",
      " Average Precision  (AP) @[ IoU=0.75      | area=   all | maxDets=10000 ] = 0.212\n",
      " Average Precision  (AP) @[ IoU=0.50:0.95 | area= small | maxDets=10000 ] = 0.142\n",
      " Average Precision  (AP) @[ IoU=0.50:0.95 | area=medium | maxDets=10000 ] = 0.349\n",
      " Average Precision  (AP) @[ IoU=0.50:0.95 | area= large | maxDets=10000 ] = 0.419\n",
      " Average Recall     (AR) @[ IoU=0.50:0.95 | area=   all | maxDets=1000 ] = 0.336\n",
      " Average Recall     (AR) @[ IoU=0.50:0.95 | area= small | maxDets=1000 ] = 0.243\n",
      " Average Recall     (AR) @[ IoU=0.50:0.95 | area=medium | maxDets=1000 ] = 0.419\n",
      " Average Recall     (AR) @[ IoU=0.50:0.95 | area= large | maxDets=1000 ] = 0.771\n"
     ]
    }
   ],
   "source": [
    "deadwood_categories = [{'supercategory': 'deadwood', 'id':1, 'name':'uprightwood'},\n",
    "                 \n",
    "                       {'supercategory': 'deadwood', 'id':2, 'name':'groundwood'}]\n",
    "\n",
    "spk_coco_eval = GisCOCOeval(spk_res_path, spk_res_path, \n",
    "                           None, None, deadwood_categories)\n",
    "spk_coco_eval.prepare_data(gt_label_col='label')\n",
    "spk_coco_eval.prepare_eval()\n",
    "spk_coco_eval.coco_eval.params.maxDets = [1000, 10000]\n",
    "spk_coco_eval.evaluate()"
   ]
  },
  {
   "cell_type": "code",
   "execution_count": 182,
   "id": "8dfc3a2d",
   "metadata": {
    "ExecuteTime": {
     "end_time": "2022-03-23T12:57:50.568174Z",
     "start_time": "2022-03-23T12:54:32.704381Z"
    }
   },
   "outputs": [
    {
     "name": "stderr",
     "output_type": "stream",
     "text": [
      "100%|██████████| 5334/5334 [01:01<00:00, 87.27it/s] \n",
      "100%|██████████| 7157/7157 [02:15<00:00, 52.72it/s] \n"
     ]
    }
   ],
   "source": [
    "tp_truths = truths.copy()\n",
    "tp_truths['label'] = tp_truths.layer.apply(lambda row: 1 if row=='uprightwood' else 2)\n",
    "truth_sindex = tp_truths.sindex\n",
    "fp_preds = preds.copy()\n",
    "pred_sindex = fp_preds.sindex\n",
    "tp_truths[tp_cols] = tp_truths.progress_apply(lambda row: is_true_positive(row, fp_preds, pred_sindex), \n",
    "                                              axis=1, result_type='expand')\n",
    "fp_preds[fp_cols] = fp_preds.progress_apply(lambda row: is_false_positive(row, tp_truths, truth_sindex,\n",
    "                                                                            fp_preds, pred_sindex),\n",
    "                                            axis=1, result_type='expand')"
   ]
  },
  {
   "cell_type": "code",
   "execution_count": 183,
   "id": "c9be510b",
   "metadata": {
    "ExecuteTime": {
     "end_time": "2022-03-23T12:57:50.615376Z",
     "start_time": "2022-03-23T12:57:50.570182Z"
    }
   },
   "outputs": [
    {
     "data": {
      "text/html": [
       "<div>\n",
       "<style scoped>\n",
       "    .dataframe tbody tr th:only-of-type {\n",
       "        vertical-align: middle;\n",
       "    }\n",
       "\n",
       "    .dataframe tbody tr th {\n",
       "        vertical-align: top;\n",
       "    }\n",
       "\n",
       "    .dataframe thead th {\n",
       "        text-align: right;\n",
       "    }\n",
       "</style>\n",
       "<table border=\"1\" class=\"dataframe\">\n",
       "  <thead>\n",
       "    <tr style=\"text-align: right;\">\n",
       "      <th>FP_0.5</th>\n",
       "      <th>FP</th>\n",
       "      <th>TP</th>\n",
       "      <th>All</th>\n",
       "    </tr>\n",
       "    <tr>\n",
       "      <th>layer</th>\n",
       "      <th></th>\n",
       "      <th></th>\n",
       "      <th></th>\n",
       "    </tr>\n",
       "  </thead>\n",
       "  <tbody>\n",
       "    <tr>\n",
       "      <th>groundwood</th>\n",
       "      <td>3508</td>\n",
       "      <td>2269</td>\n",
       "      <td>5777</td>\n",
       "    </tr>\n",
       "    <tr>\n",
       "      <th>uprightwood</th>\n",
       "      <td>441</td>\n",
       "      <td>939</td>\n",
       "      <td>1380</td>\n",
       "    </tr>\n",
       "    <tr>\n",
       "      <th>All</th>\n",
       "      <td>3949</td>\n",
       "      <td>3208</td>\n",
       "      <td>7157</td>\n",
       "    </tr>\n",
       "  </tbody>\n",
       "</table>\n",
       "</div>"
      ],
      "text/plain": [
       "FP_0.5         FP    TP   All\n",
       "layer                        \n",
       "groundwood   3508  2269  5777\n",
       "uprightwood   441   939  1380\n",
       "All          3949  3208  7157"
      ]
     },
     "execution_count": 183,
     "metadata": {},
     "output_type": "execute_result"
    }
   ],
   "source": [
    "pd.crosstab(fp_preds.layer, fp_preds['FP_0.5'], margins=True)"
   ]
  },
  {
   "cell_type": "code",
   "execution_count": 184,
   "id": "b696a6a1",
   "metadata": {
    "ExecuteTime": {
     "end_time": "2022-03-23T12:57:51.145898Z",
     "start_time": "2022-03-23T12:57:50.617469Z"
    }
   },
   "outputs": [
    {
     "data": {
      "text/html": [
       "<div>\n",
       "<style scoped>\n",
       "    .dataframe tbody tr th:only-of-type {\n",
       "        vertical-align: middle;\n",
       "    }\n",
       "\n",
       "    .dataframe tbody tr th {\n",
       "        vertical-align: top;\n",
       "    }\n",
       "\n",
       "    .dataframe thead th {\n",
       "        text-align: right;\n",
       "    }\n",
       "</style>\n",
       "<table border=\"1\" class=\"dataframe\">\n",
       "  <thead>\n",
       "    <tr style=\"text-align: right;\">\n",
       "      <th>TP_0.5</th>\n",
       "      <th>FN</th>\n",
       "      <th>TP</th>\n",
       "      <th>All</th>\n",
       "    </tr>\n",
       "    <tr>\n",
       "      <th>layer</th>\n",
       "      <th></th>\n",
       "      <th></th>\n",
       "      <th></th>\n",
       "    </tr>\n",
       "  </thead>\n",
       "  <tbody>\n",
       "    <tr>\n",
       "      <th>groundwood</th>\n",
       "      <td>1646</td>\n",
       "      <td>2269</td>\n",
       "      <td>3915</td>\n",
       "    </tr>\n",
       "    <tr>\n",
       "      <th>uprightwood</th>\n",
       "      <td>481</td>\n",
       "      <td>938</td>\n",
       "      <td>1419</td>\n",
       "    </tr>\n",
       "    <tr>\n",
       "      <th>All</th>\n",
       "      <td>2127</td>\n",
       "      <td>3207</td>\n",
       "      <td>5334</td>\n",
       "    </tr>\n",
       "  </tbody>\n",
       "</table>\n",
       "</div>"
      ],
      "text/plain": [
       "TP_0.5         FN    TP   All\n",
       "layer                        \n",
       "groundwood   1646  2269  3915\n",
       "uprightwood   481   938  1419\n",
       "All          2127  3207  5334"
      ]
     },
     "execution_count": 184,
     "metadata": {},
     "output_type": "execute_result"
    }
   ],
   "source": [
    "pd.crosstab(tp_truths.layer, tp_truths['TP_0.5'], margins=True)"
   ]
  },
  {
   "cell_type": "markdown",
   "id": "37430157",
   "metadata": {},
   "source": [
    "$Precision = \\frac{tp}{tp+fp}, Recall = \\frac{tp}{tp+fn}$"
   ]
  },
  {
   "cell_type": "code",
   "execution_count": 193,
   "id": "2cac7543",
   "metadata": {
    "ExecuteTime": {
     "end_time": "2022-03-23T12:59:29.586715Z",
     "start_time": "2022-03-23T12:59:29.583560Z"
    }
   },
   "outputs": [
    {
     "name": "stdout",
     "output_type": "stream",
     "text": [
      "Precision for fallen deadwood with IoU threshold of 0.5 is 0.39\n",
      "Recall for fallen deadwood with IoU threshold of 0.5 is 0.58\n"
     ]
    }
   ],
   "source": [
    "print(f'Precision for fallen deadwood with IoU threshold of 0.5 is {(2269/5777):.2f}')\n",
    "print(f'Recall for fallen deadwood with IoU threshold of 0.5 is {(2269/3915):.2f}')"
   ]
  },
  {
   "cell_type": "code",
   "execution_count": 191,
   "id": "0f6ca3c8",
   "metadata": {
    "ExecuteTime": {
     "end_time": "2022-03-23T12:59:01.736164Z",
     "start_time": "2022-03-23T12:59:01.732950Z"
    }
   },
   "outputs": [
    {
     "name": "stdout",
     "output_type": "stream",
     "text": [
      "Precision for standing deadwood with IoU threshold of 0.5 is 0.68\n",
      "Recall for standing deadwood with IoU threshold of 0.5 is 0.66\n"
     ]
    }
   ],
   "source": [
    "print(f'Precision for standing deadwood with IoU threshold of 0.5 is {(939/1380):.2f}')\n",
    "print(f'Recall for standing deadwood with IoU threshold of 0.5 is {(939/1419):.2f}')"
   ]
  },
  {
   "cell_type": "code",
   "execution_count": 194,
   "id": "1376d903",
   "metadata": {
    "ExecuteTime": {
     "end_time": "2022-03-23T12:59:50.968650Z",
     "start_time": "2022-03-23T12:59:50.965333Z"
    }
   },
   "outputs": [
    {
     "name": "stdout",
     "output_type": "stream",
     "text": [
      "Overall precision with IoU threshold of 0.5 is 0.45\n",
      "Overall recall with IoU threshold of 0.5 is 0.60\n"
     ]
    }
   ],
   "source": [
    "print(f'Overall precision with IoU threshold of 0.5 is {(3208/7157):.2f}')\n",
    "print(f'Overall recall with IoU threshold of 0.5 is {(3207/5334):.2f}')"
   ]
  },
  {
   "cell_type": "markdown",
   "id": "5caf42ce",
   "metadata": {},
   "source": [
    "## Overlap, edge filtering and mask merging"
   ]
  },
  {
   "cell_type": "code",
   "execution_count": 195,
   "id": "e4f0a736",
   "metadata": {
    "ExecuteTime": {
     "end_time": "2022-03-23T13:00:13.793716Z",
     "start_time": "2022-03-23T13:00:13.790702Z"
    }
   },
   "outputs": [],
   "source": [
    "merge_outpath = Path('../results/spk_merge/')\n",
    "if not os.path.exists(merge_outpath):\n",
    "    shutil.copytree('../results/spk_template/', merge_outpath)"
   ]
  },
  {
   "cell_type": "markdown",
   "id": "610e3c03",
   "metadata": {},
   "source": [
    "Two iterations of merging is usually enough."
   ]
  },
  {
   "cell_type": "code",
   "execution_count": null,
   "id": "19a8e245",
   "metadata": {
    "ExecuteTime": {
     "end_time": "2022-03-23T13:01:46.117777Z",
     "start_time": "2022-03-23T13:00:15.141778Z"
    }
   },
   "outputs": [],
   "source": [
    "for r in pred_shps:\n",
    "    gdf_temp = gpd.read_file(r)\n",
    "    standing = gdf_temp[gdf_temp.label==1].copy()\n",
    "    fallen = gdf_temp[gdf_temp.label==2].copy()\n",
    "    if len(standing) > 0:\n",
    "        standing = merge_polys(standing, 0.2)\n",
    "        standing = merge_polys(standing, 0.2)\n",
    "    if len(fallen) > 0:\n",
    "        fallen = merge_polys(fallen, 0.2)\n",
    "        fallen = merge_polys(fallen, 0.2)\n",
    "    gdf_merged = pd.concat((standing, fallen))\n",
    "    gdf_merged.to_file(merge_outpath/'predicted_vectors'/r.name, driver='GeoJSON')\n",
    "    gdf_merged = None\n",
    "    gdf_temp = None"
   ]
  },
  {
   "cell_type": "code",
   "execution_count": 197,
   "id": "e1308ef3",
   "metadata": {
    "ExecuteTime": {
     "end_time": "2022-03-23T13:06:49.051542Z",
     "start_time": "2022-03-23T13:01:46.120250Z"
    }
   },
   "outputs": [
    {
     "data": {
      "application/vnd.jupyter.widget-view+json": {
       "model_id": "7a6ec7e338544507bdf64886442e40a2",
       "version_major": 2,
       "version_minor": 0
      },
      "text/plain": [
       "0it [00:00, ?it/s]"
      ]
     },
     "metadata": {},
     "output_type": "display_data"
    },
    {
     "data": {
      "application/vnd.jupyter.widget-view+json": {
       "model_id": "7ed8813e87c042e0ba2b387433f7236b",
       "version_major": 2,
       "version_minor": 0
      },
      "text/plain": [
       "  0%|          | 0/71 [00:00<?, ?it/s]"
      ]
     },
     "metadata": {},
     "output_type": "display_data"
    },
    {
     "name": "stdout",
     "output_type": "stream",
     "text": [
      "loading annotations into memory...\n",
      "Done (t=1.73s)\n",
      "creating index...\n",
      "index created!\n",
      "Loading and preparing results...\n",
      "DONE (t=0.79s)\n",
      "creating index...\n",
      "index created!\n",
      "\n",
      "Evaluating for category uprightwood\n",
      "Running per image evaluation...\n",
      "Evaluate annotation type *segm*\n",
      "DONE (t=7.79s).\n",
      "Accumulating evaluation results...\n",
      "DONE (t=0.33s).\n",
      " Average Precision  (AP) @[ IoU=0.50:0.95 | area=   all | maxDets=1000 ] = 0.319\n",
      " Average Precision  (AP) @[ IoU=0.50      | area=   all | maxDets=1000 ] = 0.571\n",
      " Average Precision  (AP) @[ IoU=0.75      | area=   all | maxDets=1000 ] = 0.342\n",
      " Average Precision  (AP) @[ IoU=0.50:0.95 | area= small | maxDets=1000 ] = 0.123\n",
      " Average Precision  (AP) @[ IoU=0.50:0.95 | area=medium | maxDets=1000 ] = 0.431\n",
      " Average Precision  (AP) @[ IoU=0.50:0.95 | area= large | maxDets=1000 ] = 0.521\n",
      " Average Recall     (AR) @[ IoU=0.50:0.95 | area=   all | maxDets=100 ] = 0.391\n",
      " Average Recall     (AR) @[ IoU=0.50:0.95 | area= small | maxDets=100 ] = 0.219\n",
      " Average Recall     (AR) @[ IoU=0.50:0.95 | area=medium | maxDets=100 ] = 0.495\n",
      " Average Recall     (AR) @[ IoU=0.50:0.95 | area= large | maxDets=100 ] = 0.679\n",
      "\n",
      "Evaluating for category groundwood\n",
      "Running per image evaluation...\n",
      "Evaluate annotation type *segm*\n",
      "DONE (t=105.39s).\n",
      "Accumulating evaluation results...\n",
      "DONE (t=0.77s).\n",
      " Average Precision  (AP) @[ IoU=0.50:0.95 | area=   all | maxDets=1000 ] = 0.163\n",
      " Average Precision  (AP) @[ IoU=0.50      | area=   all | maxDets=1000 ] = 0.446\n",
      " Average Precision  (AP) @[ IoU=0.75      | area=   all | maxDets=1000 ] = 0.072\n",
      " Average Precision  (AP) @[ IoU=0.50:0.95 | area= small | maxDets=1000 ] = 0.159\n",
      " Average Precision  (AP) @[ IoU=0.50:0.95 | area=medium | maxDets=1000 ] = 0.258\n",
      " Average Precision  (AP) @[ IoU=0.50:0.95 | area= large | maxDets=1000 ] = -1.000\n",
      " Average Recall     (AR) @[ IoU=0.50:0.95 | area=   all | maxDets=100 ] = 0.208\n",
      " Average Recall     (AR) @[ IoU=0.50:0.95 | area= small | maxDets=100 ] = 0.204\n",
      " Average Recall     (AR) @[ IoU=0.50:0.95 | area=medium | maxDets=100 ] = 0.314\n",
      " Average Recall     (AR) @[ IoU=0.50:0.95 | area= large | maxDets=100 ] = -1.000\n",
      "\n",
      "Evaluating for full data...\n",
      "Running per image evaluation...\n",
      "Evaluate annotation type *segm*\n",
      "DONE (t=112.55s).\n",
      "Accumulating evaluation results...\n",
      "DONE (t=1.09s).\n",
      " Average Precision  (AP) @[ IoU=0.50:0.95 | area=   all | maxDets=1000 ] = 0.241\n",
      " Average Precision  (AP) @[ IoU=0.50      | area=   all | maxDets=1000 ] = 0.509\n",
      " Average Precision  (AP) @[ IoU=0.75      | area=   all | maxDets=1000 ] = 0.207\n",
      " Average Precision  (AP) @[ IoU=0.50:0.95 | area= small | maxDets=1000 ] = 0.141\n",
      " Average Precision  (AP) @[ IoU=0.50:0.95 | area=medium | maxDets=1000 ] = 0.345\n",
      " Average Precision  (AP) @[ IoU=0.50:0.95 | area= large | maxDets=1000 ] = 0.521\n",
      " Average Recall     (AR) @[ IoU=0.50:0.95 | area=   all | maxDets=100 ] = 0.299\n",
      " Average Recall     (AR) @[ IoU=0.50:0.95 | area= small | maxDets=100 ] = 0.211\n",
      " Average Recall     (AR) @[ IoU=0.50:0.95 | area=medium | maxDets=100 ] = 0.405\n",
      " Average Recall     (AR) @[ IoU=0.50:0.95 | area= large | maxDets=100 ] = 0.679\n"
     ]
    }
   ],
   "source": [
    "merged_coco_eval = GisCOCOeval(merge_outpath, merge_outpath, None, None, deadwood_categories)\n",
    "merged_coco_eval.prepare_data(gt_label_col='label')\n",
    "merged_coco_eval.prepare_eval()\n",
    "merged_coco_eval.evaluate()"
   ]
  },
  {
   "cell_type": "code",
   "execution_count": 198,
   "id": "0b984e1a",
   "metadata": {
    "ExecuteTime": {
     "end_time": "2022-03-23T13:16:33.522166Z",
     "start_time": "2022-03-23T13:06:49.054321Z"
    }
   },
   "outputs": [
    {
     "name": "stderr",
     "output_type": "stream",
     "text": [
      "1380it [00:24, 57.15it/s]\n",
      "5777it [05:50, 16.49it/s]\n",
      "1317it [00:16, 79.90it/s]\n",
      "4633it [03:04, 25.15it/s]\n"
     ]
    }
   ],
   "source": [
    "preds.reset_index(drop=True, inplace=True)\n",
    "standing = merge_polys(preds[preds.label == 1].copy(), 0.2)\n",
    "fallen = merge_polys(preds[preds.label == 2].copy(), 0.2)\n",
    "standing = merge_polys(standing, 0.2)\n",
    "fallen = merge_polys(fallen, 0.2)\n",
    "preds_merged = pd.concat((standing, fallen))"
   ]
  },
  {
   "cell_type": "code",
   "execution_count": 199,
   "id": "78a0023f",
   "metadata": {
    "ExecuteTime": {
     "end_time": "2022-03-23T13:16:33.676349Z",
     "start_time": "2022-03-23T13:16:33.524520Z"
    }
   },
   "outputs": [
    {
     "data": {
      "text/plain": [
       "groundwood     4473\n",
       "uprightwood    1312\n",
       "Name: layer, dtype: int64"
      ]
     },
     "execution_count": 199,
     "metadata": {},
     "output_type": "execute_result"
    }
   ],
   "source": [
    "preds_merged['layer'] = preds_merged.apply(lambda row: 'groundwood' if row.label == 2 else 'uprightwood', axis=1)\n",
    "preds_merged.layer.value_counts()"
   ]
  },
  {
   "cell_type": "code",
   "execution_count": 201,
   "id": "10256c1b",
   "metadata": {
    "ExecuteTime": {
     "end_time": "2022-03-23T13:19:51.804120Z",
     "start_time": "2022-03-23T13:17:18.731332Z"
    }
   },
   "outputs": [
    {
     "name": "stderr",
     "output_type": "stream",
     "text": [
      "100%|██████████| 5334/5334 [00:53<00:00, 99.57it/s] \n",
      "100%|██████████| 5785/5785 [01:38<00:00, 58.54it/s] \n"
     ]
    }
   ],
   "source": [
    "tp_truths = truths.copy()\n",
    "tp_truths['label'] = tp_truths.layer.apply(lambda row: 1 if row=='uprightwood' else 2)\n",
    "truth_sindex = tp_truths.sindex\n",
    "fp_preds_merged = preds_merged.copy()\n",
    "pred_sindex = fp_preds_merged.sindex\n",
    "tp_truths[tp_cols] = tp_truths.progress_apply(lambda row: is_true_positive(row, fp_preds_merged, pred_sindex), \n",
    "                                              axis=1, result_type='expand')\n",
    "fp_preds_merged[fp_cols] = fp_preds_merged.progress_apply(lambda row: is_false_positive(row, tp_truths, truth_sindex,\n",
    "                                                                            fp_preds_merged, pred_sindex),\n",
    "                                            axis=1, result_type='expand')"
   ]
  },
  {
   "cell_type": "code",
   "execution_count": 202,
   "id": "386ef78d",
   "metadata": {
    "ExecuteTime": {
     "end_time": "2022-03-23T13:19:53.637813Z",
     "start_time": "2022-03-23T13:19:53.605658Z"
    }
   },
   "outputs": [
    {
     "data": {
      "text/html": [
       "<div>\n",
       "<style scoped>\n",
       "    .dataframe tbody tr th:only-of-type {\n",
       "        vertical-align: middle;\n",
       "    }\n",
       "\n",
       "    .dataframe tbody tr th {\n",
       "        vertical-align: top;\n",
       "    }\n",
       "\n",
       "    .dataframe thead th {\n",
       "        text-align: right;\n",
       "    }\n",
       "</style>\n",
       "<table border=\"1\" class=\"dataframe\">\n",
       "  <thead>\n",
       "    <tr style=\"text-align: right;\">\n",
       "      <th>FP_0.5</th>\n",
       "      <th>FP</th>\n",
       "      <th>TP</th>\n",
       "      <th>All</th>\n",
       "    </tr>\n",
       "    <tr>\n",
       "      <th>layer</th>\n",
       "      <th></th>\n",
       "      <th></th>\n",
       "      <th></th>\n",
       "    </tr>\n",
       "  </thead>\n",
       "  <tbody>\n",
       "    <tr>\n",
       "      <th>groundwood</th>\n",
       "      <td>2310</td>\n",
       "      <td>2163</td>\n",
       "      <td>4473</td>\n",
       "    </tr>\n",
       "    <tr>\n",
       "      <th>uprightwood</th>\n",
       "      <td>408</td>\n",
       "      <td>904</td>\n",
       "      <td>1312</td>\n",
       "    </tr>\n",
       "    <tr>\n",
       "      <th>All</th>\n",
       "      <td>2718</td>\n",
       "      <td>3067</td>\n",
       "      <td>5785</td>\n",
       "    </tr>\n",
       "  </tbody>\n",
       "</table>\n",
       "</div>"
      ],
      "text/plain": [
       "FP_0.5         FP    TP   All\n",
       "layer                        \n",
       "groundwood   2310  2163  4473\n",
       "uprightwood   408   904  1312\n",
       "All          2718  3067  5785"
      ]
     },
     "execution_count": 202,
     "metadata": {},
     "output_type": "execute_result"
    }
   ],
   "source": [
    "pd.crosstab(fp_preds_merged.layer, fp_preds_merged['FP_0.5'], margins=True)"
   ]
  },
  {
   "cell_type": "code",
   "execution_count": 203,
   "id": "6bf26ea2",
   "metadata": {
    "ExecuteTime": {
     "end_time": "2022-03-23T13:19:54.036547Z",
     "start_time": "2022-03-23T13:19:54.005515Z"
    }
   },
   "outputs": [
    {
     "data": {
      "text/html": [
       "<div>\n",
       "<style scoped>\n",
       "    .dataframe tbody tr th:only-of-type {\n",
       "        vertical-align: middle;\n",
       "    }\n",
       "\n",
       "    .dataframe tbody tr th {\n",
       "        vertical-align: top;\n",
       "    }\n",
       "\n",
       "    .dataframe thead th {\n",
       "        text-align: right;\n",
       "    }\n",
       "</style>\n",
       "<table border=\"1\" class=\"dataframe\">\n",
       "  <thead>\n",
       "    <tr style=\"text-align: right;\">\n",
       "      <th>TP_0.5</th>\n",
       "      <th>FN</th>\n",
       "      <th>TP</th>\n",
       "      <th>All</th>\n",
       "    </tr>\n",
       "    <tr>\n",
       "      <th>layer</th>\n",
       "      <th></th>\n",
       "      <th></th>\n",
       "      <th></th>\n",
       "    </tr>\n",
       "  </thead>\n",
       "  <tbody>\n",
       "    <tr>\n",
       "      <th>groundwood</th>\n",
       "      <td>1752</td>\n",
       "      <td>2163</td>\n",
       "      <td>3915</td>\n",
       "    </tr>\n",
       "    <tr>\n",
       "      <th>uprightwood</th>\n",
       "      <td>516</td>\n",
       "      <td>903</td>\n",
       "      <td>1419</td>\n",
       "    </tr>\n",
       "    <tr>\n",
       "      <th>All</th>\n",
       "      <td>2268</td>\n",
       "      <td>3066</td>\n",
       "      <td>5334</td>\n",
       "    </tr>\n",
       "  </tbody>\n",
       "</table>\n",
       "</div>"
      ],
      "text/plain": [
       "TP_0.5         FN    TP   All\n",
       "layer                        \n",
       "groundwood   1752  2163  3915\n",
       "uprightwood   516   903  1419\n",
       "All          2268  3066  5334"
      ]
     },
     "execution_count": 203,
     "metadata": {},
     "output_type": "execute_result"
    }
   ],
   "source": [
    "pd.crosstab(tp_truths.layer, tp_truths['TP_0.5'], margins=True)"
   ]
  },
  {
   "cell_type": "markdown",
   "id": "001f74a5",
   "metadata": {},
   "source": [
    "$Precision = \\frac{tp}{tp+fp}, Recall = \\frac{tp}{tp+fn}$"
   ]
  },
  {
   "cell_type": "code",
   "execution_count": 148,
   "id": "ab96de72",
   "metadata": {
    "ExecuteTime": {
     "end_time": "2022-03-23T12:58:37.315664Z",
     "start_time": "2022-03-23T12:58:37.312294Z"
    }
   },
   "outputs": [
    {
     "name": "stdout",
     "output_type": "stream",
     "text": [
      "Precision for fallen deadwood with IoU threshold of 0.5 is 0.55\n",
      "Recall for fallen deadwood with IoU threshold of 0.5 is 0.72\n"
     ]
    }
   ],
   "source": [
    "print(f'Precision for fallen deadwood with IoU threshold of 0.5 is {(2163/4473):.2f}')\n",
    "print(f'Recall for fallen deadwood with IoU threshold of 0.5 is {(2163/3915):.2f}')"
   ]
  },
  {
   "cell_type": "code",
   "execution_count": 204,
   "id": "b1848df3",
   "metadata": {
    "ExecuteTime": {
     "end_time": "2022-03-23T13:25:00.278089Z",
     "start_time": "2022-03-23T13:25:00.275408Z"
    }
   },
   "outputs": [
    {
     "name": "stdout",
     "output_type": "stream",
     "text": [
      "Precision for standing deadwood with IoU threshold of 0.5 is 0.69\n",
      "Recall for standing deadwood with IoU threshold of 0.5 is 0.64\n"
     ]
    }
   ],
   "source": [
    "print(f'Precision for standing deadwood with IoU threshold of 0.5 is {(904/1312):.2f}')\n",
    "print(f'Recall for standing deadwood with IoU threshold of 0.5 is {(904/1419):.2f}')"
   ]
  },
  {
   "cell_type": "code",
   "execution_count": 205,
   "id": "ac60b313",
   "metadata": {
    "ExecuteTime": {
     "end_time": "2022-03-23T13:25:22.973664Z",
     "start_time": "2022-03-23T13:25:22.970887Z"
    }
   },
   "outputs": [
    {
     "name": "stdout",
     "output_type": "stream",
     "text": [
      "Overall precision with IoU threshold of 0.5 is 0.53\n",
      "Overall recall with IoU threshold of 0.5 is 0.57\n"
     ]
    }
   ],
   "source": [
    "print(f'Overall precision with IoU threshold of 0.5 is {(3067/5785):.2f}')\n",
    "print(f'Overall recall with IoU threshold of 0.5 is {(3067/5334):.2f}')"
   ]
  },
  {
   "cell_type": "code",
   "execution_count": 162,
   "id": "4f7a8642",
   "metadata": {
    "ExecuteTime": {
     "end_time": "2022-03-21T13:17:04.882015Z",
     "start_time": "2022-03-21T13:16:57.783892Z"
    }
   },
   "outputs": [],
   "source": [
    "preds_merged.to_file('../results/sudenpesankangas/spk_merged.geojson')"
   ]
  }
 ],
 "metadata": {
  "kernelspec": {
   "display_name": "Python 3",
   "language": "python",
   "name": "python3"
  },
  "language_info": {
   "codemirror_mode": {
    "name": "ipython",
    "version": 3
   },
   "file_extension": ".py",
   "mimetype": "text/x-python",
   "name": "python",
   "nbconvert_exporter": "python",
   "pygments_lexer": "ipython3",
   "version": "3.9.10"
  },
  "latex_envs": {
   "LaTeX_envs_menu_present": true,
   "autoclose": false,
   "autocomplete": true,
   "bibliofile": "biblio.bib",
   "cite_by": "apalike",
   "current_citInitial": 1,
   "eqLabelWithNumbers": true,
   "eqNumInitial": 1,
   "hotkeys": {
    "equation": "Ctrl-E",
    "itemize": "Ctrl-I"
   },
   "labels_anchors": false,
   "latex_user_defs": false,
   "report_style_numbering": false,
   "user_envs_cfg": false
  },
  "toc": {
   "base_numbering": 1,
   "nav_menu": {},
   "number_sections": true,
   "sideBar": true,
   "skip_h1_title": false,
   "title_cell": "Table of Contents",
   "title_sidebar": "Contents",
   "toc_cell": false,
   "toc_position": {},
   "toc_section_display": true,
   "toc_window_display": false
  }
 },
 "nbformat": 4,
 "nbformat_minor": 5
}
