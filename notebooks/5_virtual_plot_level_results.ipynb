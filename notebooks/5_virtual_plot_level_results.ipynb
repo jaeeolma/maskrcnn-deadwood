{
 "cells": [
  {
   "cell_type": "code",
   "execution_count": 2,
   "id": "01cee4ec",
   "metadata": {
    "ExecuteTime": {
     "end_time": "2022-03-21T11:35:10.501107Z",
     "start_time": "2022-03-21T11:35:10.498972Z"
    }
   },
   "outputs": [],
   "source": [
    "from drone_detector.utils import *\n",
    "from drone_detector.imports import *\n",
    "import os\n",
    "from drone_detector.metrics import *\n",
    "import warnings\n",
    "warnings.filterwarnings(\"ignore\")"
   ]
  },
  {
   "cell_type": "code",
   "execution_count": 3,
   "id": "0abcf998",
   "metadata": {
    "ExecuteTime": {
     "end_time": "2022-03-21T11:35:10.844375Z",
     "start_time": "2022-03-21T11:35:10.842550Z"
    }
   },
   "outputs": [],
   "source": [
    "def intersection_over_area(poly_1, poly_2):\n",
    "    \"Proportion of the overlap of poly_1 and poly_2 of the area of poly_1\"\n",
    "    area_intersection = poly_1.intersection(poly_2).area\n",
    "    return area_intersection / poly_1.area"
   ]
  },
  {
   "cell_type": "code",
   "execution_count": 4,
   "id": "589a14b5",
   "metadata": {
    "ExecuteTime": {
     "end_time": "2022-03-21T11:35:11.115327Z",
     "start_time": "2022-03-21T11:35:11.109067Z"
    }
   },
   "outputs": [],
   "source": [
    "def merge_polys(gdf, area_threshold=0.2):\n",
    "    polys_to_merge = {}\n",
    "    polys_to_keep = []\n",
    "    gdf = gdf.copy()\n",
    "    gdf.reset_index(drop=True, inplace=True)\n",
    "    for ann in tqdm(gdf.itertuples()):\n",
    "        overlaps = gdf[gdf.geometry.intersects(ann.geometry)].copy()\n",
    "        if len(overlaps) == 1: \n",
    "            polys_to_keep.append(ann.Index)\n",
    "            continue\n",
    "        overlaps = overlaps[overlaps.index != ann.Index]\n",
    "        overlaps['pcts'] = overlaps.apply(lambda row: intersection_over_area(ann.geometry, row.geometry), axis=1)\n",
    "        to_merge = overlaps[overlaps.pcts > area_threshold] # merge if intersection over area is larger than thr\n",
    "        if len(to_merge) > 0:\n",
    "            polys_to_merge[ann.Index] = [i for i in to_merge.index]\n",
    "        else:\n",
    "            polys_to_keep.append(ann.Index)\n",
    "            \n",
    "    merge_pairs = []\n",
    "    for key, val in polys_to_merge.items():\n",
    "        other_vals = ([polys_to_merge[k] for k in val if k in polys_to_merge.keys()])\n",
    "        other_vals = [i for s in other_vals for i in s]\n",
    "        merge_vals = [val]\n",
    "        merge_vals.append(list(set([key] + other_vals)))\n",
    "        merge_vals = sorted([v for s in merge_vals for v in s])\n",
    "        merge_pairs.append(tuple(merge_vals))\n",
    "        \n",
    "    new_polys = {'label': [], 'score': [], 'geometry': []}\n",
    "    for ixs in list(set(merge_pairs)):\n",
    "        tempdf = gdf.iloc[list(ixs)]\n",
    "        label = tempdf.label.unique()[0]\n",
    "        scores = tempdf.score.unique()\n",
    "        avg_score = np.mean(scores)\n",
    "        geoms = tempdf.geometry\n",
    "        new_polys['label'].append(label)\n",
    "        new_polys['score'].append(avg_score)\n",
    "        new_polys['geometry'].append(shapely.ops.unary_union(geoms))\n",
    "    final_gdf = pd.concat([gdf.iloc[polys_to_keep], gpd.GeoDataFrame(new_polys, crs=gdf.crs)])\n",
    "    final_gdf['geometry'] = final_gdf.apply(lambda row: fix_multipolys(row.geometry) \n",
    "                                            if row.geometry.type == 'MultiPolygon' \n",
    "                                            else shapely.geometry.Polygon(row.geometry.exterior), axis=1)\n",
    "    final_gdf.drop_duplicates(subset=['geometry'], inplace=True)\n",
    "    return final_gdf"
   ]
  },
  {
   "cell_type": "markdown",
   "id": "b660acd0",
   "metadata": {},
   "source": [
    "# Virtual plot level object detection results"
   ]
  },
  {
   "cell_type": "markdown",
   "id": "3610fd9c",
   "metadata": {},
   "source": [
    "# Hiidenportti test set"
   ]
  },
  {
   "cell_type": "markdown",
   "id": "c7183fa2",
   "metadata": {},
   "source": [
    "As Hiidenportti test set is so small, we can run predictions here if needed."
   ]
  },
  {
   "cell_type": "markdown",
   "id": "860a8c75",
   "metadata": {},
   "source": [
    "## No overlap, no post-processing"
   ]
  },
  {
   "cell_type": "code",
   "execution_count": 5,
   "id": "aa605f8f",
   "metadata": {
    "ExecuteTime": {
     "end_time": "2022-03-21T11:35:13.152870Z",
     "start_time": "2022-03-21T11:35:13.148017Z"
    }
   },
   "outputs": [],
   "source": [
    "from drone_detector.engines.detectron2.predict import predict_instance_masks\n",
    "raw_path = Path('../../data/raw/hiidenportti/virtual_plots/buffered_test/images')\n",
    "test_rasters = [raw_path/f for f in os.listdir(raw_path) if f.endswith('tif')]"
   ]
  },
  {
   "cell_type": "code",
   "execution_count": 6,
   "id": "3125c860",
   "metadata": {
    "ExecuteTime": {
     "end_time": "2022-03-21T11:35:14.935764Z",
     "start_time": "2022-03-21T11:35:13.745909Z"
    }
   },
   "outputs": [],
   "source": [
    "pred_outpath = Path('../results/hp_unprocessed/')\n",
    "if not os.path.exists(pred_outpath):\n",
    "    shutil.copytree('../results/template_folder/', pred_outpath)"
   ]
  },
  {
   "cell_type": "code",
   "execution_count": null,
   "id": "fd2885f5",
   "metadata": {
    "ExecuteTime": {
     "end_time": "2022-03-21T11:41:50.117057Z",
     "start_time": "2022-03-21T11:36:03.013305Z"
    }
   },
   "outputs": [],
   "source": [
    "for t in test_rasters:\n",
    "    outfile_name = pred_outpath/f'raw_preds/{str(t).split(\"/\")[-1][:-4]}.geojson'\n",
    "    predict_instance_masks(path_to_model_config='../models/hiidenportti/mask_rcnn_X_101_32x8d_FPN_3x/config.yaml', \n",
    "                           path_to_image=str(t),\n",
    "                           outfile=str(outfile_name),\n",
    "                           processing_dir='temp',\n",
    "                           tile_size=512,\n",
    "                           tile_overlap=0,\n",
    "                           smooth_preds=False,\n",
    "                           use_tta=True,\n",
    "                           coco_set='../../data/processed/hiidenportti/hiidenportti_valid.json',\n",
    "                           postproc_results=False)"
   ]
  },
  {
   "cell_type": "code",
   "execution_count": 10,
   "id": "45bec7c9",
   "metadata": {
    "ExecuteTime": {
     "end_time": "2022-03-21T11:41:54.368286Z",
     "start_time": "2022-03-21T11:41:54.363960Z"
    }
   },
   "outputs": [],
   "source": [
    "raw_res_path = Path('../results/hp_unprocessed/')\n",
    "truth_shps = sorted([raw_res_path/'vector_tiles'/f for f in os.listdir(raw_res_path/'vector_tiles')])\n",
    "raw_shps = sorted([raw_res_path/'raw_preds'/f for f in os.listdir(raw_res_path/'raw_preds')])\n",
    "rasters = sorted([raw_res_path/'raster_tiles'/f for f in os.listdir(raw_res_path/'raster_tiles')])"
   ]
  },
  {
   "cell_type": "markdown",
   "id": "785a056a",
   "metadata": {},
   "source": [
    "\"Raw\" predictions are modified as such:\n",
    "1. Invalid polygons are fixed to be valid polygons. MultiPolygon masks are replaced with the largest single polygon of the multipoly.\n",
    "2. Extent is clipped to be same as the corresponding ground truth data\n",
    "3. Label numbering is adjusted\n",
    "4. Polygons with area less than 16² pixels are discarded"
   ]
  },
  {
   "cell_type": "code",
   "execution_count": 12,
   "id": "3e385b70",
   "metadata": {
    "ExecuteTime": {
     "end_time": "2022-03-21T11:44:18.992117Z",
     "start_time": "2022-03-21T11:44:14.679682Z"
    }
   },
   "outputs": [],
   "source": [
    "for p, t in zip(raw_shps, truth_shps):\n",
    "    temp_pred = gpd.read_file(p)\n",
    "    temp_truth = gpd.read_file(t)\n",
    "    temp_pred['geometry'] = temp_pred.apply(lambda row: fix_multipolys(row.geometry) \n",
    "                                            if row.geometry.type == 'MultiPolygon' \n",
    "                                            else shapely.geometry.Polygon(row.geometry.exterior), axis=1)\n",
    "    temp_pred['label'] += 1\n",
    "    temp_pred = gpd.clip(temp_pred, box(*temp_truth.total_bounds))\n",
    "    temp_pred = temp_pred[temp_pred.geometry.area > 16*0.04**2]\n",
    "    temp_pred.to_file(raw_res_path/'predicted_vectors'/p.name)"
   ]
  },
  {
   "cell_type": "code",
   "execution_count": 13,
   "id": "7152246b",
   "metadata": {
    "ExecuteTime": {
     "end_time": "2022-03-21T11:44:22.445169Z",
     "start_time": "2022-03-21T11:44:22.442410Z"
    }
   },
   "outputs": [],
   "source": [
    "pred_shps = sorted([raw_res_path/'predicted_vectors'/f for f in os.listdir(raw_res_path/'predicted_vectors')])"
   ]
  },
  {
   "cell_type": "code",
   "execution_count": 14,
   "id": "54e45c59",
   "metadata": {
    "ExecuteTime": {
     "end_time": "2022-03-21T11:44:24.691727Z",
     "start_time": "2022-03-21T11:44:23.519927Z"
    }
   },
   "outputs": [],
   "source": [
    "truths = None\n",
    "preds = None\n",
    "\n",
    "for p, t in zip(pred_shps, truth_shps):\n",
    "    temp_pred = gpd.read_file(p)\n",
    "    temp_truth = gpd.read_file(t)\n",
    "    if truths is None:\n",
    "        truths = temp_truth\n",
    "        preds = temp_pred\n",
    "    else:\n",
    "        truths = pd.concat((truths, temp_truth))\n",
    "        preds = pd.concat((preds, temp_pred))"
   ]
  },
  {
   "cell_type": "code",
   "execution_count": 15,
   "id": "6164e6d1",
   "metadata": {
    "ExecuteTime": {
     "end_time": "2022-03-21T11:44:24.714693Z",
     "start_time": "2022-03-21T11:44:24.692953Z"
    }
   },
   "outputs": [],
   "source": [
    "preds['layer'] = preds.apply(lambda row: 'groundwood' if row.label == 2 else 'uprightwood', axis=1)"
   ]
  },
  {
   "cell_type": "code",
   "execution_count": 16,
   "id": "f28838fa",
   "metadata": {
    "ExecuteTime": {
     "end_time": "2022-03-21T11:44:24.732699Z",
     "start_time": "2022-03-21T11:44:24.715864Z"
    }
   },
   "outputs": [
    {
     "data": {
      "text/plain": [
       "((2516, 4), (1547, 6))"
      ]
     },
     "execution_count": 16,
     "metadata": {},
     "output_type": "execute_result"
    }
   ],
   "source": [
    "preds.shape, truths.shape"
   ]
  },
  {
   "cell_type": "code",
   "execution_count": 17,
   "id": "d8f1ed44",
   "metadata": {
    "ExecuteTime": {
     "end_time": "2022-03-21T11:44:36.504551Z",
     "start_time": "2022-03-21T11:44:36.498468Z"
    }
   },
   "outputs": [
    {
     "data": {
      "text/plain": [
       "2    2253\n",
       "1     263\n",
       "Name: label, dtype: int64"
      ]
     },
     "execution_count": 17,
     "metadata": {},
     "output_type": "execute_result"
    }
   ],
   "source": [
    "preds.label.value_counts()"
   ]
  },
  {
   "cell_type": "code",
   "execution_count": 18,
   "id": "a128e76d",
   "metadata": {
    "ExecuteTime": {
     "end_time": "2022-03-21T11:44:41.341953Z",
     "start_time": "2022-03-21T11:44:39.899236Z"
    }
   },
   "outputs": [],
   "source": [
    "dis_truths = truths.dissolve(by='layer')\n",
    "dis_preds = preds.dissolve(by='layer')"
   ]
  },
  {
   "cell_type": "code",
   "execution_count": 19,
   "id": "b334cd43",
   "metadata": {
    "ExecuteTime": {
     "end_time": "2022-03-21T11:44:41.948599Z",
     "start_time": "2022-03-21T11:44:41.343154Z"
    }
   },
   "outputs": [
    {
     "data": {
      "text/plain": [
       "layer\n",
       "groundwood     0.496085\n",
       "uprightwood    0.503708\n",
       "dtype: float64"
      ]
     },
     "execution_count": 19,
     "metadata": {},
     "output_type": "execute_result"
    }
   ],
   "source": [
    "poly_IoU(dis_truths, dis_preds)"
   ]
  },
  {
   "cell_type": "code",
   "execution_count": 20,
   "id": "5b822685",
   "metadata": {
    "ExecuteTime": {
     "end_time": "2022-03-21T11:44:56.898031Z",
     "start_time": "2022-03-21T11:44:56.895710Z"
    }
   },
   "outputs": [],
   "source": [
    "deadwood_categories = [{'supercategory': 'deadwood', 'id':1, 'name':'uprightwood'},\n",
    "                 \n",
    "                       {'supercategory': 'deadwood', 'id':2, 'name':'groundwood'}]\n",
    "\n",
    "raw_coco_eval = GisCOCOeval(raw_res_path, raw_res_path, \n",
    "                            None, None, deadwood_categories)"
   ]
  },
  {
   "cell_type": "code",
   "execution_count": 21,
   "id": "56a6633d",
   "metadata": {
    "ExecuteTime": {
     "end_time": "2022-03-21T11:45:01.472278Z",
     "start_time": "2022-03-21T11:44:57.426460Z"
    }
   },
   "outputs": [
    {
     "data": {
      "application/vnd.jupyter.widget-view+json": {
       "model_id": "",
       "version_major": 2,
       "version_minor": 0
      },
      "text/plain": [
       "0it [00:00, ?it/s]"
      ]
     },
     "metadata": {},
     "output_type": "display_data"
    },
    {
     "data": {
      "application/vnd.jupyter.widget-view+json": {
       "model_id": "",
       "version_major": 2,
       "version_minor": 0
      },
      "text/plain": [
       "  0%|          | 0/5 [00:00<?, ?it/s]"
      ]
     },
     "metadata": {},
     "output_type": "display_data"
    }
   ],
   "source": [
    "raw_coco_eval.prepare_data(gt_label_col='layer')"
   ]
  },
  {
   "cell_type": "code",
   "execution_count": 22,
   "id": "5578e2fb",
   "metadata": {
    "ExecuteTime": {
     "end_time": "2022-03-21T11:45:01.530951Z",
     "start_time": "2022-03-21T11:45:01.473533Z"
    }
   },
   "outputs": [
    {
     "name": "stdout",
     "output_type": "stream",
     "text": [
      "loading annotations into memory...\n",
      "Done (t=0.03s)\n",
      "creating index...\n",
      "index created!\n",
      "Loading and preparing results...\n",
      "DONE (t=0.02s)\n",
      "creating index...\n",
      "index created!\n"
     ]
    }
   ],
   "source": [
    "raw_coco_eval.prepare_eval()"
   ]
  },
  {
   "cell_type": "code",
   "execution_count": 23,
   "id": "b43be11e",
   "metadata": {
    "ExecuteTime": {
     "end_time": "2022-03-21T11:45:01.533893Z",
     "start_time": "2022-03-21T11:45:01.532189Z"
    }
   },
   "outputs": [],
   "source": [
    "raw_coco_eval.coco_eval.params.maxDets = [1000, 10000]"
   ]
  },
  {
   "cell_type": "code",
   "execution_count": 24,
   "id": "ac31ea92",
   "metadata": {
    "ExecuteTime": {
     "end_time": "2022-03-21T11:45:27.284545Z",
     "start_time": "2022-03-21T11:45:01.534887Z"
    }
   },
   "outputs": [
    {
     "name": "stdout",
     "output_type": "stream",
     "text": [
      "\n",
      "Evaluating for category uprightwood\n",
      "Running per image evaluation...\n",
      "Evaluate annotation type *segm*\n",
      "DONE (t=0.44s).\n",
      "Accumulating evaluation results...\n",
      "DONE (t=0.01s).\n",
      " Average Precision  (AP) @[ IoU=0.50:0.95 | area=   all | maxDets=10000 ] = 0.251\n",
      " Average Precision  (AP) @[ IoU=0.50      | area=   all | maxDets=10000 ] = 0.507\n",
      " Average Precision  (AP) @[ IoU=0.75      | area=   all | maxDets=10000 ] = 0.240\n",
      " Average Precision  (AP) @[ IoU=0.50:0.95 | area= small | maxDets=10000 ] = 0.164\n",
      " Average Precision  (AP) @[ IoU=0.50:0.95 | area=medium | maxDets=10000 ] = 0.300\n",
      " Average Precision  (AP) @[ IoU=0.50:0.95 | area= large | maxDets=10000 ] = 0.900\n",
      " Average Recall     (AR) @[ IoU=0.50:0.95 | area=   all | maxDets=1000 ] = 0.346\n",
      " Average Recall     (AR) @[ IoU=0.50:0.95 | area= small | maxDets=1000 ] = 0.275\n",
      " Average Recall     (AR) @[ IoU=0.50:0.95 | area=medium | maxDets=1000 ] = 0.386\n",
      " Average Recall     (AR) @[ IoU=0.50:0.95 | area= large | maxDets=1000 ] = 0.900\n",
      "\n",
      "Evaluating for category groundwood\n",
      "Running per image evaluation...\n",
      "Evaluate annotation type *segm*\n",
      "DONE (t=12.44s).\n",
      "Accumulating evaluation results...\n",
      "DONE (t=0.02s).\n",
      " Average Precision  (AP) @[ IoU=0.50:0.95 | area=   all | maxDets=10000 ] = 0.216\n",
      " Average Precision  (AP) @[ IoU=0.50      | area=   all | maxDets=10000 ] = 0.547\n",
      " Average Precision  (AP) @[ IoU=0.75      | area=   all | maxDets=10000 ] = 0.113\n",
      " Average Precision  (AP) @[ IoU=0.50:0.95 | area= small | maxDets=10000 ] = 0.218\n",
      " Average Precision  (AP) @[ IoU=0.50:0.95 | area=medium | maxDets=10000 ] = 0.161\n",
      " Average Precision  (AP) @[ IoU=0.50:0.95 | area= large | maxDets=10000 ] = -1.000\n",
      " Average Recall     (AR) @[ IoU=0.50:0.95 | area=   all | maxDets=1000 ] = 0.372\n",
      " Average Recall     (AR) @[ IoU=0.50:0.95 | area= small | maxDets=1000 ] = 0.375\n",
      " Average Recall     (AR) @[ IoU=0.50:0.95 | area=medium | maxDets=1000 ] = 0.225\n",
      " Average Recall     (AR) @[ IoU=0.50:0.95 | area= large | maxDets=1000 ] = -1.000\n",
      "\n",
      "Evaluating for full data...\n",
      "Running per image evaluation...\n",
      "Evaluate annotation type *segm*\n",
      "DONE (t=12.81s).\n",
      "Accumulating evaluation results...\n",
      "DONE (t=0.03s).\n",
      " Average Precision  (AP) @[ IoU=0.50:0.95 | area=   all | maxDets=10000 ] = 0.234\n",
      " Average Precision  (AP) @[ IoU=0.50      | area=   all | maxDets=10000 ] = 0.527\n",
      " Average Precision  (AP) @[ IoU=0.75      | area=   all | maxDets=10000 ] = 0.177\n",
      " Average Precision  (AP) @[ IoU=0.50:0.95 | area= small | maxDets=10000 ] = 0.191\n",
      " Average Precision  (AP) @[ IoU=0.50:0.95 | area=medium | maxDets=10000 ] = 0.231\n",
      " Average Precision  (AP) @[ IoU=0.50:0.95 | area= large | maxDets=10000 ] = 0.900\n",
      " Average Recall     (AR) @[ IoU=0.50:0.95 | area=   all | maxDets=1000 ] = 0.359\n",
      " Average Recall     (AR) @[ IoU=0.50:0.95 | area= small | maxDets=1000 ] = 0.325\n",
      " Average Recall     (AR) @[ IoU=0.50:0.95 | area=medium | maxDets=1000 ] = 0.306\n",
      " Average Recall     (AR) @[ IoU=0.50:0.95 | area= large | maxDets=1000 ] = 0.900\n"
     ]
    }
   ],
   "source": [
    "raw_coco_eval.evaluate()"
   ]
  },
  {
   "cell_type": "markdown",
   "id": "6a74b385",
   "metadata": {},
   "source": [
    "## Half patch overlap and edge filtering"
   ]
  },
  {
   "cell_type": "markdown",
   "id": "56b80997",
   "metadata": {},
   "source": [
    "For this postprocessing method, mosaics are tiled so that the sliding window moves half tile lenght. For example, when moving row-wise, the first bottom-left coordinates are (0,0), and next ones (256,0), (512,0)... and same  is done column-wise. We discard all predicted polygons whose centroid point is not within the half-overlap area. For instance, for first tile (bottom left (0,0)), the x-coordinate must be between 128 and 384, for second tile (256,0) between 384 and 640, and likewise for y-coordinates.\n",
    "\n",
    "The images used for predictions are buffered so that the whole area is covered, considering the discarding process."
   ]
  },
  {
   "cell_type": "code",
   "execution_count": 25,
   "id": "5993df7d",
   "metadata": {
    "ExecuteTime": {
     "end_time": "2022-03-21T11:47:11.002309Z",
     "start_time": "2022-03-21T11:47:10.596234Z"
    }
   },
   "outputs": [],
   "source": [
    "pred_outpath = Path('../results/hp_overlap_filter/')\n",
    "if not os.path.exists(pred_outpath):\n",
    "    shutil.copytree('../results/template_folder/', pred_outpath)"
   ]
  },
  {
   "cell_type": "code",
   "execution_count": null,
   "id": "ff263433",
   "metadata": {
    "ExecuteTime": {
     "end_time": "2022-03-21T12:06:16.302620Z",
     "start_time": "2022-03-21T11:47:17.350758Z"
    }
   },
   "outputs": [],
   "source": [
    "raw_path = Path('../../data/raw/hiidenportti/virtual_plots/buffered_test/images')\n",
    "test_rasters = [raw_path/f for f in os.listdir(raw_path) if f.endswith('tif')]\n",
    "\n",
    "for t in test_rasters:\n",
    "    outfile_name = pred_outpath/f'raw_preds/{str(t).split(\"/\")[-1][:-4]}.geojson'\n",
    "    predict_instance_masks(path_to_model_config='../models/hiidenportti/mask_rcnn_X_101_32x8d_FPN_3x/config.yaml', \n",
    "                           path_to_image=str(t),\n",
    "                           outfile=str(outfile_name),\n",
    "                           processing_dir='temp',\n",
    "                           tile_size=512,\n",
    "                           tile_overlap=256,\n",
    "                           smooth_preds=False,\n",
    "                           use_tta=True,\n",
    "                           coco_set='../../data/processed/hiidenportti/hiidenportti_valid.json',\n",
    "                           postproc_results=True)"
   ]
  },
  {
   "cell_type": "markdown",
   "id": "25bccfe4",
   "metadata": {},
   "source": [
    "Modify as previously."
   ]
  },
  {
   "cell_type": "code",
   "execution_count": 156,
   "id": "b351f9b5",
   "metadata": {
    "ExecuteTime": {
     "end_time": "2022-03-21T13:05:36.374988Z",
     "start_time": "2022-03-21T13:05:36.371342Z"
    }
   },
   "outputs": [],
   "source": [
    "hp_res_path = Path('../results/hp_overlap_filter/')\n",
    "truth_shps = sorted([hp_res_path/'vector_tiles'/f for f in os.listdir(hp_res_path/'vector_tiles')])\n",
    "hp_raw_shps = sorted([hp_res_path/'raw_preds'/f for f in os.listdir(hp_res_path/'raw_preds')])\n",
    "rasters = sorted([hp_res_path/'raster_tiles'/f for f in os.listdir(hp_res_path/'raster_tiles')])"
   ]
  },
  {
   "cell_type": "code",
   "execution_count": 157,
   "id": "c72ea27a",
   "metadata": {
    "ExecuteTime": {
     "end_time": "2022-03-21T13:05:41.271160Z",
     "start_time": "2022-03-21T13:05:36.709506Z"
    }
   },
   "outputs": [],
   "source": [
    "for p, t in zip(hp_raw_shps, truth_shps):\n",
    "    temp_pred = gpd.read_file(p)\n",
    "    temp_truth = gpd.read_file(t)\n",
    "    temp_pred['geometry'] = temp_pred.apply(lambda row: fix_multipolys(row.geometry) \n",
    "                                            if row.geometry.type == 'MultiPolygon' \n",
    "                                            else shapely.geometry.Polygon(row.geometry.exterior), axis=1)\n",
    "    temp_pred['label'] += 1\n",
    "    temp_pred = gpd.clip(temp_pred, box(*temp_truth.total_bounds))\n",
    "    temp_pred = temp_pred[temp_pred.geometry.area > 16*0.04**2]\n",
    "    temp_pred.to_file(hp_res_path/'predicted_vectors'/p.name)"
   ]
  },
  {
   "cell_type": "code",
   "execution_count": 158,
   "id": "fe326bf6",
   "metadata": {
    "ExecuteTime": {
     "end_time": "2022-03-21T13:05:41.275117Z",
     "start_time": "2022-03-21T13:05:41.272468Z"
    }
   },
   "outputs": [],
   "source": [
    "pred_shps = sorted([hp_res_path/'predicted_vectors'/f for f in os.listdir(hp_res_path/'predicted_vectors')])"
   ]
  },
  {
   "cell_type": "markdown",
   "id": "d1141552",
   "metadata": {},
   "source": [
    "Collate all predictions into single dataframes"
   ]
  },
  {
   "cell_type": "code",
   "execution_count": 159,
   "id": "1429878c",
   "metadata": {
    "ExecuteTime": {
     "end_time": "2022-03-21T13:05:42.655736Z",
     "start_time": "2022-03-21T13:05:41.276492Z"
    }
   },
   "outputs": [],
   "source": [
    "truths = None\n",
    "preds = None\n",
    "\n",
    "for p, t in zip(pred_shps, truth_shps):\n",
    "    temp_pred = gpd.read_file(p)\n",
    "    temp_truth = gpd.read_file(t)\n",
    "    if truths is None:\n",
    "        truths = temp_truth\n",
    "        preds = temp_pred\n",
    "    else:\n",
    "        truths = pd.concat((truths, temp_truth))\n",
    "        preds = pd.concat((preds, temp_pred))"
   ]
  },
  {
   "cell_type": "code",
   "execution_count": 160,
   "id": "9b30fb48",
   "metadata": {
    "ExecuteTime": {
     "end_time": "2022-03-21T13:05:42.681356Z",
     "start_time": "2022-03-21T13:05:42.657020Z"
    }
   },
   "outputs": [],
   "source": [
    "preds['layer'] = preds.apply(lambda row: 'groundwood' if row.label == 2 else 'uprightwood', axis=1)"
   ]
  },
  {
   "cell_type": "code",
   "execution_count": 161,
   "id": "b6e8e75e",
   "metadata": {
    "ExecuteTime": {
     "end_time": "2022-03-21T13:05:43.505129Z",
     "start_time": "2022-03-21T13:05:43.501113Z"
    }
   },
   "outputs": [
    {
     "data": {
      "text/plain": [
       "groundwood     2135\n",
       "uprightwood     265\n",
       "Name: layer, dtype: int64"
      ]
     },
     "execution_count": 161,
     "metadata": {},
     "output_type": "execute_result"
    }
   ],
   "source": [
    "preds.layer.value_counts()"
   ]
  },
  {
   "cell_type": "code",
   "execution_count": 34,
   "id": "720294bd",
   "metadata": {
    "ExecuteTime": {
     "end_time": "2022-03-21T12:06:49.617598Z",
     "start_time": "2022-03-21T12:06:48.163822Z"
    }
   },
   "outputs": [],
   "source": [
    "dis_truths = truths.dissolve(by='layer')\n",
    "dis_preds = preds.dissolve(by='layer')"
   ]
  },
  {
   "cell_type": "code",
   "execution_count": 35,
   "id": "5c7747c6",
   "metadata": {
    "ExecuteTime": {
     "end_time": "2022-03-21T12:06:50.261246Z",
     "start_time": "2022-03-21T12:06:49.619167Z"
    }
   },
   "outputs": [
    {
     "data": {
      "text/plain": [
       "layer\n",
       "groundwood     0.513201\n",
       "uprightwood    0.551898\n",
       "dtype: float64"
      ]
     },
     "execution_count": 35,
     "metadata": {},
     "output_type": "execute_result"
    }
   ],
   "source": [
    "poly_IoU(dis_truths, dis_preds)"
   ]
  },
  {
   "cell_type": "code",
   "execution_count": 41,
   "id": "4b7dd10b",
   "metadata": {
    "ExecuteTime": {
     "end_time": "2022-03-21T12:07:20.260240Z",
     "start_time": "2022-03-21T12:07:20.258157Z"
    }
   },
   "outputs": [],
   "source": [
    "deadwood_categories = [{'supercategory': 'deadwood', 'id':1, 'name':'uprightwood'},\n",
    "                 \n",
    "                       {'supercategory': 'deadwood', 'id':2, 'name':'groundwood'}]\n",
    "\n",
    "hp_coco_eval = GisCOCOeval(hp_res_path, hp_res_path, \n",
    "                            None, None, deadwood_categories)"
   ]
  },
  {
   "cell_type": "code",
   "execution_count": 42,
   "id": "15f5b970",
   "metadata": {
    "ExecuteTime": {
     "end_time": "2022-03-21T12:07:25.883059Z",
     "start_time": "2022-03-21T12:07:21.865060Z"
    }
   },
   "outputs": [
    {
     "data": {
      "application/vnd.jupyter.widget-view+json": {
       "model_id": "",
       "version_major": 2,
       "version_minor": 0
      },
      "text/plain": [
       "0it [00:00, ?it/s]"
      ]
     },
     "metadata": {},
     "output_type": "display_data"
    },
    {
     "data": {
      "application/vnd.jupyter.widget-view+json": {
       "model_id": "",
       "version_major": 2,
       "version_minor": 0
      },
      "text/plain": [
       "  0%|          | 0/5 [00:00<?, ?it/s]"
      ]
     },
     "metadata": {},
     "output_type": "display_data"
    }
   ],
   "source": [
    "hp_coco_eval.prepare_data(gt_label_col='layer')"
   ]
  },
  {
   "cell_type": "code",
   "execution_count": 43,
   "id": "d8e47cb4",
   "metadata": {
    "ExecuteTime": {
     "end_time": "2022-03-21T12:07:25.940536Z",
     "start_time": "2022-03-21T12:07:25.884328Z"
    }
   },
   "outputs": [
    {
     "name": "stdout",
     "output_type": "stream",
     "text": [
      "loading annotations into memory...\n",
      "Done (t=0.03s)\n",
      "creating index...\n",
      "index created!\n",
      "Loading and preparing results...\n",
      "DONE (t=0.02s)\n",
      "creating index...\n",
      "index created!\n"
     ]
    }
   ],
   "source": [
    "hp_coco_eval.prepare_eval()"
   ]
  },
  {
   "cell_type": "code",
   "execution_count": 44,
   "id": "3c67cca5",
   "metadata": {
    "ExecuteTime": {
     "end_time": "2022-03-21T12:07:32.854183Z",
     "start_time": "2022-03-21T12:07:32.852394Z"
    }
   },
   "outputs": [],
   "source": [
    "hp_coco_eval.coco_eval.params.maxDets = [1000, 10000]"
   ]
  },
  {
   "cell_type": "code",
   "execution_count": 45,
   "id": "490f7555",
   "metadata": {
    "ExecuteTime": {
     "end_time": "2022-03-21T12:07:57.529337Z",
     "start_time": "2022-03-21T12:07:33.159576Z"
    },
    "scrolled": false
   },
   "outputs": [
    {
     "name": "stdout",
     "output_type": "stream",
     "text": [
      "\n",
      "Evaluating for category uprightwood\n",
      "Running per image evaluation...\n",
      "Evaluate annotation type *segm*\n",
      "DONE (t=0.43s).\n",
      "Accumulating evaluation results...\n",
      "DONE (t=0.01s).\n",
      " Average Precision  (AP) @[ IoU=0.50:0.95 | area=   all | maxDets=10000 ] = 0.336\n",
      " Average Precision  (AP) @[ IoU=0.50      | area=   all | maxDets=10000 ] = 0.614\n",
      " Average Precision  (AP) @[ IoU=0.75      | area=   all | maxDets=10000 ] = 0.367\n",
      " Average Precision  (AP) @[ IoU=0.50:0.95 | area= small | maxDets=10000 ] = 0.208\n",
      " Average Precision  (AP) @[ IoU=0.50:0.95 | area=medium | maxDets=10000 ] = 0.409\n",
      " Average Precision  (AP) @[ IoU=0.50:0.95 | area= large | maxDets=10000 ] = 0.900\n",
      " Average Recall     (AR) @[ IoU=0.50:0.95 | area=   all | maxDets=1000 ] = 0.422\n",
      " Average Recall     (AR) @[ IoU=0.50:0.95 | area= small | maxDets=1000 ] = 0.302\n",
      " Average Recall     (AR) @[ IoU=0.50:0.95 | area=medium | maxDets=1000 ] = 0.491\n",
      " Average Recall     (AR) @[ IoU=0.50:0.95 | area= large | maxDets=1000 ] = 0.900\n",
      "\n",
      "Evaluating for category groundwood\n",
      "Running per image evaluation...\n",
      "Evaluate annotation type *segm*\n",
      "DONE (t=11.75s).\n",
      "Accumulating evaluation results...\n",
      "DONE (t=0.02s).\n",
      " Average Precision  (AP) @[ IoU=0.50:0.95 | area=   all | maxDets=10000 ] = 0.288\n",
      " Average Precision  (AP) @[ IoU=0.50      | area=   all | maxDets=10000 ] = 0.695\n",
      " Average Precision  (AP) @[ IoU=0.75      | area=   all | maxDets=10000 ] = 0.164\n",
      " Average Precision  (AP) @[ IoU=0.50:0.95 | area= small | maxDets=10000 ] = 0.290\n",
      " Average Precision  (AP) @[ IoU=0.50:0.95 | area=medium | maxDets=10000 ] = 0.257\n",
      " Average Precision  (AP) @[ IoU=0.50:0.95 | area= large | maxDets=10000 ] = -1.000\n",
      " Average Recall     (AR) @[ IoU=0.50:0.95 | area=   all | maxDets=1000 ] = 0.420\n",
      " Average Recall     (AR) @[ IoU=0.50:0.95 | area= small | maxDets=1000 ] = 0.422\n",
      " Average Recall     (AR) @[ IoU=0.50:0.95 | area=medium | maxDets=1000 ] = 0.320\n",
      " Average Recall     (AR) @[ IoU=0.50:0.95 | area= large | maxDets=1000 ] = -1.000\n",
      "\n",
      "Evaluating for full data...\n",
      "Running per image evaluation...\n",
      "Evaluate annotation type *segm*\n",
      "DONE (t=12.14s).\n",
      "Accumulating evaluation results...\n",
      "DONE (t=0.03s).\n",
      " Average Precision  (AP) @[ IoU=0.50:0.95 | area=   all | maxDets=10000 ] = 0.312\n",
      " Average Precision  (AP) @[ IoU=0.50      | area=   all | maxDets=10000 ] = 0.654\n",
      " Average Precision  (AP) @[ IoU=0.75      | area=   all | maxDets=10000 ] = 0.265\n",
      " Average Precision  (AP) @[ IoU=0.50:0.95 | area= small | maxDets=10000 ] = 0.249\n",
      " Average Precision  (AP) @[ IoU=0.50:0.95 | area=medium | maxDets=10000 ] = 0.333\n",
      " Average Precision  (AP) @[ IoU=0.50:0.95 | area= large | maxDets=10000 ] = 0.900\n",
      " Average Recall     (AR) @[ IoU=0.50:0.95 | area=   all | maxDets=1000 ] = 0.421\n",
      " Average Recall     (AR) @[ IoU=0.50:0.95 | area= small | maxDets=1000 ] = 0.362\n",
      " Average Recall     (AR) @[ IoU=0.50:0.95 | area=medium | maxDets=1000 ] = 0.405\n",
      " Average Recall     (AR) @[ IoU=0.50:0.95 | area= large | maxDets=1000 ] = 0.900\n"
     ]
    }
   ],
   "source": [
    "hp_coco_eval.evaluate()"
   ]
  },
  {
   "cell_type": "markdown",
   "id": "f52dfa29",
   "metadata": {},
   "source": [
    "## Overlap, edge filtering and mask merging"
   ]
  },
  {
   "cell_type": "markdown",
   "id": "8a6d6974",
   "metadata": {},
   "source": [
    "Mask merging is built on previous predictions. In this step, for each polygon we check whether the ratio between intersection with any other polygon of the same class and the area of the polygon is more than 0.2. If yes, the polygon is merged to the other polygon with which it had intersection-over-area ratio."
   ]
  },
  {
   "cell_type": "code",
   "execution_count": 50,
   "id": "f12e62e5",
   "metadata": {
    "ExecuteTime": {
     "end_time": "2022-03-21T12:12:28.753877Z",
     "start_time": "2022-03-21T12:12:28.751971Z"
    }
   },
   "outputs": [],
   "source": [
    "merge_outpath = Path('../results/hp_merge/')\n",
    "if not os.path.exists(merge_outpath):\n",
    "    shutil.copytree('../results/template_folder/', merge_outpath)"
   ]
  },
  {
   "cell_type": "markdown",
   "id": "12259966",
   "metadata": {},
   "source": [
    "Two iterations of merging is usually enough."
   ]
  },
  {
   "cell_type": "code",
   "execution_count": null,
   "id": "a3fd7a81",
   "metadata": {
    "ExecuteTime": {
     "end_time": "2022-03-21T12:15:46.499683Z",
     "start_time": "2022-03-21T12:15:29.079399Z"
    }
   },
   "outputs": [],
   "source": [
    "for r in pred_shps:\n",
    "    gdf_temp = gpd.read_file(r)\n",
    "    standing = gdf_temp[gdf_temp.label==1].copy()\n",
    "    fallen = gdf_temp[gdf_temp.label==2].copy()\n",
    "    standing = merge_polys(standing, 0.2)\n",
    "    fallen = merge_polys(fallen, 0.2)\n",
    "    standing = merge_polys(standing, 0.2)\n",
    "    fallen = merge_polys(fallen, 0.2)\n",
    "    gdf_merged = pd.concat((standing, fallen))\n",
    "    gdf_merged.to_file(merge_outpath/'predicted_vectors'/r.name, driver='GeoJSON')\n",
    "    gdf_merged = None\n",
    "    gdf_temp = None"
   ]
  },
  {
   "cell_type": "code",
   "execution_count": 56,
   "id": "a8c02158",
   "metadata": {
    "ExecuteTime": {
     "end_time": "2022-03-21T12:16:18.182030Z",
     "start_time": "2022-03-21T12:15:54.993141Z"
    }
   },
   "outputs": [
    {
     "data": {
      "application/vnd.jupyter.widget-view+json": {
       "model_id": "",
       "version_major": 2,
       "version_minor": 0
      },
      "text/plain": [
       "0it [00:00, ?it/s]"
      ]
     },
     "metadata": {},
     "output_type": "display_data"
    },
    {
     "data": {
      "application/vnd.jupyter.widget-view+json": {
       "model_id": "",
       "version_major": 2,
       "version_minor": 0
      },
      "text/plain": [
       "  0%|          | 0/5 [00:00<?, ?it/s]"
      ]
     },
     "metadata": {},
     "output_type": "display_data"
    },
    {
     "name": "stdout",
     "output_type": "stream",
     "text": [
      "loading annotations into memory...\n",
      "Done (t=0.03s)\n",
      "creating index...\n",
      "index created!\n",
      "Loading and preparing results...\n",
      "DONE (t=0.02s)\n",
      "creating index...\n",
      "index created!\n",
      "\n",
      "Evaluating for category uprightwood\n",
      "Running per image evaluation...\n",
      "Evaluate annotation type *segm*\n",
      "DONE (t=0.41s).\n",
      "Accumulating evaluation results...\n",
      "DONE (t=0.01s).\n",
      " Average Precision  (AP) @[ IoU=0.50:0.95 | area=   all | maxDets=1000 ] = 0.331\n",
      " Average Precision  (AP) @[ IoU=0.50      | area=   all | maxDets=1000 ] = 0.605\n",
      " Average Precision  (AP) @[ IoU=0.75      | area=   all | maxDets=1000 ] = 0.362\n",
      " Average Precision  (AP) @[ IoU=0.50:0.95 | area= small | maxDets=1000 ] = 0.206\n",
      " Average Precision  (AP) @[ IoU=0.50:0.95 | area=medium | maxDets=1000 ] = 0.403\n",
      " Average Precision  (AP) @[ IoU=0.50:0.95 | area= large | maxDets=1000 ] = 0.900\n",
      " Average Recall     (AR) @[ IoU=0.50:0.95 | area=   all | maxDets=100 ] = 0.399\n",
      " Average Recall     (AR) @[ IoU=0.50:0.95 | area= small | maxDets=100 ] = 0.278\n",
      " Average Recall     (AR) @[ IoU=0.50:0.95 | area=medium | maxDets=100 ] = 0.468\n",
      " Average Recall     (AR) @[ IoU=0.50:0.95 | area= large | maxDets=100 ] = 0.900\n",
      "\n",
      "Evaluating for category groundwood\n",
      "Running per image evaluation...\n",
      "Evaluate annotation type *segm*\n",
      "DONE (t=9.33s).\n",
      "Accumulating evaluation results...\n",
      "DONE (t=0.01s).\n",
      " Average Precision  (AP) @[ IoU=0.50:0.95 | area=   all | maxDets=1000 ] = 0.268\n",
      " Average Precision  (AP) @[ IoU=0.50      | area=   all | maxDets=1000 ] = 0.647\n",
      " Average Precision  (AP) @[ IoU=0.75      | area=   all | maxDets=1000 ] = 0.151\n",
      " Average Precision  (AP) @[ IoU=0.50:0.95 | area= small | maxDets=1000 ] = 0.268\n",
      " Average Precision  (AP) @[ IoU=0.50:0.95 | area=medium | maxDets=1000 ] = 0.279\n",
      " Average Precision  (AP) @[ IoU=0.50:0.95 | area= large | maxDets=1000 ] = -1.000\n",
      " Average Recall     (AR) @[ IoU=0.50:0.95 | area=   all | maxDets=100 ] = 0.170\n",
      " Average Recall     (AR) @[ IoU=0.50:0.95 | area= small | maxDets=100 ] = 0.170\n",
      " Average Recall     (AR) @[ IoU=0.50:0.95 | area=medium | maxDets=100 ] = 0.155\n",
      " Average Recall     (AR) @[ IoU=0.50:0.95 | area= large | maxDets=100 ] = -1.000\n",
      "\n",
      "Evaluating for full data...\n",
      "Running per image evaluation...\n",
      "Evaluate annotation type *segm*\n",
      "DONE (t=9.76s).\n",
      "Accumulating evaluation results...\n",
      "DONE (t=0.02s).\n",
      " Average Precision  (AP) @[ IoU=0.50:0.95 | area=   all | maxDets=1000 ] = 0.299\n",
      " Average Precision  (AP) @[ IoU=0.50      | area=   all | maxDets=1000 ] = 0.626\n",
      " Average Precision  (AP) @[ IoU=0.75      | area=   all | maxDets=1000 ] = 0.256\n",
      " Average Precision  (AP) @[ IoU=0.50:0.95 | area= small | maxDets=1000 ] = 0.237\n",
      " Average Precision  (AP) @[ IoU=0.50:0.95 | area=medium | maxDets=1000 ] = 0.341\n",
      " Average Precision  (AP) @[ IoU=0.50:0.95 | area= large | maxDets=1000 ] = 0.900\n",
      " Average Recall     (AR) @[ IoU=0.50:0.95 | area=   all | maxDets=100 ] = 0.284\n",
      " Average Recall     (AR) @[ IoU=0.50:0.95 | area= small | maxDets=100 ] = 0.224\n",
      " Average Recall     (AR) @[ IoU=0.50:0.95 | area=medium | maxDets=100 ] = 0.312\n",
      " Average Recall     (AR) @[ IoU=0.50:0.95 | area= large | maxDets=100 ] = 0.900\n"
     ]
    }
   ],
   "source": [
    "merged_coco_eval = GisCOCOeval(merge_outpath, merge_outpath, None, None, deadwood_categories)\n",
    "merged_coco_eval.prepare_data(gt_label_col='layer')\n",
    "merged_coco_eval.prepare_eval()\n",
    "merged_coco_eval.evaluate()"
   ]
  },
  {
   "cell_type": "markdown",
   "id": "ae530d8f",
   "metadata": {},
   "source": [
    "This usually worsens the results a bit, but the produced results are better suited for deriving forest charasteristics."
   ]
  },
  {
   "cell_type": "code",
   "execution_count": 62,
   "id": "8a716a22",
   "metadata": {
    "ExecuteTime": {
     "end_time": "2022-03-21T12:18:10.038294Z",
     "start_time": "2022-03-21T12:17:45.377315Z"
    }
   },
   "outputs": [
    {
     "data": {
      "application/vnd.jupyter.widget-view+json": {
       "model_id": "",
       "version_major": 2,
       "version_minor": 0
      },
      "text/plain": [
       "0it [00:00, ?it/s]"
      ]
     },
     "metadata": {},
     "output_type": "display_data"
    },
    {
     "data": {
      "application/vnd.jupyter.widget-view+json": {
       "model_id": "",
       "version_major": 2,
       "version_minor": 0
      },
      "text/plain": [
       "0it [00:00, ?it/s]"
      ]
     },
     "metadata": {},
     "output_type": "display_data"
    },
    {
     "data": {
      "application/vnd.jupyter.widget-view+json": {
       "model_id": "",
       "version_major": 2,
       "version_minor": 0
      },
      "text/plain": [
       "0it [00:00, ?it/s]"
      ]
     },
     "metadata": {},
     "output_type": "display_data"
    },
    {
     "data": {
      "application/vnd.jupyter.widget-view+json": {
       "model_id": "",
       "version_major": 2,
       "version_minor": 0
      },
      "text/plain": [
       "0it [00:00, ?it/s]"
      ]
     },
     "metadata": {},
     "output_type": "display_data"
    }
   ],
   "source": [
    "preds.reset_index(drop=True, inplace=True)\n",
    "standing = merge_polys(preds[preds.label == 1].copy(), 0.2)\n",
    "fallen = merge_polys(preds[preds.label == 2].copy(), 0.2)\n",
    "standing = merge_polys(standing, 0.2)\n",
    "fallen = merge_polys(fallen, 0.2)\n",
    "preds_merged = pd.concat((standing, fallen))"
   ]
  },
  {
   "cell_type": "code",
   "execution_count": 63,
   "id": "b1ccab6b",
   "metadata": {
    "ExecuteTime": {
     "end_time": "2022-03-21T12:18:41.863005Z",
     "start_time": "2022-03-21T12:18:41.842510Z"
    }
   },
   "outputs": [
    {
     "data": {
      "text/plain": [
       "groundwood     1665\n",
       "uprightwood     258\n",
       "Name: layer, dtype: int64"
      ]
     },
     "execution_count": 63,
     "metadata": {},
     "output_type": "execute_result"
    }
   ],
   "source": [
    "preds_merged['layer'] = preds_merged.apply(lambda row: 'groundwood' if row.label == 2 else 'uprightwood', axis=1)\n",
    "preds_merged.layer.value_counts()"
   ]
  },
  {
   "cell_type": "markdown",
   "id": "a28f3219",
   "metadata": {},
   "source": [
    "As the postprocessing merges data instead of dropping less certain predictions, total area and IoU remain the same as in previous step."
   ]
  },
  {
   "cell_type": "code",
   "execution_count": null,
   "id": "508260b9",
   "metadata": {},
   "outputs": [],
   "source": [
    "preds_merged.to_file('../results/hiidenportti/merged_all.geojson')"
   ]
  },
  {
   "cell_type": "markdown",
   "id": "d4f06361",
   "metadata": {},
   "source": [
    "# Full Evo dataset"
   ]
  },
  {
   "cell_type": "markdown",
   "id": "810f7e35",
   "metadata": {},
   "source": [
    "Running predictions for Evo dataset takes so much time that it has been done separately. "
   ]
  },
  {
   "cell_type": "markdown",
   "id": "7be8fe26",
   "metadata": {},
   "source": [
    "## No overlap, no post-processing"
   ]
  },
  {
   "cell_type": "code",
   "execution_count": 97,
   "id": "3c1714ab",
   "metadata": {
    "ExecuteTime": {
     "end_time": "2022-03-21T12:33:30.082392Z",
     "start_time": "2022-03-21T12:33:30.077516Z"
    }
   },
   "outputs": [],
   "source": [
    "spk_raw_res_path = Path('../results/spk_raw/')\n",
    "truth_shps = sorted([spk_raw_res_path/'vector_tiles'/f for f in os.listdir(spk_raw_res_path/'vector_tiles')])\n",
    "spk_raw_shps = sorted([spk_raw_res_path/'raw_preds'/f for f in os.listdir(spk_raw_res_path/'raw_preds')])\n",
    "rasters = sorted([spk_raw_res_path/'raster_tiles'/f for f in os.listdir(spk_raw_res_path/'raster_tiles')])"
   ]
  },
  {
   "cell_type": "code",
   "execution_count": 98,
   "id": "b3a00928",
   "metadata": {
    "ExecuteTime": {
     "end_time": "2022-03-21T12:33:44.439484Z",
     "start_time": "2022-03-21T12:33:30.479989Z"
    }
   },
   "outputs": [],
   "source": [
    "for p, t in zip(spk_raw_shps, truth_shps):\n",
    "    temp_pred = gpd.read_file(p)\n",
    "    temp_truth = gpd.read_file(t)\n",
    "    temp_pred['geometry'] = temp_pred.apply(lambda row: fix_multipolys(row.geometry) \n",
    "                                            if row.geometry.type == 'MultiPolygon' \n",
    "                                            else shapely.geometry.Polygon(row.geometry.exterior), axis=1)\n",
    "    temp_pred['label'] += 1\n",
    "    temp_pred = gpd.clip(temp_pred, box(*temp_truth.total_bounds))\n",
    "    temp_pred = temp_pred[temp_pred.geometry.area > 16*0.0485**2]\n",
    "    temp_pred.to_file(spk_raw_res_path/'predicted_vectors'/p.name)"
   ]
  },
  {
   "cell_type": "code",
   "execution_count": 99,
   "id": "28ead968",
   "metadata": {
    "ExecuteTime": {
     "end_time": "2022-03-21T12:33:44.443720Z",
     "start_time": "2022-03-21T12:33:44.440805Z"
    }
   },
   "outputs": [],
   "source": [
    "pred_shps = sorted([spk_raw_res_path/'predicted_vectors'/f for f in os.listdir(spk_raw_res_path/'predicted_vectors')])"
   ]
  },
  {
   "cell_type": "code",
   "execution_count": 100,
   "id": "fb93fc2c",
   "metadata": {
    "ExecuteTime": {
     "end_time": "2022-03-21T12:33:49.317248Z",
     "start_time": "2022-03-21T12:33:44.444971Z"
    }
   },
   "outputs": [],
   "source": [
    "truths = None\n",
    "preds = None\n",
    "\n",
    "for p, t in zip(pred_shps, truth_shps):\n",
    "    temp_pred = gpd.read_file(p)\n",
    "    temp_truth = gpd.read_file(t)\n",
    "    if truths is None:\n",
    "        truths = temp_truth\n",
    "        preds = temp_pred\n",
    "    else:\n",
    "        truths = pd.concat((truths, temp_truth))\n",
    "        preds = pd.concat((preds, temp_pred))"
   ]
  },
  {
   "cell_type": "code",
   "execution_count": 101,
   "id": "03789bca",
   "metadata": {
    "ExecuteTime": {
     "end_time": "2022-03-21T12:33:49.372098Z",
     "start_time": "2022-03-21T12:33:49.318552Z"
    }
   },
   "outputs": [],
   "source": [
    "preds['layer'] = preds.apply(lambda row: 'groundwood' if row.label == 2 else 'uprightwood', axis=1)"
   ]
  },
  {
   "cell_type": "code",
   "execution_count": 102,
   "id": "c424f986",
   "metadata": {
    "ExecuteTime": {
     "end_time": "2022-03-21T12:33:49.375343Z",
     "start_time": "2022-03-21T12:33:49.373039Z"
    }
   },
   "outputs": [
    {
     "data": {
      "text/plain": [
       "((7017, 4), (5334, 4))"
      ]
     },
     "execution_count": 102,
     "metadata": {},
     "output_type": "execute_result"
    }
   ],
   "source": [
    "preds.shape, truths.shape"
   ]
  },
  {
   "cell_type": "code",
   "execution_count": 103,
   "id": "24508a22",
   "metadata": {
    "ExecuteTime": {
     "end_time": "2022-03-21T12:33:49.385130Z",
     "start_time": "2022-03-21T12:33:49.376413Z"
    }
   },
   "outputs": [
    {
     "data": {
      "text/plain": [
       "groundwood     5663\n",
       "uprightwood    1354\n",
       "Name: layer, dtype: int64"
      ]
     },
     "execution_count": 103,
     "metadata": {},
     "output_type": "execute_result"
    }
   ],
   "source": [
    "preds.layer.value_counts()"
   ]
  },
  {
   "cell_type": "code",
   "execution_count": 104,
   "id": "602425b3",
   "metadata": {
    "ExecuteTime": {
     "end_time": "2022-03-21T12:33:49.391128Z",
     "start_time": "2022-03-21T12:33:49.386121Z"
    }
   },
   "outputs": [],
   "source": [
    "truths.rename(columns={'label':'layer'}, inplace=True)"
   ]
  },
  {
   "cell_type": "code",
   "execution_count": 105,
   "id": "ce556c7d",
   "metadata": {
    "ExecuteTime": {
     "end_time": "2022-03-21T12:33:55.405653Z",
     "start_time": "2022-03-21T12:33:49.392483Z"
    }
   },
   "outputs": [],
   "source": [
    "dis_truths = truths.dissolve(by='layer')\n",
    "dis_preds = preds.dissolve(by='layer')"
   ]
  },
  {
   "cell_type": "code",
   "execution_count": 106,
   "id": "635bf9f7",
   "metadata": {
    "ExecuteTime": {
     "end_time": "2022-03-21T12:33:57.758920Z",
     "start_time": "2022-03-21T12:33:55.407800Z"
    }
   },
   "outputs": [
    {
     "data": {
      "text/plain": [
       "layer\n",
       "groundwood     0.453250\n",
       "uprightwood    0.585433\n",
       "dtype: float64"
      ]
     },
     "execution_count": 106,
     "metadata": {},
     "output_type": "execute_result"
    }
   ],
   "source": [
    "poly_IoU(dis_truths, dis_preds)"
   ]
  },
  {
   "cell_type": "code",
   "execution_count": 107,
   "id": "dd4dae9d",
   "metadata": {
    "ExecuteTime": {
     "end_time": "2022-03-21T12:34:45.599984Z",
     "start_time": "2022-03-21T12:33:57.760045Z"
    },
    "scrolled": false
   },
   "outputs": [
    {
     "data": {
      "application/vnd.jupyter.widget-view+json": {
       "model_id": "d0a4d1428068410eae43e6a0ecdbcc8d",
       "version_major": 2,
       "version_minor": 0
      },
      "text/plain": [
       "0it [00:00, ?it/s]"
      ]
     },
     "metadata": {},
     "output_type": "display_data"
    },
    {
     "data": {
      "application/vnd.jupyter.widget-view+json": {
       "model_id": "cee5f7a39fbe4e9296b27132532ca9db",
       "version_major": 2,
       "version_minor": 0
      },
      "text/plain": [
       "  0%|          | 0/71 [00:00<?, ?it/s]"
      ]
     },
     "metadata": {},
     "output_type": "display_data"
    },
    {
     "name": "stdout",
     "output_type": "stream",
     "text": [
      "loading annotations into memory...\n",
      "Done (t=0.19s)\n",
      "creating index...\n",
      "index created!\n",
      "Loading and preparing results...\n",
      "DONE (t=0.06s)\n",
      "creating index...\n",
      "index created!\n",
      "\n",
      "Evaluating for category uprightwood\n",
      "Running per image evaluation...\n",
      "Evaluate annotation type *segm*\n",
      "DONE (t=1.04s).\n",
      "Accumulating evaluation results...\n",
      "DONE (t=0.02s).\n",
      " Average Precision  (AP) @[ IoU=0.50:0.95 | area=   all | maxDets=10000 ] = 0.259\n",
      " Average Precision  (AP) @[ IoU=0.50      | area=   all | maxDets=10000 ] = 0.515\n",
      " Average Precision  (AP) @[ IoU=0.75      | area=   all | maxDets=10000 ] = 0.241\n",
      " Average Precision  (AP) @[ IoU=0.50:0.95 | area= small | maxDets=10000 ] = 0.096\n",
      " Average Precision  (AP) @[ IoU=0.50:0.95 | area=medium | maxDets=10000 ] = 0.346\n",
      " Average Precision  (AP) @[ IoU=0.50:0.95 | area= large | maxDets=10000 ] = 0.539\n",
      " Average Recall     (AR) @[ IoU=0.50:0.95 | area=   all | maxDets=1000 ] = 0.347\n",
      " Average Recall     (AR) @[ IoU=0.50:0.95 | area= small | maxDets=1000 ] = 0.191\n",
      " Average Recall     (AR) @[ IoU=0.50:0.95 | area=medium | maxDets=1000 ] = 0.440\n",
      " Average Recall     (AR) @[ IoU=0.50:0.95 | area= large | maxDets=1000 ] = 0.679\n",
      "\n",
      "Evaluating for category groundwood\n",
      "Running per image evaluation...\n",
      "Evaluate annotation type *segm*\n",
      "DONE (t=14.63s).\n",
      "Accumulating evaluation results...\n",
      "DONE (t=0.05s).\n",
      " Average Precision  (AP) @[ IoU=0.50:0.95 | area=   all | maxDets=10000 ] = 0.131\n",
      " Average Precision  (AP) @[ IoU=0.50      | area=   all | maxDets=10000 ] = 0.378\n",
      " Average Precision  (AP) @[ IoU=0.75      | area=   all | maxDets=10000 ] = 0.051\n",
      " Average Precision  (AP) @[ IoU=0.50:0.95 | area= small | maxDets=10000 ] = 0.128\n",
      " Average Precision  (AP) @[ IoU=0.50:0.95 | area=medium | maxDets=10000 ] = 0.198\n",
      " Average Precision  (AP) @[ IoU=0.50:0.95 | area= large | maxDets=10000 ] = -1.000\n",
      " Average Recall     (AR) @[ IoU=0.50:0.95 | area=   all | maxDets=1000 ] = 0.234\n",
      " Average Recall     (AR) @[ IoU=0.50:0.95 | area= small | maxDets=1000 ] = 0.234\n",
      " Average Recall     (AR) @[ IoU=0.50:0.95 | area=medium | maxDets=1000 ] = 0.257\n",
      " Average Recall     (AR) @[ IoU=0.50:0.95 | area= large | maxDets=1000 ] = -1.000\n",
      "\n",
      "Evaluating for full data...\n",
      "Running per image evaluation...\n",
      "Evaluate annotation type *segm*\n",
      "DONE (t=15.29s).\n",
      "Accumulating evaluation results...\n",
      "DONE (t=0.07s).\n",
      " Average Precision  (AP) @[ IoU=0.50:0.95 | area=   all | maxDets=10000 ] = 0.195\n",
      " Average Precision  (AP) @[ IoU=0.50      | area=   all | maxDets=10000 ] = 0.447\n",
      " Average Precision  (AP) @[ IoU=0.75      | area=   all | maxDets=10000 ] = 0.146\n",
      " Average Precision  (AP) @[ IoU=0.50:0.95 | area= small | maxDets=10000 ] = 0.112\n",
      " Average Precision  (AP) @[ IoU=0.50:0.95 | area=medium | maxDets=10000 ] = 0.272\n",
      " Average Precision  (AP) @[ IoU=0.50:0.95 | area= large | maxDets=10000 ] = 0.539\n",
      " Average Recall     (AR) @[ IoU=0.50:0.95 | area=   all | maxDets=1000 ] = 0.291\n",
      " Average Recall     (AR) @[ IoU=0.50:0.95 | area= small | maxDets=1000 ] = 0.212\n",
      " Average Recall     (AR) @[ IoU=0.50:0.95 | area=medium | maxDets=1000 ] = 0.348\n",
      " Average Recall     (AR) @[ IoU=0.50:0.95 | area= large | maxDets=1000 ] = 0.679\n"
     ]
    }
   ],
   "source": [
    "deadwood_categories = [{'supercategory': 'deadwood', 'id':1, 'name':'uprightwood'},\n",
    "                 \n",
    "                       {'supercategory': 'deadwood', 'id':2, 'name':'groundwood'}]\n",
    "\n",
    "spk_raw_coco_eval = GisCOCOeval(spk_raw_res_path, spk_raw_res_path, \n",
    "                           None, None, deadwood_categories)\n",
    "spk_raw_coco_eval.prepare_data(gt_label_col='label')\n",
    "spk_raw_coco_eval.prepare_eval()\n",
    "spk_raw_coco_eval.coco_eval.params.maxDets = [1000, 10000]\n",
    "spk_raw_coco_eval.evaluate()"
   ]
  },
  {
   "cell_type": "markdown",
   "id": "796648b7",
   "metadata": {},
   "source": [
    "## Half patch overlap and edge filtering"
   ]
  },
  {
   "cell_type": "code",
   "execution_count": 135,
   "id": "b7552d29",
   "metadata": {
    "ExecuteTime": {
     "end_time": "2022-03-21T12:43:00.504631Z",
     "start_time": "2022-03-21T12:43:00.499579Z"
    }
   },
   "outputs": [],
   "source": [
    "spk_res_path = Path('../results/spk_buffered/')\n",
    "truth_shps = sorted([spk_res_path/'vector_tiles'/f for f in os.listdir(spk_res_path/'vector_tiles')])\n",
    "spk_buf_raw_shps = sorted([spk_res_path/'raw_preds'/f for f in os.listdir(spk_res_path/'raw_preds')])\n",
    "rasters = sorted([spk_res_path/'raster_tiles'/f for f in os.listdir(spk_res_path/'raster_tiles')])"
   ]
  },
  {
   "cell_type": "code",
   "execution_count": 136,
   "id": "cff7058a",
   "metadata": {
    "ExecuteTime": {
     "end_time": "2022-03-21T12:43:18.076997Z",
     "start_time": "2022-03-21T12:43:00.994166Z"
    }
   },
   "outputs": [],
   "source": [
    "for p, t in zip(spk_buf_raw_shps, truth_shps):\n",
    "    temp_pred = gpd.read_file(p)\n",
    "    temp_truth = gpd.read_file(t)\n",
    "    temp_pred = gpd.clip(temp_pred, box(*temp_truth.total_bounds))\n",
    "    temp_pred['geometry'] = temp_pred.apply(lambda row: fix_multipolys(row.geometry) \n",
    "                                            if row.geometry.type == 'MultiPolygon' \n",
    "                                            else shapely.geometry.Polygon(row.geometry.exterior), axis=1)\n",
    "    temp_pred['label'] += 1\n",
    "    temp_pred = temp_pred[temp_pred.geometry.area > 16*0.0485**2]\n",
    "    temp_pred.to_file(spk_res_path/'predicted_vectors'/p.name)"
   ]
  },
  {
   "cell_type": "code",
   "execution_count": 137,
   "id": "48d3f4c8",
   "metadata": {
    "ExecuteTime": {
     "end_time": "2022-03-21T12:43:18.081238Z",
     "start_time": "2022-03-21T12:43:18.078254Z"
    }
   },
   "outputs": [],
   "source": [
    "pred_shps = sorted([spk_res_path/'predicted_vectors'/f for f in os.listdir(spk_res_path/'predicted_vectors')])"
   ]
  },
  {
   "cell_type": "code",
   "execution_count": 138,
   "id": "4d7d7261",
   "metadata": {
    "ExecuteTime": {
     "end_time": "2022-03-21T12:43:23.323333Z",
     "start_time": "2022-03-21T12:43:18.082513Z"
    }
   },
   "outputs": [],
   "source": [
    "truths = None\n",
    "preds = None\n",
    "\n",
    "for p, t in zip(pred_shps, truth_shps):\n",
    "    temp_pred = gpd.read_file(p)\n",
    "    temp_truth = gpd.read_file(t)\n",
    "    if truths is None:\n",
    "        truths = temp_truth\n",
    "        preds = temp_pred\n",
    "    else:\n",
    "        truths = pd.concat((truths, temp_truth))\n",
    "        preds = pd.concat((preds, temp_pred))"
   ]
  },
  {
   "cell_type": "code",
   "execution_count": 139,
   "id": "d2f040b8",
   "metadata": {
    "ExecuteTime": {
     "end_time": "2022-03-21T12:43:23.379618Z",
     "start_time": "2022-03-21T12:43:23.324537Z"
    }
   },
   "outputs": [],
   "source": [
    "preds['layer'] = preds.apply(lambda row: 'groundwood' if row.label == 2 else 'uprightwood', axis=1)"
   ]
  },
  {
   "cell_type": "code",
   "execution_count": 140,
   "id": "6771fe51",
   "metadata": {
    "ExecuteTime": {
     "end_time": "2022-03-21T12:43:23.383041Z",
     "start_time": "2022-03-21T12:43:23.380573Z"
    }
   },
   "outputs": [
    {
     "data": {
      "text/plain": [
       "((7157, 4), (5334, 4))"
      ]
     },
     "execution_count": 140,
     "metadata": {},
     "output_type": "execute_result"
    }
   ],
   "source": [
    "preds.shape, truths.shape"
   ]
  },
  {
   "cell_type": "code",
   "execution_count": 141,
   "id": "b7140169",
   "metadata": {
    "ExecuteTime": {
     "end_time": "2022-03-21T12:43:23.401279Z",
     "start_time": "2022-03-21T12:43:23.384019Z"
    }
   },
   "outputs": [
    {
     "data": {
      "text/plain": [
       "groundwood     5777\n",
       "uprightwood    1380\n",
       "Name: layer, dtype: int64"
      ]
     },
     "execution_count": 141,
     "metadata": {},
     "output_type": "execute_result"
    }
   ],
   "source": [
    "preds.layer.value_counts()"
   ]
  },
  {
   "cell_type": "code",
   "execution_count": 142,
   "id": "040b0924",
   "metadata": {
    "ExecuteTime": {
     "end_time": "2022-03-21T12:43:37.332869Z",
     "start_time": "2022-03-21T12:43:37.330771Z"
    }
   },
   "outputs": [],
   "source": [
    "truths.rename(columns={'label':'layer'}, inplace=True)"
   ]
  },
  {
   "cell_type": "code",
   "execution_count": 143,
   "id": "2fdf272a",
   "metadata": {
    "ExecuteTime": {
     "end_time": "2022-03-21T12:43:44.295693Z",
     "start_time": "2022-03-21T12:43:38.035055Z"
    }
   },
   "outputs": [],
   "source": [
    "dis_truths = truths.dissolve(by='layer')\n",
    "dis_preds = preds.dissolve(by='layer')"
   ]
  },
  {
   "cell_type": "code",
   "execution_count": 144,
   "id": "b7dad594",
   "metadata": {
    "ExecuteTime": {
     "end_time": "2022-03-21T12:43:46.718056Z",
     "start_time": "2022-03-21T12:43:44.297778Z"
    }
   },
   "outputs": [
    {
     "data": {
      "text/plain": [
       "layer\n",
       "groundwood     0.458800\n",
       "uprightwood    0.598393\n",
       "dtype: float64"
      ]
     },
     "execution_count": 144,
     "metadata": {},
     "output_type": "execute_result"
    }
   ],
   "source": [
    "poly_IoU(dis_truths, dis_preds)"
   ]
  },
  {
   "cell_type": "code",
   "execution_count": 145,
   "id": "4d100f63",
   "metadata": {
    "ExecuteTime": {
     "end_time": "2022-03-21T12:44:40.874088Z",
     "start_time": "2022-03-21T12:43:52.925940Z"
    },
    "scrolled": false
   },
   "outputs": [
    {
     "data": {
      "application/vnd.jupyter.widget-view+json": {
       "model_id": "9336b227941c45b69378b255319a8aee",
       "version_major": 2,
       "version_minor": 0
      },
      "text/plain": [
       "0it [00:00, ?it/s]"
      ]
     },
     "metadata": {},
     "output_type": "display_data"
    },
    {
     "data": {
      "application/vnd.jupyter.widget-view+json": {
       "model_id": "8c45f5177edd4ed89c4e79fad6d0bec3",
       "version_major": 2,
       "version_minor": 0
      },
      "text/plain": [
       "  0%|          | 0/71 [00:00<?, ?it/s]"
      ]
     },
     "metadata": {},
     "output_type": "display_data"
    },
    {
     "name": "stdout",
     "output_type": "stream",
     "text": [
      "loading annotations into memory...\n",
      "Done (t=0.18s)\n",
      "creating index...\n",
      "index created!\n",
      "Loading and preparing results...\n",
      "DONE (t=0.06s)\n",
      "creating index...\n",
      "index created!\n",
      "\n",
      "Evaluating for category uprightwood\n",
      "Running per image evaluation...\n",
      "Evaluate annotation type *segm*\n",
      "DONE (t=1.05s).\n",
      "Accumulating evaluation results...\n",
      "DONE (t=0.02s).\n",
      " Average Precision  (AP) @[ IoU=0.50:0.95 | area=   all | maxDets=10000 ] = 0.330\n",
      " Average Precision  (AP) @[ IoU=0.50      | area=   all | maxDets=10000 ] = 0.591\n",
      " Average Precision  (AP) @[ IoU=0.75      | area=   all | maxDets=10000 ] = 0.352\n",
      " Average Precision  (AP) @[ IoU=0.50:0.95 | area= small | maxDets=10000 ] = 0.125\n",
      " Average Precision  (AP) @[ IoU=0.50:0.95 | area=medium | maxDets=10000 ] = 0.449\n",
      " Average Precision  (AP) @[ IoU=0.50:0.95 | area= large | maxDets=10000 ] = 0.419\n",
      " Average Recall     (AR) @[ IoU=0.50:0.95 | area=   all | maxDets=1000 ] = 0.408\n",
      " Average Recall     (AR) @[ IoU=0.50:0.95 | area= small | maxDets=1000 ] = 0.223\n",
      " Average Recall     (AR) @[ IoU=0.50:0.95 | area=medium | maxDets=1000 ] = 0.520\n",
      " Average Recall     (AR) @[ IoU=0.50:0.95 | area= large | maxDets=1000 ] = 0.771\n",
      "\n",
      "Evaluating for category groundwood\n",
      "Running per image evaluation...\n",
      "Evaluate annotation type *segm*\n",
      "DONE (t=14.63s).\n",
      "Accumulating evaluation results...\n",
      "DONE (t=0.05s).\n",
      " Average Precision  (AP) @[ IoU=0.50:0.95 | area=   all | maxDets=10000 ] = 0.162\n",
      " Average Precision  (AP) @[ IoU=0.50      | area=   all | maxDets=10000 ] = 0.448\n",
      " Average Precision  (AP) @[ IoU=0.75      | area=   all | maxDets=10000 ] = 0.071\n",
      " Average Precision  (AP) @[ IoU=0.50:0.95 | area= small | maxDets=10000 ] = 0.159\n",
      " Average Precision  (AP) @[ IoU=0.50:0.95 | area=medium | maxDets=10000 ] = 0.249\n",
      " Average Precision  (AP) @[ IoU=0.50:0.95 | area= large | maxDets=10000 ] = -1.000\n",
      " Average Recall     (AR) @[ IoU=0.50:0.95 | area=   all | maxDets=1000 ] = 0.264\n",
      " Average Recall     (AR) @[ IoU=0.50:0.95 | area= small | maxDets=1000 ] = 0.262\n",
      " Average Recall     (AR) @[ IoU=0.50:0.95 | area=medium | maxDets=1000 ] = 0.319\n",
      " Average Recall     (AR) @[ IoU=0.50:0.95 | area= large | maxDets=1000 ] = -1.000\n",
      "\n",
      "Evaluating for full data...\n",
      "Running per image evaluation...\n",
      "Evaluate annotation type *segm*\n",
      "DONE (t=15.53s).\n",
      "Accumulating evaluation results...\n",
      "DONE (t=0.07s).\n",
      " Average Precision  (AP) @[ IoU=0.50:0.95 | area=   all | maxDets=10000 ] = 0.246\n",
      " Average Precision  (AP) @[ IoU=0.50      | area=   all | maxDets=10000 ] = 0.519\n",
      " Average Precision  (AP) @[ IoU=0.75      | area=   all | maxDets=10000 ] = 0.212\n",
      " Average Precision  (AP) @[ IoU=0.50:0.95 | area= small | maxDets=10000 ] = 0.142\n",
      " Average Precision  (AP) @[ IoU=0.50:0.95 | area=medium | maxDets=10000 ] = 0.349\n",
      " Average Precision  (AP) @[ IoU=0.50:0.95 | area= large | maxDets=10000 ] = 0.419\n",
      " Average Recall     (AR) @[ IoU=0.50:0.95 | area=   all | maxDets=1000 ] = 0.336\n",
      " Average Recall     (AR) @[ IoU=0.50:0.95 | area= small | maxDets=1000 ] = 0.243\n",
      " Average Recall     (AR) @[ IoU=0.50:0.95 | area=medium | maxDets=1000 ] = 0.419\n",
      " Average Recall     (AR) @[ IoU=0.50:0.95 | area= large | maxDets=1000 ] = 0.771\n"
     ]
    }
   ],
   "source": [
    "deadwood_categories = [{'supercategory': 'deadwood', 'id':1, 'name':'uprightwood'},\n",
    "                 \n",
    "                       {'supercategory': 'deadwood', 'id':2, 'name':'groundwood'}]\n",
    "\n",
    "spk_coco_eval = GisCOCOeval(spk_res_path, spk_res_path, \n",
    "                           None, None, deadwood_categories)\n",
    "spk_coco_eval.prepare_data(gt_label_col='label')\n",
    "spk_coco_eval.prepare_eval()\n",
    "spk_coco_eval.coco_eval.params.maxDets = [1000, 10000]\n",
    "spk_coco_eval.evaluate()"
   ]
  },
  {
   "cell_type": "markdown",
   "id": "5caf42ce",
   "metadata": {},
   "source": [
    "## Overlap, edge filtering and mask merging"
   ]
  },
  {
   "cell_type": "code",
   "execution_count": 146,
   "id": "e4f0a736",
   "metadata": {
    "ExecuteTime": {
     "end_time": "2022-03-21T12:48:19.268101Z",
     "start_time": "2022-03-21T12:48:17.141601Z"
    }
   },
   "outputs": [],
   "source": [
    "merge_outpath = Path('../results/spk_merge/')\n",
    "if not os.path.exists(merge_outpath):\n",
    "    shutil.copytree('../results/spk_template/', merge_outpath)"
   ]
  },
  {
   "cell_type": "markdown",
   "id": "610e3c03",
   "metadata": {},
   "source": [
    "Two iterations of merging is usually enough."
   ]
  },
  {
   "cell_type": "code",
   "execution_count": null,
   "id": "19a8e245",
   "metadata": {
    "ExecuteTime": {
     "end_time": "2022-03-21T12:51:06.706013Z",
     "start_time": "2022-03-21T12:50:16.679167Z"
    }
   },
   "outputs": [],
   "source": [
    "for r in pred_shps:\n",
    "    gdf_temp = gpd.read_file(r)\n",
    "    standing = gdf_temp[gdf_temp.label==1].copy()\n",
    "    fallen = gdf_temp[gdf_temp.label==2].copy()\n",
    "    if len(standing) > 0:\n",
    "        standing = merge_polys(standing, 0.2)\n",
    "        standing = merge_polys(standing, 0.2)\n",
    "    if len(fallen) > 0:\n",
    "        fallen = merge_polys(fallen, 0.2)\n",
    "        fallen = merge_polys(fallen, 0.2)\n",
    "    gdf_merged = pd.concat((standing, fallen))\n",
    "    gdf_merged.to_file(merge_outpath/'predicted_vectors'/r.name, driver='GeoJSON')\n",
    "    gdf_merged = None\n",
    "    gdf_temp = None"
   ]
  },
  {
   "cell_type": "code",
   "execution_count": 152,
   "id": "e1308ef3",
   "metadata": {
    "ExecuteTime": {
     "end_time": "2022-03-21T12:52:08.862681Z",
     "start_time": "2022-03-21T12:51:28.720437Z"
    }
   },
   "outputs": [
    {
     "data": {
      "application/vnd.jupyter.widget-view+json": {
       "model_id": "fa1725f4df2b4bc6ac0bf9146f9e7822",
       "version_major": 2,
       "version_minor": 0
      },
      "text/plain": [
       "0it [00:00, ?it/s]"
      ]
     },
     "metadata": {},
     "output_type": "display_data"
    },
    {
     "data": {
      "application/vnd.jupyter.widget-view+json": {
       "model_id": "8d55024fa2c541dead944fa66dd8b993",
       "version_major": 2,
       "version_minor": 0
      },
      "text/plain": [
       "  0%|          | 0/71 [00:00<?, ?it/s]"
      ]
     },
     "metadata": {},
     "output_type": "display_data"
    },
    {
     "name": "stdout",
     "output_type": "stream",
     "text": [
      "loading annotations into memory...\n",
      "Done (t=0.18s)\n",
      "creating index...\n",
      "index created!\n",
      "Loading and preparing results...\n",
      "DONE (t=0.05s)\n",
      "creating index...\n",
      "index created!\n",
      "\n",
      "Evaluating for category uprightwood\n",
      "Running per image evaluation...\n",
      "Evaluate annotation type *segm*\n",
      "DONE (t=1.00s).\n",
      "Accumulating evaluation results...\n",
      "DONE (t=0.02s).\n",
      " Average Precision  (AP) @[ IoU=0.50:0.95 | area=   all | maxDets=1000 ] = 0.319\n",
      " Average Precision  (AP) @[ IoU=0.50      | area=   all | maxDets=1000 ] = 0.571\n",
      " Average Precision  (AP) @[ IoU=0.75      | area=   all | maxDets=1000 ] = 0.342\n",
      " Average Precision  (AP) @[ IoU=0.50:0.95 | area= small | maxDets=1000 ] = 0.123\n",
      " Average Precision  (AP) @[ IoU=0.50:0.95 | area=medium | maxDets=1000 ] = 0.431\n",
      " Average Precision  (AP) @[ IoU=0.50:0.95 | area= large | maxDets=1000 ] = 0.521\n",
      " Average Recall     (AR) @[ IoU=0.50:0.95 | area=   all | maxDets=100 ] = 0.391\n",
      " Average Recall     (AR) @[ IoU=0.50:0.95 | area= small | maxDets=100 ] = 0.219\n",
      " Average Recall     (AR) @[ IoU=0.50:0.95 | area=medium | maxDets=100 ] = 0.495\n",
      " Average Recall     (AR) @[ IoU=0.50:0.95 | area= large | maxDets=100 ] = 0.679\n",
      "\n",
      "Evaluating for category groundwood\n",
      "Running per image evaluation...\n",
      "Evaluate annotation type *segm*\n",
      "DONE (t=11.45s).\n",
      "Accumulating evaluation results...\n",
      "DONE (t=0.04s).\n",
      " Average Precision  (AP) @[ IoU=0.50:0.95 | area=   all | maxDets=1000 ] = 0.163\n",
      " Average Precision  (AP) @[ IoU=0.50      | area=   all | maxDets=1000 ] = 0.446\n",
      " Average Precision  (AP) @[ IoU=0.75      | area=   all | maxDets=1000 ] = 0.072\n",
      " Average Precision  (AP) @[ IoU=0.50:0.95 | area= small | maxDets=1000 ] = 0.159\n",
      " Average Precision  (AP) @[ IoU=0.50:0.95 | area=medium | maxDets=1000 ] = 0.258\n",
      " Average Precision  (AP) @[ IoU=0.50:0.95 | area= large | maxDets=1000 ] = -1.000\n",
      " Average Recall     (AR) @[ IoU=0.50:0.95 | area=   all | maxDets=100 ] = 0.208\n",
      " Average Recall     (AR) @[ IoU=0.50:0.95 | area= small | maxDets=100 ] = 0.204\n",
      " Average Recall     (AR) @[ IoU=0.50:0.95 | area=medium | maxDets=100 ] = 0.314\n",
      " Average Recall     (AR) @[ IoU=0.50:0.95 | area= large | maxDets=100 ] = -1.000\n",
      "\n",
      "Evaluating for full data...\n",
      "Running per image evaluation...\n",
      "Evaluate annotation type *segm*\n",
      "DONE (t=12.31s).\n",
      "Accumulating evaluation results...\n",
      "DONE (t=0.05s).\n",
      " Average Precision  (AP) @[ IoU=0.50:0.95 | area=   all | maxDets=1000 ] = 0.241\n",
      " Average Precision  (AP) @[ IoU=0.50      | area=   all | maxDets=1000 ] = 0.509\n",
      " Average Precision  (AP) @[ IoU=0.75      | area=   all | maxDets=1000 ] = 0.207\n",
      " Average Precision  (AP) @[ IoU=0.50:0.95 | area= small | maxDets=1000 ] = 0.141\n",
      " Average Precision  (AP) @[ IoU=0.50:0.95 | area=medium | maxDets=1000 ] = 0.345\n",
      " Average Precision  (AP) @[ IoU=0.50:0.95 | area= large | maxDets=1000 ] = 0.521\n",
      " Average Recall     (AR) @[ IoU=0.50:0.95 | area=   all | maxDets=100 ] = 0.299\n",
      " Average Recall     (AR) @[ IoU=0.50:0.95 | area= small | maxDets=100 ] = 0.211\n",
      " Average Recall     (AR) @[ IoU=0.50:0.95 | area=medium | maxDets=100 ] = 0.405\n",
      " Average Recall     (AR) @[ IoU=0.50:0.95 | area= large | maxDets=100 ] = 0.679\n"
     ]
    }
   ],
   "source": [
    "merged_coco_eval = GisCOCOeval(merge_outpath, merge_outpath, None, None, deadwood_categories)\n",
    "merged_coco_eval.prepare_data(gt_label_col='label')\n",
    "merged_coco_eval.prepare_eval()\n",
    "merged_coco_eval.evaluate()"
   ]
  },
  {
   "cell_type": "code",
   "execution_count": 153,
   "id": "0b984e1a",
   "metadata": {
    "ExecuteTime": {
     "end_time": "2022-03-21T12:54:58.802984Z",
     "start_time": "2022-03-21T12:52:41.499487Z"
    }
   },
   "outputs": [
    {
     "data": {
      "application/vnd.jupyter.widget-view+json": {
       "model_id": "4306ca477a9348b9a191be674fa85e08",
       "version_major": 2,
       "version_minor": 0
      },
      "text/plain": [
       "0it [00:00, ?it/s]"
      ]
     },
     "metadata": {},
     "output_type": "display_data"
    },
    {
     "data": {
      "application/vnd.jupyter.widget-view+json": {
       "model_id": "af050d74684240aba40a060bef304e18",
       "version_major": 2,
       "version_minor": 0
      },
      "text/plain": [
       "0it [00:00, ?it/s]"
      ]
     },
     "metadata": {},
     "output_type": "display_data"
    },
    {
     "data": {
      "application/vnd.jupyter.widget-view+json": {
       "model_id": "8192d1d38e194866bc92501ade39014d",
       "version_major": 2,
       "version_minor": 0
      },
      "text/plain": [
       "0it [00:00, ?it/s]"
      ]
     },
     "metadata": {},
     "output_type": "display_data"
    },
    {
     "data": {
      "application/vnd.jupyter.widget-view+json": {
       "model_id": "fe11f9ba58214ddab8b716c5e026d9da",
       "version_major": 2,
       "version_minor": 0
      },
      "text/plain": [
       "0it [00:00, ?it/s]"
      ]
     },
     "metadata": {},
     "output_type": "display_data"
    }
   ],
   "source": [
    "preds.reset_index(drop=True, inplace=True)\n",
    "standing = merge_polys(preds[preds.label == 1].copy(), 0.2)\n",
    "fallen = merge_polys(preds[preds.label == 2].copy(), 0.2)\n",
    "standing = merge_polys(standing, 0.2)\n",
    "fallen = merge_polys(fallen, 0.2)\n",
    "preds_merged = pd.concat((standing, fallen))"
   ]
  },
  {
   "cell_type": "code",
   "execution_count": 154,
   "id": "78a0023f",
   "metadata": {
    "ExecuteTime": {
     "end_time": "2022-03-21T12:54:58.851881Z",
     "start_time": "2022-03-21T12:54:58.804590Z"
    }
   },
   "outputs": [
    {
     "data": {
      "text/plain": [
       "groundwood     4473\n",
       "uprightwood    1312\n",
       "Name: layer, dtype: int64"
      ]
     },
     "execution_count": 154,
     "metadata": {},
     "output_type": "execute_result"
    }
   ],
   "source": [
    "preds_merged['layer'] = preds_merged.apply(lambda row: 'groundwood' if row.label == 2 else 'uprightwood', axis=1)\n",
    "preds_merged.layer.value_counts()"
   ]
  },
  {
   "cell_type": "code",
   "execution_count": 162,
   "id": "4f7a8642",
   "metadata": {
    "ExecuteTime": {
     "end_time": "2022-03-21T13:17:04.882015Z",
     "start_time": "2022-03-21T13:16:57.783892Z"
    }
   },
   "outputs": [],
   "source": [
    "preds_merged.to_file('../results/sudenpesankangas/spk_merged.geojson')"
   ]
  }
 ],
 "metadata": {
  "kernelspec": {
   "display_name": "Python 3",
   "language": "python",
   "name": "python3"
  },
  "language_info": {
   "codemirror_mode": {
    "name": "ipython",
    "version": 3
   },
   "file_extension": ".py",
   "mimetype": "text/x-python",
   "name": "python",
   "nbconvert_exporter": "python",
   "pygments_lexer": "ipython3",
   "version": "3.9.10"
  },
  "latex_envs": {
   "LaTeX_envs_menu_present": true,
   "autoclose": false,
   "autocomplete": true,
   "bibliofile": "biblio.bib",
   "cite_by": "apalike",
   "current_citInitial": 1,
   "eqLabelWithNumbers": true,
   "eqNumInitial": 1,
   "hotkeys": {
    "equation": "Ctrl-E",
    "itemize": "Ctrl-I"
   },
   "labels_anchors": false,
   "latex_user_defs": false,
   "report_style_numbering": false,
   "user_envs_cfg": false
  },
  "toc": {
   "base_numbering": 1,
   "nav_menu": {},
   "number_sections": true,
   "sideBar": true,
   "skip_h1_title": false,
   "title_cell": "Table of Contents",
   "title_sidebar": "Contents",
   "toc_cell": false,
   "toc_position": {},
   "toc_section_display": true,
   "toc_window_display": false
  }
 },
 "nbformat": 4,
 "nbformat_minor": 5
}
